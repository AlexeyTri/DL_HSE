{
  "cells": [
    {
      "cell_type": "markdown",
      "metadata": {
        "id": "view-in-github",
        "colab_type": "text"
      },
      "source": [
        "<a href=\"https://colab.research.google.com/github/AlexeyTri/DL_HSE/blob/main/DL_seminar_2.ipynb\" target=\"_parent\"><img src=\"https://colab.research.google.com/assets/colab-badge.svg\" alt=\"Open In Colab\"/></a>"
      ]
    },
    {
      "cell_type": "code",
      "execution_count": 1,
      "id": "a28c1f5d",
      "metadata": {
        "id": "a28c1f5d"
      },
      "outputs": [],
      "source": [
        "import torch"
      ]
    },
    {
      "cell_type": "code",
      "execution_count": 42,
      "id": "bba6e733",
      "metadata": {
        "colab": {
          "base_uri": "https://localhost:8080/"
        },
        "id": "bba6e733",
        "outputId": "989b81d8-f949-45f0-ab28-dc074e3e6891"
      },
      "outputs": [
        {
          "output_type": "execute_result",
          "data": {
            "text/plain": [
              "tensor([[1., 2., 3.],\n",
              "        [4., 5., 6.]], dtype=torch.float16)"
            ]
          },
          "metadata": {},
          "execution_count": 42
        }
      ],
      "source": [
        "a = torch.tensor([\n",
        "    [1., 2., 3.],\n",
        "    [4., 5., 6.]\n",
        "], dtype=torch.float16)\n",
        "a"
      ]
    },
    {
      "cell_type": "code",
      "execution_count": 3,
      "id": "8c387774",
      "metadata": {
        "colab": {
          "base_uri": "https://localhost:8080/"
        },
        "id": "8c387774",
        "outputId": "1de81f41-9b4f-42ce-8e96-e07f46227c0f"
      },
      "outputs": [
        {
          "output_type": "execute_result",
          "data": {
            "text/plain": [
              "torch.Tensor"
            ]
          },
          "metadata": {},
          "execution_count": 3
        }
      ],
      "source": [
        "type(a)"
      ]
    },
    {
      "cell_type": "code",
      "execution_count": 4,
      "id": "c0b0c0a1",
      "metadata": {
        "colab": {
          "base_uri": "https://localhost:8080/"
        },
        "id": "c0b0c0a1",
        "outputId": "cfeb93aa-8131-472b-fc66-3cd691e5ea12"
      },
      "outputs": [
        {
          "output_type": "execute_result",
          "data": {
            "text/plain": [
              "torch.float16"
            ]
          },
          "metadata": {},
          "execution_count": 4
        }
      ],
      "source": [
        "a.dtype"
      ]
    },
    {
      "cell_type": "code",
      "execution_count": 43,
      "id": "491c7093",
      "metadata": {
        "colab": {
          "base_uri": "https://localhost:8080/"
        },
        "id": "491c7093",
        "outputId": "8787b3f5-a774-4a84-af29-026ffd80553c"
      },
      "outputs": [
        {
          "output_type": "execute_result",
          "data": {
            "text/plain": [
              "tensor([[ 0.9544,  0.2353, -1.0979, -1.2303],\n",
              "        [-0.2692,  0.2670, -0.0200,  1.1370],\n",
              "        [-0.0538, -1.1717, -0.7350, -1.0937]])"
            ]
          },
          "metadata": {},
          "execution_count": 43
        }
      ],
      "source": [
        "a = torch.randn(3, 4)\n",
        "a"
      ]
    },
    {
      "cell_type": "code",
      "execution_count": 44,
      "id": "28a4a3b3",
      "metadata": {
        "colab": {
          "base_uri": "https://localhost:8080/"
        },
        "id": "28a4a3b3",
        "outputId": "989b0d6f-85c2-4076-dd45-8976632cd38c"
      },
      "outputs": [
        {
          "output_type": "execute_result",
          "data": {
            "text/plain": [
              "torch.Size([3, 4])"
            ]
          },
          "metadata": {},
          "execution_count": 44
        }
      ],
      "source": [
        "a.shape"
      ]
    },
    {
      "cell_type": "code",
      "execution_count": 45,
      "id": "dd82d368",
      "metadata": {
        "colab": {
          "base_uri": "https://localhost:8080/"
        },
        "id": "dd82d368",
        "outputId": "88d6a176-57d7-4219-c6d5-56bccdd30e66"
      },
      "outputs": [
        {
          "output_type": "execute_result",
          "data": {
            "text/plain": [
              "tensor([[0.2645, 0.8084, 0.8258, 0.4429],\n",
              "        [0.9371, 0.6468, 0.3026, 0.1279],\n",
              "        [0.3717, 0.4064, 0.1751, 0.6846]])"
            ]
          },
          "metadata": {},
          "execution_count": 45
        }
      ],
      "source": [
        "b = torch.rand(3, 4)\n",
        "b"
      ]
    },
    {
      "cell_type": "code",
      "execution_count": 8,
      "id": "58fdf894",
      "metadata": {
        "colab": {
          "base_uri": "https://localhost:8080/"
        },
        "id": "58fdf894",
        "outputId": "6510ff81-66e1-451e-c5f1-621fa8d18439"
      },
      "outputs": [
        {
          "output_type": "execute_result",
          "data": {
            "text/plain": [
              "tensor([[ 1.2170, -0.1632,  0.2637,  0.1519],\n",
              "        [-0.9282,  0.8401,  0.3639, -0.1437],\n",
              "        [ 1.4639, -0.3364,  0.5838, -0.9892]])"
            ]
          },
          "metadata": {},
          "execution_count": 8
        }
      ],
      "source": [
        "a + b"
      ]
    },
    {
      "cell_type": "code",
      "execution_count": 9,
      "id": "b84480e8",
      "metadata": {
        "colab": {
          "base_uri": "https://localhost:8080/"
        },
        "id": "b84480e8",
        "outputId": "00abdcaa-e305-42ad-bab5-18d7d7488e8e"
      },
      "outputs": [
        {
          "output_type": "execute_result",
          "data": {
            "text/plain": [
              "tensor([[ 0.3692, -0.0817,  0.0085, -0.0330],\n",
              "        [-0.7055, -0.0530,  0.0081, -0.2855],\n",
              "        [ 0.2274, -0.5547,  0.0465, -0.0905]])"
            ]
          },
          "metadata": {},
          "execution_count": 9
        }
      ],
      "source": [
        "a * b"
      ]
    },
    {
      "cell_type": "code",
      "execution_count": 10,
      "id": "3737301b",
      "metadata": {
        "colab": {
          "base_uri": "https://localhost:8080/"
        },
        "id": "3737301b",
        "outputId": "39789955-94ec-4eee-df5a-f4f2669616ae"
      },
      "outputs": [
        {
          "output_type": "execute_result",
          "data": {
            "text/plain": [
              "tensor([[ 0.2872, -0.2981,  0.0298, -0.0918],\n",
              "        [-0.6027, -0.0240,  0.0171, -0.3595],\n",
              "        [ 0.8046, -0.4426,  0.4268, -0.8078]])"
            ]
          },
          "metadata": {},
          "execution_count": 10
        }
      ],
      "source": [
        "torch.sin(a) / torch.exp(b)"
      ]
    },
    {
      "cell_type": "code",
      "execution_count": 46,
      "id": "f9411d00",
      "metadata": {
        "id": "f9411d00"
      },
      "outputs": [],
      "source": [
        "a = torch.randn(5, 2)\n",
        "b = torch.randn(2, 4)"
      ]
    },
    {
      "cell_type": "code",
      "execution_count": 12,
      "id": "ba18faea",
      "metadata": {
        "colab": {
          "base_uri": "https://localhost:8080/"
        },
        "id": "ba18faea",
        "outputId": "5e7e5a8d-b527-466e-fc78-2b186b598d6a"
      },
      "outputs": [
        {
          "output_type": "execute_result",
          "data": {
            "text/plain": [
              "torch.Size([5, 4])"
            ]
          },
          "metadata": {},
          "execution_count": 12
        }
      ],
      "source": [
        "(a @ b).shape"
      ]
    },
    {
      "cell_type": "code",
      "execution_count": 74,
      "id": "f70b65c2",
      "metadata": {
        "colab": {
          "base_uri": "https://localhost:8080/"
        },
        "id": "f70b65c2",
        "outputId": "7881744f-ffd1-4408-cd8e-98ad8501f329"
      },
      "outputs": [
        {
          "output_type": "execute_result",
          "data": {
            "text/plain": [
              "tensor([1.8169], requires_grad=True)"
            ]
          },
          "metadata": {},
          "execution_count": 74
        }
      ],
      "source": [
        "a = torch.randn(1, requires_grad=True)\n",
        "a"
      ]
    },
    {
      "cell_type": "code",
      "execution_count": 75,
      "id": "07dc65e9",
      "metadata": {
        "colab": {
          "base_uri": "https://localhost:8080/"
        },
        "id": "07dc65e9",
        "outputId": "5ed2d69e-f03d-4142-ebff-93b5fa64649f"
      },
      "outputs": [
        {
          "output_type": "execute_result",
          "data": {
            "text/plain": [
              "tensor(3.3012, grad_fn=<SumBackward0>)"
            ]
          },
          "metadata": {},
          "execution_count": 75
        }
      ],
      "source": [
        "l = (a ** 2).sum()\n",
        "l"
      ]
    },
    {
      "cell_type": "code",
      "execution_count": 49,
      "id": "df89d58b",
      "metadata": {
        "colab": {
          "base_uri": "https://localhost:8080/"
        },
        "id": "df89d58b",
        "outputId": "5861273c-86ab-4b22-b22d-b280345b1b0a"
      },
      "outputs": [
        {
          "output_type": "execute_result",
          "data": {
            "text/plain": [
              "torch.Size([])"
            ]
          },
          "metadata": {},
          "execution_count": 49
        }
      ],
      "source": [
        "l.shape"
      ]
    },
    {
      "cell_type": "code",
      "execution_count": 76,
      "id": "172b2d47",
      "metadata": {
        "id": "172b2d47"
      },
      "outputs": [],
      "source": [
        "l.backward()"
      ]
    },
    {
      "cell_type": "code",
      "execution_count": 77,
      "id": "7ad7e642",
      "metadata": {
        "colab": {
          "base_uri": "https://localhost:8080/"
        },
        "id": "7ad7e642",
        "outputId": "d18e4c48-235f-405d-cb8e-896ac75dcae7"
      },
      "outputs": [
        {
          "output_type": "execute_result",
          "data": {
            "text/plain": [
              "tensor([3.6338])"
            ]
          },
          "metadata": {},
          "execution_count": 77
        }
      ],
      "source": [
        "a.grad"
      ]
    },
    {
      "cell_type": "code",
      "source": [
        "from google.colab import drive\n",
        "drive.mount('/content/drive', force_remount=True)"
      ],
      "metadata": {
        "colab": {
          "base_uri": "https://localhost:8080/"
        },
        "id": "2fTAaKVnfwh1",
        "outputId": "f8457dc0-79f5-4e1e-f166-9ce1fb14e4da"
      },
      "id": "2fTAaKVnfwh1",
      "execution_count": 80,
      "outputs": [
        {
          "output_type": "stream",
          "name": "stdout",
          "text": [
            "Mounted at /content/drive\n"
          ]
        }
      ]
    },
    {
      "cell_type": "code",
      "execution_count": 67,
      "id": "c97a827d",
      "metadata": {
        "id": "c97a827d"
      },
      "outputs": [],
      "source": [
        "a = torch.randn(2, 3, requires_grad=True)\n",
        "b = torch.randn(2, 3, requires_grad=False)\n",
        "c = torch.randn(2, 3, requires_grad=True)"
      ]
    },
    {
      "cell_type": "code",
      "execution_count": 68,
      "id": "ede26dcd",
      "metadata": {
        "colab": {
          "base_uri": "https://localhost:8080/"
        },
        "id": "ede26dcd",
        "outputId": "4fd50791-0d89-4c7b-9b25-ec42124c6335"
      },
      "outputs": [
        {
          "output_type": "execute_result",
          "data": {
            "text/plain": [
              "tensor(39.6613, grad_fn=<ProdBackward1>)"
            ]
          },
          "metadata": {},
          "execution_count": 68
        }
      ],
      "source": [
        "loss = (torch.cos(a / 3) + torch.sqrt(torch.abs(b * c))).sum(dim=0).prod(dim=0)\n",
        "loss"
      ]
    },
    {
      "cell_type": "code",
      "execution_count": 20,
      "id": "ff33fd4c",
      "metadata": {
        "id": "ff33fd4c"
      },
      "outputs": [],
      "source": [
        "loss.backward()"
      ]
    },
    {
      "cell_type": "code",
      "execution_count": 21,
      "id": "e21ff357",
      "metadata": {
        "colab": {
          "base_uri": "https://localhost:8080/"
        },
        "id": "e21ff357",
        "outputId": "b131462c-4a8a-4ac1-a5a5-648c533bdb39"
      },
      "outputs": [
        {
          "output_type": "execute_result",
          "data": {
            "text/plain": [
              "tensor([[-2.2473, -3.8659, -1.9792],\n",
              "        [-0.5298, -0.7782, -2.7216]])"
            ]
          },
          "metadata": {},
          "execution_count": 21
        }
      ],
      "source": [
        "a.grad"
      ]
    },
    {
      "cell_type": "code",
      "execution_count": 22,
      "id": "2b28c20d",
      "metadata": {
        "colab": {
          "base_uri": "https://localhost:8080/"
        },
        "id": "2b28c20d",
        "outputId": "b27df4bc-b7fc-4530-f8a2-029d91755301"
      },
      "outputs": [
        {
          "output_type": "execute_result",
          "data": {
            "text/plain": [
              "tensor([[  4.8032,  -7.1500, -11.8380],\n",
              "        [ -9.0518,  -9.8907, -13.9398]])"
            ]
          },
          "metadata": {},
          "execution_count": 22
        }
      ],
      "source": [
        "c.grad"
      ]
    },
    {
      "cell_type": "code",
      "execution_count": 23,
      "id": "df3b86a8",
      "metadata": {
        "id": "df3b86a8"
      },
      "outputs": [],
      "source": [
        "b.grad"
      ]
    },
    {
      "cell_type": "code",
      "execution_count": 24,
      "id": "106f9a1d",
      "metadata": {
        "id": "106f9a1d"
      },
      "outputs": [],
      "source": [
        "device = torch.device('cpu')\n",
        "#device = torch.device('mps')\n",
        "#device"
      ]
    },
    {
      "cell_type": "markdown",
      "source": [
        "после выюра GPU смотрим какая видеокарта нам доступна"
      ],
      "metadata": {
        "id": "2wxnSpTinaG_"
      },
      "id": "2wxnSpTinaG_"
    },
    {
      "cell_type": "code",
      "source": [
        "!nvidia-smi"
      ],
      "metadata": {
        "colab": {
          "base_uri": "https://localhost:8080/"
        },
        "id": "ovRpvcnbl02I",
        "outputId": "7bbe1990-d045-43c4-b9a1-23cb9cf795de"
      },
      "id": "ovRpvcnbl02I",
      "execution_count": 1,
      "outputs": [
        {
          "output_type": "stream",
          "name": "stdout",
          "text": [
            "Fri Apr 21 16:19:58 2023       \n",
            "+-----------------------------------------------------------------------------+\n",
            "| NVIDIA-SMI 525.85.12    Driver Version: 525.85.12    CUDA Version: 12.0     |\n",
            "|-------------------------------+----------------------+----------------------+\n",
            "| GPU  Name        Persistence-M| Bus-Id        Disp.A | Volatile Uncorr. ECC |\n",
            "| Fan  Temp  Perf  Pwr:Usage/Cap|         Memory-Usage | GPU-Util  Compute M. |\n",
            "|                               |                      |               MIG M. |\n",
            "|===============================+======================+======================|\n",
            "|   0  Tesla T4            Off  | 00000000:00:04.0 Off |                    0 |\n",
            "| N/A   59C    P8    13W /  70W |      0MiB / 15360MiB |      0%      Default |\n",
            "|                               |                      |                  N/A |\n",
            "+-------------------------------+----------------------+----------------------+\n",
            "                                                                               \n",
            "+-----------------------------------------------------------------------------+\n",
            "| Processes:                                                                  |\n",
            "|  GPU   GI   CI        PID   Type   Process name                  GPU Memory |\n",
            "|        ID   ID                                                   Usage      |\n",
            "|=============================================================================|\n",
            "|  No running processes found                                                 |\n",
            "+-----------------------------------------------------------------------------+\n"
          ]
        }
      ]
    },
    {
      "cell_type": "code",
      "source": [
        "device = torch.device('cuda:0' if torch.cuda.is_available() else 'cpu')"
      ],
      "metadata": {
        "id": "oPoJew4enjOB"
      },
      "id": "oPoJew4enjOB",
      "execution_count": 4,
      "outputs": []
    },
    {
      "cell_type": "code",
      "execution_count": 5,
      "id": "37625c94",
      "metadata": {
        "id": "37625c94"
      },
      "outputs": [],
      "source": [
        "A = torch.randn(10000, 10000)\n",
        "B = torch.randn(10000, 10000)"
      ]
    },
    {
      "cell_type": "code",
      "source": [
        "A.device"
      ],
      "metadata": {
        "colab": {
          "base_uri": "https://localhost:8080/"
        },
        "id": "WWMzFN5CoIZG",
        "outputId": "d89048a1-8adb-4a6f-8a6e-f88246af9d48"
      },
      "id": "WWMzFN5CoIZG",
      "execution_count": 7,
      "outputs": [
        {
          "output_type": "execute_result",
          "data": {
            "text/plain": [
              "device(type='cpu')"
            ]
          },
          "metadata": {},
          "execution_count": 7
        }
      ]
    },
    {
      "cell_type": "code",
      "execution_count": 8,
      "id": "345561fd",
      "metadata": {
        "colab": {
          "base_uri": "https://localhost:8080/"
        },
        "id": "345561fd",
        "outputId": "d8310fd4-b88c-43b5-e637-4743a4e8e530"
      },
      "outputs": [
        {
          "output_type": "stream",
          "name": "stdout",
          "text": [
            "CPU times: user 16.2 s, sys: 208 ms, total: 16.4 s\n",
            "Wall time: 16.4 s\n"
          ]
        },
        {
          "output_type": "execute_result",
          "data": {
            "text/plain": [
              "tensor([[ -91.4831,  102.8736,  -33.7411,  ..., -114.4666,   19.7804,\n",
              "           46.7449],\n",
              "        [-207.9673,  -47.6254,   62.8661,  ...,   85.0518, -245.6175,\n",
              "          -79.7172],\n",
              "        [-104.3959,   66.9630, -146.4498,  ..., -208.2020,    6.3920,\n",
              "         -111.8621],\n",
              "        ...,\n",
              "        [  45.4070,   96.0092,    2.1880,  ...,   -6.3115,  -62.8318,\n",
              "           47.6873],\n",
              "        [ -33.0139, -115.8897,   51.1560,  ...,  -54.0518,   63.1564,\n",
              "         -157.9431],\n",
              "        [   4.7602,    5.7944, -141.7197,  ...,  -63.8831,  152.3646,\n",
              "          -29.2544]])"
            ]
          },
          "metadata": {},
          "execution_count": 8
        }
      ],
      "source": [
        "%%time\n",
        "A @ B"
      ]
    },
    {
      "cell_type": "code",
      "execution_count": 9,
      "id": "8cbec839",
      "metadata": {
        "id": "8cbec839"
      },
      "outputs": [],
      "source": [
        "A = A.to(device)\n",
        "B = B.to(device)"
      ]
    },
    {
      "cell_type": "code",
      "execution_count": 10,
      "id": "2cef4ce2",
      "metadata": {
        "colab": {
          "base_uri": "https://localhost:8080/"
        },
        "id": "2cef4ce2",
        "outputId": "789b570f-7d86-4bad-a849-b2e539c31bee"
      },
      "outputs": [
        {
          "output_type": "stream",
          "name": "stdout",
          "text": [
            "CPU times: user 418 ms, sys: 252 ms, total: 670 ms\n",
            "Wall time: 2.27 s\n"
          ]
        },
        {
          "output_type": "execute_result",
          "data": {
            "text/plain": [
              "tensor([[ -91.4831,  102.8736,  -33.7410,  ..., -114.4667,   19.7804,\n",
              "           46.7453],\n",
              "        [-207.9681,  -47.6254,   62.8659,  ...,   85.0518, -245.6175,\n",
              "          -79.7173],\n",
              "        [-104.3952,   66.9633, -146.4497,  ..., -208.2017,    6.3923,\n",
              "         -111.8620],\n",
              "        ...,\n",
              "        [  45.4070,   96.0093,    2.1880,  ...,   -6.3116,  -62.8318,\n",
              "           47.6871],\n",
              "        [ -33.0140, -115.8893,   51.1562,  ...,  -54.0517,   63.1564,\n",
              "         -157.9433],\n",
              "        [   4.7602,    5.7943, -141.7199,  ...,  -63.8829,  152.3645,\n",
              "          -29.2543]], device='cuda:0')"
            ]
          },
          "metadata": {},
          "execution_count": 10
        }
      ],
      "source": [
        "%%time\n",
        "A @ B"
      ]
    },
    {
      "cell_type": "code",
      "execution_count": 11,
      "id": "5c217936",
      "metadata": {
        "colab": {
          "base_uri": "https://localhost:8080/"
        },
        "id": "5c217936",
        "outputId": "de63ec14-2966-40f0-cc8c-fd7367241242"
      },
      "outputs": [
        {
          "output_type": "stream",
          "name": "stdout",
          "text": [
            "ls: cannot access '/Users/isadrtdinov/datasets/': No such file or directory\n"
          ]
        }
      ],
      "source": [
        "!ls /Users/isadrtdinov/datasets/"
      ]
    },
    {
      "cell_type": "code",
      "execution_count": 2,
      "id": "386300a5",
      "metadata": {
        "id": "386300a5"
      },
      "outputs": [],
      "source": [
        "from torchvision.datasets import MNIST"
      ]
    },
    {
      "cell_type": "code",
      "execution_count": 3,
      "id": "c587f5d7",
      "metadata": {
        "colab": {
          "base_uri": "https://localhost:8080/"
        },
        "id": "c587f5d7",
        "outputId": "ce0f6c47-ab77-453b-934d-de38d0b8d23e"
      },
      "outputs": [
        {
          "output_type": "stream",
          "name": "stdout",
          "text": [
            "Downloading http://yann.lecun.com/exdb/mnist/train-images-idx3-ubyte.gz\n",
            "Downloading http://yann.lecun.com/exdb/mnist/train-images-idx3-ubyte.gz to /root/datasets/mnist/MNIST/raw/train-images-idx3-ubyte.gz\n"
          ]
        },
        {
          "output_type": "stream",
          "name": "stderr",
          "text": [
            "100%|██████████| 9912422/9912422 [00:00<00:00, 226453396.03it/s]"
          ]
        },
        {
          "output_type": "stream",
          "name": "stdout",
          "text": [
            "Extracting /root/datasets/mnist/MNIST/raw/train-images-idx3-ubyte.gz to /root/datasets/mnist/MNIST/raw\n"
          ]
        },
        {
          "output_type": "stream",
          "name": "stderr",
          "text": [
            "\n"
          ]
        },
        {
          "output_type": "stream",
          "name": "stdout",
          "text": [
            "\n",
            "Downloading http://yann.lecun.com/exdb/mnist/train-labels-idx1-ubyte.gz\n",
            "Downloading http://yann.lecun.com/exdb/mnist/train-labels-idx1-ubyte.gz to /root/datasets/mnist/MNIST/raw/train-labels-idx1-ubyte.gz\n"
          ]
        },
        {
          "output_type": "stream",
          "name": "stderr",
          "text": [
            "100%|██████████| 28881/28881 [00:00<00:00, 43032218.05it/s]\n"
          ]
        },
        {
          "output_type": "stream",
          "name": "stdout",
          "text": [
            "Extracting /root/datasets/mnist/MNIST/raw/train-labels-idx1-ubyte.gz to /root/datasets/mnist/MNIST/raw\n",
            "\n",
            "Downloading http://yann.lecun.com/exdb/mnist/t10k-images-idx3-ubyte.gz\n",
            "Downloading http://yann.lecun.com/exdb/mnist/t10k-images-idx3-ubyte.gz to /root/datasets/mnist/MNIST/raw/t10k-images-idx3-ubyte.gz\n"
          ]
        },
        {
          "output_type": "stream",
          "name": "stderr",
          "text": [
            "100%|██████████| 1648877/1648877 [00:00<00:00, 145763423.61it/s]"
          ]
        },
        {
          "output_type": "stream",
          "name": "stdout",
          "text": [
            "Extracting /root/datasets/mnist/MNIST/raw/t10k-images-idx3-ubyte.gz to /root/datasets/mnist/MNIST/raw\n",
            "\n",
            "Downloading http://yann.lecun.com/exdb/mnist/t10k-labels-idx1-ubyte.gz\n",
            "Downloading http://yann.lecun.com/exdb/mnist/t10k-labels-idx1-ubyte.gz to /root/datasets/mnist/MNIST/raw/t10k-labels-idx1-ubyte.gz\n"
          ]
        },
        {
          "output_type": "stream",
          "name": "stderr",
          "text": [
            "\n",
            "100%|██████████| 4542/4542 [00:00<00:00, 19559064.44it/s]\n"
          ]
        },
        {
          "output_type": "stream",
          "name": "stdout",
          "text": [
            "Extracting /root/datasets/mnist/MNIST/raw/t10k-labels-idx1-ubyte.gz to /root/datasets/mnist/MNIST/raw\n",
            "\n"
          ]
        }
      ],
      "source": [
        "train_set = MNIST(root='~/datasets/mnist', train=True, download=True)\n",
        "test_set = MNIST(root='~/datasets/mnist', train=False, download=True)"
      ]
    },
    {
      "cell_type": "code",
      "execution_count": 4,
      "id": "afe57296",
      "metadata": {
        "colab": {
          "base_uri": "https://localhost:8080/"
        },
        "id": "afe57296",
        "outputId": "d6c6f2c3-8725-4e92-9c99-28839f9ca6e7"
      },
      "outputs": [
        {
          "output_type": "execute_result",
          "data": {
            "text/plain": [
              "60000"
            ]
          },
          "metadata": {},
          "execution_count": 4
        }
      ],
      "source": [
        "len(train_set)"
      ]
    },
    {
      "cell_type": "code",
      "execution_count": 5,
      "id": "0b68b740",
      "metadata": {
        "id": "0b68b740"
      },
      "outputs": [],
      "source": [
        "out = train_set[12675]"
      ]
    },
    {
      "cell_type": "code",
      "execution_count": 6,
      "id": "984e8caa",
      "metadata": {
        "colab": {
          "base_uri": "https://localhost:8080/"
        },
        "id": "984e8caa",
        "outputId": "a15d2055-b88b-4fc8-ee7c-85ce11eb7cd8"
      },
      "outputs": [
        {
          "output_type": "execute_result",
          "data": {
            "text/plain": [
              "(<PIL.Image.Image image mode=L size=28x28 at 0x7FECF1C7AC40>, 4)"
            ]
          },
          "metadata": {},
          "execution_count": 6
        }
      ],
      "source": [
        "out"
      ]
    },
    {
      "cell_type": "code",
      "execution_count": 7,
      "id": "a7d3cbaa",
      "metadata": {
        "colab": {
          "base_uri": "https://localhost:8080/"
        },
        "id": "a7d3cbaa",
        "outputId": "5b6cabee-e80a-402f-9d39-8a042126c4c9"
      },
      "outputs": [
        {
          "output_type": "execute_result",
          "data": {
            "text/plain": [
              "torch.Size([60000, 28, 28])"
            ]
          },
          "metadata": {},
          "execution_count": 7
        }
      ],
      "source": [
        "train_set.data.shape"
      ]
    },
    {
      "cell_type": "code",
      "execution_count": 18,
      "id": "ba93aaa7",
      "metadata": {
        "colab": {
          "base_uri": "https://localhost:8080/",
          "height": 317
        },
        "id": "ba93aaa7",
        "outputId": "b6cc04ba-be80-49f6-bd81-8c259f6d0463"
      },
      "outputs": [
        {
          "output_type": "execute_result",
          "data": {
            "text/plain": [
              "<PIL.Image.Image image mode=L size=300x300 at 0x7FECF3AD6250>"
            ],
            "image/png": "[encoded data removed]"
          },
          "metadata": {},
          "execution_count": 18
        }
      ],
      "source": [
        "out[0].resize((300, 300))"
      ]
    },
    {
      "cell_type": "code",
      "execution_count": 34,
      "id": "d551e2ce",
      "metadata": {
        "id": "d551e2ce"
      },
      "outputs": [],
      "source": [
        "torch.from_numpy?"
      ]
    },
    {
      "cell_type": "code",
      "execution_count": 20,
      "id": "7452184f",
      "metadata": {
        "id": "7452184f"
      },
      "outputs": [],
      "source": [
        "import torchvision.transforms as T\n",
        "from torch.utils.data import DataLoader"
      ]
    },
    {
      "cell_type": "code",
      "execution_count": 119,
      "id": "2941aa09",
      "metadata": {
        "id": "2941aa09"
      },
      "outputs": [],
      "source": [
        "transform = T.Compose([\n",
        "    T.ToTensor(),\n",
        "    T.Resize(28),\n",
        "])"
      ]
    },
    {
      "cell_type": "code",
      "execution_count": 120,
      "id": "229cd766",
      "metadata": {
        "id": "229cd766"
      },
      "outputs": [],
      "source": [
        "train_set = MNIST(root='~/datasets/mnist', transform=transform, train=True, download=True)\n",
        "test_set = MNIST(root='~/datasets/mnist', transform=transform, train=False, download=True)"
      ]
    },
    {
      "cell_type": "code",
      "execution_count": 27,
      "id": "681d2fad",
      "metadata": {
        "colab": {
          "base_uri": "https://localhost:8080/"
        },
        "id": "681d2fad",
        "outputId": "f3bc1db4-340f-4b34-cd9d-538012707fd1"
      },
      "outputs": [
        {
          "output_type": "stream",
          "name": "stderr",
          "text": [
            "/usr/local/lib/python3.9/dist-packages/torchvision/transforms/functional.py:1603: UserWarning: The default value of the antialias parameter of all the resizing transforms (Resize(), RandomResizedCrop(), etc.) will change from None to True in v0.17, in order to be consistent across the PIL and Tensor backends. To suppress this warning, directly pass antialias=True (recommended, future default), antialias=None (current default, which means False for Tensors and True for PIL), or antialias=False (only works on Tensors - PIL will still use antialiasing). This also applies if you are using the inference transforms from the models weights: update the call to weights.transforms(antialias=True).\n",
            "  warnings.warn(\n"
          ]
        }
      ],
      "source": [
        "out = train_set[12675]"
      ]
    },
    {
      "cell_type": "code",
      "execution_count": 35,
      "id": "865ef60d",
      "metadata": {
        "colab": {
          "base_uri": "https://localhost:8080/"
        },
        "id": "865ef60d",
        "outputId": "ac64eee9-176a-445b-a07c-011cdf90bc6c"
      },
      "outputs": [
        {
          "output_type": "execute_result",
          "data": {
            "text/plain": [
              "(tensor([[[0., 0., 0.,  ..., 0., 0., 0.],\n",
              "          [0., 0., 0.,  ..., 0., 0., 0.],\n",
              "          [0., 0., 0.,  ..., 0., 0., 0.],\n",
              "          ...,\n",
              "          [0., 0., 0.,  ..., 0., 0., 0.],\n",
              "          [0., 0., 0.,  ..., 0., 0., 0.],\n",
              "          [0., 0., 0.,  ..., 0., 0., 0.]]]),\n",
              " 4)"
            ]
          },
          "metadata": {},
          "execution_count": 35
        }
      ],
      "source": [
        "out"
      ]
    },
    {
      "cell_type": "code",
      "execution_count": 29,
      "id": "d3f61834",
      "metadata": {
        "scrolled": false,
        "colab": {
          "base_uri": "https://localhost:8080/"
        },
        "id": "d3f61834",
        "outputId": "c0dd5b2d-b2be-498d-b09b-663540f23f9c"
      },
      "outputs": [
        {
          "output_type": "execute_result",
          "data": {
            "text/plain": [
              "tensor([[[0., 0., 0.,  ..., 0., 0., 0.],\n",
              "         [0., 0., 0.,  ..., 0., 0., 0.],\n",
              "         [0., 0., 0.,  ..., 0., 0., 0.],\n",
              "         ...,\n",
              "         [0., 0., 0.,  ..., 0., 0., 0.],\n",
              "         [0., 0., 0.,  ..., 0., 0., 0.],\n",
              "         [0., 0., 0.,  ..., 0., 0., 0.]]])"
            ]
          },
          "metadata": {},
          "execution_count": 29
        }
      ],
      "source": [
        "out[0]"
      ]
    },
    {
      "cell_type": "code",
      "execution_count": 36,
      "id": "cb73df41",
      "metadata": {
        "colab": {
          "base_uri": "https://localhost:8080/",
          "height": 49
        },
        "id": "cb73df41",
        "outputId": "8f4518f4-452d-4376-ed42-3f50e047a0bd"
      },
      "outputs": [
        {
          "output_type": "execute_result",
          "data": {
            "text/plain": [
              "<PIL.Image.Image image mode=L size=32x32 at 0x7FEC2F969FA0>"
            ],
            "image/png": "[encoded data removed]"
          },
          "metadata": {},
          "execution_count": 36
        }
      ],
      "source": [
        "to_image = T.ToPILImage()\n",
        "to_image(out[0])"
      ]
    },
    {
      "cell_type": "code",
      "execution_count": 38,
      "id": "7171e4e1",
      "metadata": {
        "id": "7171e4e1"
      },
      "outputs": [],
      "source": [
        "DataLoader?"
      ]
    },
    {
      "cell_type": "code",
      "execution_count": 121,
      "id": "6e462979",
      "metadata": {
        "id": "6e462979"
      },
      "outputs": [],
      "source": [
        "train_loader = DataLoader(train_set, batch_size=64, shuffle=True, num_workers=4, pin_memory=True)\n",
        "test_loader = DataLoader(test_set, batch_size=64, shuffle=False, num_workers=4, pin_memory=True)"
      ]
    },
    {
      "cell_type": "code",
      "execution_count": 122,
      "id": "ec2df309",
      "metadata": {
        "colab": {
          "base_uri": "https://localhost:8080/"
        },
        "id": "ec2df309",
        "outputId": "f859ad13-7241-4ba8-a060-9739cc18d543"
      },
      "outputs": [
        {
          "output_type": "stream",
          "name": "stderr",
          "text": [
            "/usr/local/lib/python3.9/dist-packages/torchvision/transforms/functional.py:1603: UserWarning: The default value of the antialias parameter of all the resizing transforms (Resize(), RandomResizedCrop(), etc.) will change from None to True in v0.17, in order to be consistent across the PIL and Tensor backends. To suppress this warning, directly pass antialias=True (recommended, future default), antialias=None (current default, which means False for Tensors and True for PIL), or antialias=False (only works on Tensors - PIL will still use antialiasing). This also applies if you are using the inference transforms from the models weights: update the call to weights.transforms(antialias=True).\n",
            "  warnings.warn(\n",
            "/usr/local/lib/python3.9/dist-packages/torchvision/transforms/functional.py:1603: UserWarning: The default value of the antialias parameter of all the resizing transforms (Resize(), RandomResizedCrop(), etc.) will change from None to True in v0.17, in order to be consistent across the PIL and Tensor backends. To suppress this warning, directly pass antialias=True (recommended, future default), antialias=None (current default, which means False for Tensors and True for PIL), or antialias=False (only works on Tensors - PIL will still use antialiasing). This also applies if you are using the inference transforms from the models weights: update the call to weights.transforms(antialias=True).\n",
            "  warnings.warn(\n",
            "/usr/local/lib/python3.9/dist-packages/torchvision/transforms/functional.py:1603: UserWarning: The default value of the antialias parameter of all the resizing transforms (Resize(), RandomResizedCrop(), etc.) will change from None to True in v0.17, in order to be consistent across the PIL and Tensor backends. To suppress this warning, directly pass antialias=True (recommended, future default), antialias=None (current default, which means False for Tensors and True for PIL), or antialias=False (only works on Tensors - PIL will still use antialiasing). This also applies if you are using the inference transforms from the models weights: update the call to weights.transforms(antialias=True).\n",
            "  warnings.warn(\n",
            "/usr/local/lib/python3.9/dist-packages/torchvision/transforms/functional.py:1603: UserWarning: The default value of the antialias parameter of all the resizing transforms (Resize(), RandomResizedCrop(), etc.) will change from None to True in v0.17, in order to be consistent across the PIL and Tensor backends. To suppress this warning, directly pass antialias=True (recommended, future default), antialias=None (current default, which means False for Tensors and True for PIL), or antialias=False (only works on Tensors - PIL will still use antialiasing). This also applies if you are using the inference transforms from the models weights: update the call to weights.transforms(antialias=True).\n",
            "  warnings.warn(\n"
          ]
        }
      ],
      "source": [
        "for batch in train_loader:\n",
        "    break"
      ]
    },
    {
      "cell_type": "code",
      "execution_count": 123,
      "id": "a96f59f3",
      "metadata": {
        "colab": {
          "base_uri": "https://localhost:8080/"
        },
        "id": "a96f59f3",
        "outputId": "463af738-012b-465f-ef76-66e3203b67d2"
      },
      "outputs": [
        {
          "output_type": "execute_result",
          "data": {
            "text/plain": [
              "torch.Size([64, 1, 28, 28])"
            ]
          },
          "metadata": {},
          "execution_count": 123
        }
      ],
      "source": [
        "batch[0].shape"
      ]
    },
    {
      "cell_type": "code",
      "execution_count": 41,
      "id": "1479286b",
      "metadata": {
        "colab": {
          "base_uri": "https://localhost:8080/"
        },
        "id": "1479286b",
        "outputId": "2fedc61d-6cf1-4bd7-990f-0c5898d2146a"
      },
      "outputs": [
        {
          "output_type": "execute_result",
          "data": {
            "text/plain": [
              "torch.Size([64])"
            ]
          },
          "metadata": {},
          "execution_count": 41
        }
      ],
      "source": [
        "batch[1].shape"
      ]
    },
    {
      "cell_type": "code",
      "source": [
        "from torch import nn"
      ],
      "metadata": {
        "id": "wxSZegath7o1"
      },
      "id": "wxSZegath7o1",
      "execution_count": 81,
      "outputs": []
    },
    {
      "cell_type": "code",
      "source": [
        "class MLP(nn.Module):\n",
        "    def __init__(self):\n",
        "        super().__init__()\n",
        "        self.model = nn.Sequential(\n",
        "            nn.Linear(in_features=28*28, out_features=64),\n",
        "            nn.ReLU(),\n",
        "            nn.Linear(in_features=64, out_features=64),\n",
        "            nn.ReLU(),\n",
        "            nn.Linear(in_features=64, out_features=10)\n",
        "        )\n",
        "    \n",
        "    def forward(self, x):\n",
        "        return self.model(x)"
      ],
      "metadata": {
        "id": "EoyAAiLJik6d"
      },
      "id": "EoyAAiLJik6d",
      "execution_count": 84,
      "outputs": []
    },
    {
      "cell_type": "code",
      "source": [
        "model = MLP()"
      ],
      "metadata": {
        "id": "ar4ItPqtlNfm"
      },
      "id": "ar4ItPqtlNfm",
      "execution_count": 85,
      "outputs": []
    },
    {
      "cell_type": "code",
      "source": [
        "model"
      ],
      "metadata": {
        "colab": {
          "base_uri": "https://localhost:8080/"
        },
        "id": "TYmOukbWlQ_H",
        "outputId": "5aed8b0d-f724-455a-86e5-da3e92118be8"
      },
      "id": "TYmOukbWlQ_H",
      "execution_count": 86,
      "outputs": [
        {
          "output_type": "execute_result",
          "data": {
            "text/plain": [
              "MLP(\n",
              "  (model): Sequential(\n",
              "    (0): Linear(in_features=784, out_features=64, bias=True)\n",
              "    (1): ReLU()\n",
              "    (2): Linear(in_features=64, out_features=64, bias=True)\n",
              "    (3): ReLU()\n",
              "    (4): Linear(in_features=64, out_features=10, bias=True)\n",
              "  )\n",
              ")"
            ]
          },
          "metadata": {},
          "execution_count": 86
        }
      ]
    },
    {
      "cell_type": "code",
      "source": [
        "x = torch.randn(64, 28*28)"
      ],
      "metadata": {
        "id": "BVq4b-K_laPq"
      },
      "id": "BVq4b-K_laPq",
      "execution_count": 89,
      "outputs": []
    },
    {
      "cell_type": "code",
      "source": [
        "y = model(x)"
      ],
      "metadata": {
        "id": "uRc2VOlVlaSX"
      },
      "id": "uRc2VOlVlaSX",
      "execution_count": 90,
      "outputs": []
    },
    {
      "cell_type": "code",
      "source": [
        "y.shape"
      ],
      "metadata": {
        "colab": {
          "base_uri": "https://localhost:8080/"
        },
        "id": "jnfClyjJlaVb",
        "outputId": "d3b3d80e-811e-42e6-f88f-ef2fa8d3e00f"
      },
      "id": "jnfClyjJlaVb",
      "execution_count": 92,
      "outputs": [
        {
          "output_type": "execute_result",
          "data": {
            "text/plain": [
              "torch.Size([64, 10])"
            ]
          },
          "metadata": {},
          "execution_count": 92
        }
      ]
    },
    {
      "cell_type": "code",
      "source": [
        "x[0].unsqueeze(1).squeeze().shape"
      ],
      "metadata": {
        "colab": {
          "base_uri": "https://localhost:8080/"
        },
        "id": "gQ0KeRG3laYK",
        "outputId": "33c654e2-ef1b-4b9e-da97-254cec342864"
      },
      "id": "gQ0KeRG3laYK",
      "execution_count": 96,
      "outputs": [
        {
          "output_type": "execute_result",
          "data": {
            "text/plain": [
              "torch.Size([784])"
            ]
          },
          "metadata": {},
          "execution_count": 96
        }
      ]
    },
    {
      "cell_type": "markdown",
      "source": [
        "теперь модель необходимо оптимизировать"
      ],
      "metadata": {
        "id": "2YFSo7_rmhM-"
      },
      "id": "2YFSo7_rmhM-"
    },
    {
      "cell_type": "code",
      "source": [
        "torch.optim.SGD?"
      ],
      "metadata": {
        "id": "7_Mq173mmbsZ"
      },
      "id": "7_Mq173mmbsZ",
      "execution_count": 97,
      "outputs": []
    },
    {
      "cell_type": "code",
      "source": [
        "for name, param in model.named_parameters():\n",
        "    print(name, param.shape)"
      ],
      "metadata": {
        "colab": {
          "base_uri": "https://localhost:8080/"
        },
        "id": "mqMQygLwmcSQ",
        "outputId": "ceac8e86-f96c-4da7-80ff-55fa35a0966e"
      },
      "id": "mqMQygLwmcSQ",
      "execution_count": 99,
      "outputs": [
        {
          "output_type": "stream",
          "name": "stdout",
          "text": [
            "model.0.weight torch.Size([64, 784])\n",
            "model.0.bias torch.Size([64])\n",
            "model.2.weight torch.Size([64, 64])\n",
            "model.2.bias torch.Size([64])\n",
            "model.4.weight torch.Size([10, 64])\n",
            "model.4.bias torch.Size([10])\n"
          ]
        }
      ]
    },
    {
      "cell_type": "code",
      "source": [
        "type(model.model[0].weight.data)"
      ],
      "metadata": {
        "colab": {
          "base_uri": "https://localhost:8080/"
        },
        "id": "T3TBu7Kqn-4z",
        "outputId": "43f9baed-da20-40d5-ebab-a66ee972a22b"
      },
      "id": "T3TBu7Kqn-4z",
      "execution_count": 102,
      "outputs": [
        {
          "output_type": "execute_result",
          "data": {
            "text/plain": [
              "torch.Tensor"
            ]
          },
          "metadata": {},
          "execution_count": 102
        }
      ]
    },
    {
      "cell_type": "code",
      "source": [
        "import seaborn as sns\n",
        "import matplotlib.pyplot as plt\n",
        "from IPython.display import clear_output\n",
        "from tqdm.notebook import tqdm\n",
        "\n",
        "\n",
        "sns.set_style('whitegrid')\n",
        "plt.rcParams.update({'font.size': 15})\n",
        "\n",
        "\n",
        "def plot_losses(train_losses, test_losses, train_accuracies, test_accuracies):\n",
        "    clear_output()\n",
        "    fig, axs = plt.subplots(1, 2, figsize=(13, 4))\n",
        "    axs[0].plot(range(1, len(train_losses) + 1), train_losses, label='train')\n",
        "    axs[0].plot(range(1, len(test_losses) + 1), test_losses, label='test')\n",
        "    axs[0].set_ylabel('loss')\n",
        "\n",
        "    axs[1].plot(range(1, len(train_accuracies) + 1), train_accuracies, label='train')\n",
        "    axs[1].plot(range(1, len(test_accuracies) + 1), test_accuracies, label='test')\n",
        "    axs[1].set_ylabel('accuracy')\n",
        "\n",
        "    for ax in axs:\n",
        "        ax.set_xlabel('epoch')\n",
        "        ax.legend()\n",
        "\n",
        "    plt.show()"
      ],
      "metadata": {
        "id": "5oBMDp1CyCGg"
      },
      "id": "5oBMDp1CyCGg",
      "execution_count": 125,
      "outputs": []
    },
    {
      "cell_type": "code",
      "source": [
        "device = torch.device('cuda:0' if torch.cuda.is_available() else 'cpu')\n",
        "device"
      ],
      "metadata": {
        "colab": {
          "base_uri": "https://localhost:8080/"
        },
        "id": "sa_TP-fZ2sBc",
        "outputId": "7289bcfb-231a-421f-c2b5-5051fdfd7d2d"
      },
      "id": "sa_TP-fZ2sBc",
      "execution_count": 131,
      "outputs": [
        {
          "output_type": "execute_result",
          "data": {
            "text/plain": [
              "device(type='cuda', index=0)"
            ]
          },
          "metadata": {},
          "execution_count": 131
        }
      ]
    },
    {
      "cell_type": "code",
      "source": [
        "num_epochs = 10\n",
        "model = MLP()\n",
        "optimizer = torch.optim.SGD(model.parameters(), lr=1e-2, momentum=0.9)\n",
        "scheduler = torch.optim.lr_scheduler.CosineAnnealingLR(optimizer, T_max=num_epochs)\n",
        "criterion = nn.CrossEntropyLoss()"
      ],
      "metadata": {
        "id": "TTVAA918mcNw"
      },
      "id": "TTVAA918mcNw",
      "execution_count": 133,
      "outputs": []
    },
    {
      "cell_type": "code",
      "source": [
        "\n",
        "train_losses, test_losses = [], []\n",
        "train_accuracies, test_accuracies = [], []\n",
        "\n",
        "for epoch in range(1, num_epochs + 1):\n",
        "    model.train()\n",
        "    running_loss, running_acc = 0.0, 0.0\n",
        "\n",
        "    for images, labels in tqdm(train_loader, desc=f'Training {epoch}/{num_epochs}'):\n",
        "        # images = images.to(device)\n",
        "        # labels = labels.to(device)\n",
        "\n",
        "        optimizer.zero_grad()\n",
        "        logits = model(torch.flatten(images, start_dim=1))\n",
        "        loss = criterion(logits, labels)\n",
        "        loss.backward()\n",
        "        optimizer.step()\n",
        "        \n",
        "        accuracy = (logits.argmax(dim=1) == labels).detach().cpu().sum().item()\n",
        "        running_loss += loss.item() * images.shape[0]\n",
        "        running_acc += accuracy\n",
        "\n",
        "    scheduler.step()\n",
        "    train_losses.append(running_loss / len(train_loader.dataset))\n",
        "    train_accuracies.append(running_acc / len(train_loader.dataset))\n",
        "\n",
        "    model.eval()\n",
        "    running_loss, running_acc = 0.0, 0.0\n",
        "    with torch.inference_mode():\n",
        "        for images, labels in tqdm(test_loader, desc=f'Testing {epoch}/{num_epochs}'):\n",
        "            # images = images.to(device)\n",
        "            # labels = labels.to(device)\n",
        "\n",
        "            logits = model(torch.flatten(images, start_dim=1))\n",
        "            loss = criterion(logits, labels)\n",
        "\n",
        "            accuracy = (logits.argmax(dim=1) == labels).detach().cpu().sum().item()\n",
        "            running_loss += loss.item() * images.shape[0]\n",
        "            running_acc += accuracy\n",
        "\n",
        "    test_losses.append(running_loss / len(test_loader.dataset))\n",
        "    test_accuracies.append(running_acc / len(test_loader.dataset))\n",
        "\n",
        "    plot_losses(train_losses, test_losses, train_accuracies, test_accuracies)"
      ],
      "metadata": {
        "colab": {
          "base_uri": "https://localhost:8080/",
          "height": 420,
          "referenced_widgets": [
            "84053348d85e4ef9a9765d99c6e2b880",
            "d7921f6c23c34b2994cae7d2399cdac0",
            "a6a76ba08a2048729af64dd31eabd5f5",
            "a29cd5492fb942f1ac8862540a7c127e",
            "0749fca053464a74beb3315943d51de6",
            "61c0386069324544b146100a2e919d09",
            "fd05bf700e33435b969f86475228d900",
            "6e362f9a9c644f5685e919804f1c37f6",
            "6f0aff4ca31347bab2d498e8dd301434",
            "7a6edb5cf89845e984506a6ea2713bb3",
            "352c581c84a6474388f0d7a52df13394",
            "a1ea5c79def2424f913f456b742e40ff",
            "342e93b06de74b65b92532783e9b4bfa",
            "809422219e9946199f6324509890b014",
            "dcd73b5c3a294757b0adadbbd00de689",
            "5d768de60b784c96a65397d16dc5776d",
            "0bb51f82f80c4c038be0c2f4ef90fa40",
            "ecee60421b3040d6af9c9fc9a2eca29e",
            "d83a6d1b27a042679afc54bd69fb5e97",
            "862f0cf3189c41bda7f5aaf6a0333294",
            "f7d4957115c4439b9e564379743a99ca",
            "6fe350bb39c843d8a0ab8a854be25136",
            "452ed24119be4192901183bc46e50f1b",
            "8a2ea1931cb34779bb4e828f357cac07",
            "24a8205479ff4240bdfcbaa4b38093dd",
            "19fe012752dc462ba22ca9a9cc73139d",
            "09de6f8587b9445bb6237a80fb17a287",
            "f47bac15001d4c649a094934617a53ca",
            "b10f939d25724e6a88596c6d24a59d15",
            "23369e80b33148a8b24a8588b755f692",
            "134f1fde08094c639d5e7854324c1d45",
            "bebf500ed9e84c16888c91ab979bcace",
            "9b7989855c75456ba433280fae11cbe9",
            "fb3f018dae214dc68093264919450c0b",
            "4c11944271e845788a627a1dd464c764",
            "8f30752239af4ac1b3a240ac1bb2073d",
            "c315d6edacd845928c0867175a18cd64",
            "72a25e8d07c44b1589855e3d8280e245",
            "e7111c4434be448abdffca59f1bb4e45",
            "e3d78ee399114d52b69231e2db2743d1",
            "f4814df51e0c49809b6d8c12c8bb5a42",
            "102a08ae834e477b95b3ca8800cfb150",
            "8d959204913c4fdcba191635074e0757",
            "ab039bce87e84773860ac8494adc5bc0",
            "7a53b3ea30e1407fba588e3dd309da4d",
            "20f47ac7e2984744b6ecbf990909836f",
            "989f8c253dc343479eb2bad49f843472",
            "1af7c6c0229746e79573ee052b23d6f5",
            "9144f84aa7ff491badac2d6cff1f4691",
            "574fa9d8ec4a4461a532471d3a9f2d57",
            "9066d400e7e643389f149d3804caa05a",
            "12ce670603cd4e9fbafeef0ef7a0d037",
            "64750bcda49441b687e1651c6963179d",
            "d438de2ea22a4be4b5905ccd0ba1c97e",
            "2d60aabe1fad4009835c6f4d14580f82",
            "9de8319c28b042e19db3144e6482cf51",
            "179cce00d6e342dca1770569c02c4b93",
            "ab86674868314e5287c42eecc5b9dcc2",
            "b5de5fb8ef7446c1be5511b7ee8f0466",
            "4d665b5eb99e4de6ab9bf92a9acfbec4",
            "1a12926ef9564a42a15a5e3ed395423a",
            "bd5209ca971a48d9bd5570f7ccc0f06d",
            "2fdd221ac6de40b18b194d3fb96336a1",
            "bfff2e8436484ee09d581dab3e740bac",
            "be4c916dbc0b45d291bf237fe1fccc14",
            "f64059eedb3344dda469691cc5dd50b9",
            "13c6cc24a15c4113b161eaefa916f5d5",
            "b457e4fe80684758907efa407a0e83b2",
            "90a80572eaea4fe598abac249b6873fb",
            "8140e8ee86224e4baa05042432b749f5",
            "7a4edc017dfd40e4802ab7948ccb97af",
            "da29010f3c874e4188ef5be4c1e86a3b",
            "764bc87e5f9646059842cd045b78dece",
            "bcf3221a5bc448aeb4bc5da15a3dfaec",
            "88386d0aef884ab6a82fb9bca6eacc36",
            "df243d6bff03469ea4e641134d54be3d",
            "40545189e7aa467eb6a6328032b94bc6",
            "52951ef4c4ed4d4e9013f755194eefd9",
            "2969f1ee47c34001b5ddbf6b03a91b1e",
            "ebfc6a18b8ca41afbc21e4ecde047a26",
            "fe9b5e9c208642bb839f8b7e9b39b70e",
            "79a2e4afdc4545ccae25451be68c47ec",
            "508fe4a8fcd244de99134091617d2be6",
            "e13c2e73e79f439ca8917e0e5b22f4a5",
            "92fc90ed5ba34bad965c27bc64f12625",
            "6c41c81c2be34838be7936e23fe64ac0",
            "882da8f7d2544146a4e9a70ab85a94e4",
            "609d3795c41244b5aa2e2d3b4d400e8f",
            "4e10435d5e794ebca6fd4df42964cab4",
            "2915112bf2c84d9b8637789eabef98fb",
            "ee14a5c0acb3424b9eebc2f5ee781cdf",
            "d7838991f4f84cbe847c29c448c03a1c",
            "2730b9d1b5d741799f392934c2058223",
            "0de35ee2e010461e8ec7f6ef7f91dcbc",
            "698da51851054342b1c988f012e9d0d3",
            "86a2ffb3bfff4b6897eb56f258d8b439",
            "15f1a6bc85a242f094d956ead3d04b20",
            "ed58205faa5b43e29c0784b481bb3ae6",
            "a334bbf7b1e64e28bc831633c22169e8",
            "d672cd0edd28463180c2ac8241197d74",
            "f400d4a7287d46cb83d2b6184a84ace7",
            "88907b7f3d274592a0b4ebd63d2ea1a4",
            "b2a303c17f844208b7d42dd16a8b2706",
            "049a1ac406384d54897023f405a91769",
            "9dc5672e9fe14c1d9ffd91556a3a9187",
            "accb6841c2bc4f368a9ea3dd7d855e1b",
            "97caa267dc0845c79e7d709d11347a17",
            "8cf77cbecc4e49789441df561bb32b49",
            "d6cfd250222f44c28fec728f93629992",
            "78896529cb5d4074a7ec66f1f11f8d5d",
            "9fa17a181d874883a982be9d4250e97c",
            "b36995312a9440e6aaa8aff698b868f3",
            "c05d13cf0cb14dc590ce59f2c4ae35ec",
            "d15b720841d24958a6f8cde97f8d7820",
            "dfd8458d2bf147379736416b4283da4b",
            "3d67ef82bdea4808bf57892b48cfb4c1",
            "436acac28f7b41bb8422308e8184b3f1",
            "dbd2da5c4baa4ce9814dec9d36fe9bb5",
            "96609fc8241741199ca23281a0f3032a",
            "8722b3fd7e4342dea8a78b803e61118a",
            "ece5e0f4391843f9b6b49be2f6b960de",
            "e119c665474d400aa4881084cef036f2",
            "3032ebe1b8794f92a86dd3b1ab00367d",
            "ec1d7adbb16a48e196521bb10a8409e2",
            "57d1c137c95c4a3981a93769effc886f",
            "21cbf6422d5444799dd320ed39161f92",
            "79719e4901b646ea9d5dd5d812ac794c",
            "762072820d3244be88862da35969ea74",
            "8bfb5d6ed996419e9d82db46245e0727",
            "55b19dd9ed9b49b9b9d40d8b5b682bb7",
            "adaaa1e5ba114c0ca649708734e7a1a2",
            "e8d11e9201f24718983bc2a9b6729b4f",
            "78a3a0dc92fc4b4aa765385af20a3778",
            "8c3db94490064a91a8079a19a780cb4b",
            "e195d49b75ca4d8b8b206f8a81f55546",
            "66444f4c71ea4782852b5bfaca17f2a3",
            "236bc238bbb54737b47167543f280baa",
            "587c24355e204c3a9422527557a683c7",
            "d5e951387f4d4db5a0e122639f4097ca",
            "55ddda236c7a48ad8396893d4d76c659",
            "5490fd4a8ec74789a0380806ec06ec57",
            "4aa74bba30c24fb2a46e933c864df629",
            "015b76763dd749d8ab3426158ec30afb",
            "a36d7065bb6a4222ba11dd8dd58ff937",
            "ae7e492814ef4980b2e033717612a23f",
            "3c770968ebff499d9258b64d42a8d09c",
            "3920f8e4b40348b6b9741854fc708364",
            "2398016c0ee046a1a2b24dfbd8011421",
            "8157828fbb6743aab9fe653e22a3a733",
            "02cb9717d3354ac7b89b7c23018bb331",
            "b9908879d61c442e874d0d48ef8b3f6a",
            "751e04347888433788cb53b2b7a2e1bd",
            "0ae5adf793d94065bfedf2e06eaf9e87",
            "43307d4dd09247a6aa57b2ab54c35703"
          ]
        },
        "id": "hXWbCHGJmcVx",
        "outputId": "44c6f17e-5f73-4a77-c266-64b5a6811658"
      },
      "id": "hXWbCHGJmcVx",
      "execution_count": null,
      "outputs": [
        {
          "output_type": "display_data",
          "data": {
            "text/plain": [
              "<Figure size 1300x400 with 2 Axes>"
            ],
            "image/png": "[encoded data removed]"
          },
          "metadata": {}
        }
      ]
    },
    {
      "cell_type": "code",
      "source": [
        "model.state_dict()"
      ],
      "metadata": {
        "colab": {
          "base_uri": "https://localhost:8080/"
        },
        "id": "3Oz_-bgp5TCn",
        "outputId": "c3408c8d-3510-4e52-edd0-7d0689115bfe"
      },
      "id": "3Oz_-bgp5TCn",
      "execution_count": 135,
      "outputs": [
        {
          "output_type": "execute_result",
          "data": {
            "text/plain": [
              "OrderedDict([('model.0.weight',\n",
              "              tensor([[ 0.0055, -0.0135, -0.0110,  ..., -0.0259,  0.0173, -0.0250],\n",
              "                      [ 0.0355,  0.0152,  0.0050,  ..., -0.0029, -0.0010,  0.0351],\n",
              "                      [-0.0221, -0.0078, -0.0195,  ...,  0.0100, -0.0239,  0.0280],\n",
              "                      ...,\n",
              "                      [ 0.0299,  0.0041,  0.0053,  ..., -0.0074,  0.0201, -0.0142],\n",
              "                      [ 0.0086,  0.0100,  0.0034,  ...,  0.0112, -0.0090, -0.0349],\n",
              "                      [-0.0350, -0.0209,  0.0242,  ..., -0.0131,  0.0238,  0.0129]])),\n",
              "             ('model.0.bias',\n",
              "              tensor([ 1.1284e-03,  7.5037e-02,  5.7973e-02,  1.4928e-01,  1.1293e-01,\n",
              "                       3.7795e-02,  2.1048e-02,  1.0648e-01,  1.9905e-01,  5.7491e-02,\n",
              "                      -4.4425e-02,  4.9450e-02, -3.9295e-02,  6.1191e-02,  1.3870e-01,\n",
              "                       8.8579e-02,  6.2936e-02,  7.4963e-02, -2.7877e-02,  1.6132e-01,\n",
              "                      -1.0081e-02,  3.0405e-03, -1.3501e-01,  1.7599e-01,  1.3228e-01,\n",
              "                      -2.8703e-02,  1.0934e-01, -6.3246e-02,  2.2049e-02, -5.2653e-02,\n",
              "                       1.3568e-02, -6.9274e-02,  5.5440e-02,  1.0954e-01, -1.2057e-02,\n",
              "                       5.9263e-02,  8.5722e-02, -1.0980e-04,  5.6914e-02,  9.3010e-02,\n",
              "                       5.7904e-02,  5.8836e-02, -7.7641e-02,  6.7986e-02,  9.5657e-03,\n",
              "                      -5.7917e-02,  6.0694e-02,  3.1490e-02, -5.1982e-02,  9.9287e-02,\n",
              "                       1.1930e-01, -2.7186e-02,  2.8299e-02,  9.9381e-02,  8.2899e-02,\n",
              "                       1.1730e-01,  8.7402e-02, -5.2372e-02, -6.9287e-02, -8.8516e-02,\n",
              "                      -2.5755e-02,  9.4332e-02, -7.1706e-02, -9.1486e-02])),\n",
              "             ('model.2.weight',\n",
              "              tensor([[ 0.1564, -0.2765,  0.0538,  ..., -0.0913, -0.1147,  0.0233],\n",
              "                      [-0.1422,  0.2132, -0.2340,  ..., -0.0477, -0.3218, -0.0677],\n",
              "                      [ 0.2285, -0.0654,  0.0804,  ..., -0.0323, -0.0266, -0.2147],\n",
              "                      ...,\n",
              "                      [-0.1521,  0.2999,  0.0971,  ..., -0.3068,  0.0127,  0.1953],\n",
              "                      [ 0.0416,  0.0369,  0.0597,  ...,  0.0390, -0.0084, -0.1185],\n",
              "                      [ 0.0733,  0.0478,  0.1178,  ...,  0.1412,  0.0555, -0.1729]])),\n",
              "             ('model.2.bias',\n",
              "              tensor([-0.0953,  0.2272,  0.1425, -0.0395,  0.0114,  0.2181, -0.0957, -0.0848,\n",
              "                      -0.0206,  0.0574,  0.1853,  0.0744,  0.1014, -0.0615, -0.1112, -0.0323,\n",
              "                      -0.0544,  0.0288,  0.0912, -0.0204,  0.1170,  0.1528,  0.0009, -0.1240,\n",
              "                       0.1642,  0.1649,  0.2745, -0.0048,  0.1449,  0.0431,  0.0345,  0.0522,\n",
              "                       0.0198,  0.0055, -0.0710, -0.0133,  0.1385, -0.0266,  0.1079, -0.1143,\n",
              "                       0.0348, -0.0285, -0.0244,  0.1422,  0.2492, -0.1123, -0.1052,  0.0137,\n",
              "                       0.0173, -0.0732, -0.0587,  0.2554,  0.1258,  0.0003, -0.0389,  0.2189,\n",
              "                       0.2316, -0.0908,  0.0035, -0.0180,  0.0725,  0.0787,  0.1204,  0.0244])),\n",
              "             ('model.4.weight',\n",
              "              tensor([[-3.8961e-01, -2.6779e-01, -3.8093e-01,  3.2017e-02,  2.6581e-01,\n",
              "                       -4.3501e-01, -4.5179e-02, -1.0416e-01, -1.8271e-01,  3.2312e-01,\n",
              "                       -1.5359e-01,  2.9595e-02, -1.3716e-01,  3.2421e-01,  7.2785e-02,\n",
              "                       -1.5764e-02, -2.7364e-02,  8.1602e-02, -1.9651e-01,  9.8377e-02,\n",
              "                        8.4095e-01, -1.6528e-01, -4.7183e-01,  1.1184e-01, -2.9746e-01,\n",
              "                       -3.1721e-02, -7.5393e-02,  2.7767e-01,  1.7289e-01, -3.4667e-02,\n",
              "                       -1.7017e-01, -1.5131e-01,  1.1253e-01, -1.9986e-02,  3.3517e-02,\n",
              "                       -2.5299e-01,  1.1263e-01, -2.3353e-01,  1.4678e-01, -4.1322e-02,\n",
              "                       -1.4553e-01,  3.7168e-02, -2.1677e-01, -2.2404e-01, -3.2752e-01,\n",
              "                       -3.7625e-03,  7.6905e-02,  1.4662e-01, -9.3825e-02,  4.1415e-02,\n",
              "                       -5.5018e-02, -5.1714e-01, -4.6716e-01,  1.6833e-02, -8.6922e-02,\n",
              "                       -6.4713e-01, -2.6487e-01,  7.7729e-03,  3.2001e-01,  4.8154e-01,\n",
              "                        7.0988e-01, -1.3685e-01,  1.8905e-01,  1.1680e-01],\n",
              "                      [-3.6525e-01, -3.0692e-01, -2.7472e-01, -9.9545e-02, -6.3441e-01,\n",
              "                       -8.3797e-02, -4.7208e-02, -2.3521e-01,  2.8648e-01, -2.3517e-02,\n",
              "                        2.9571e-01,  5.1921e-01, -4.2643e-01, -5.6644e-01, -5.6401e-02,\n",
              "                        1.3201e-01, -8.4292e-02, -2.4695e-01, -1.4175e-01,  4.7981e-02,\n",
              "                       -2.2825e-01, -2.9401e-01, -8.2728e-02,  1.8258e-01,  2.5656e-01,\n",
              "                        6.4662e-01,  7.7337e-02, -2.3283e-01, -2.3455e-01,  6.3311e-02,\n",
              "                        3.2749e-01,  5.6959e-02,  3.3297e-02,  1.8232e-01, -2.9518e-01,\n",
              "                       -5.1395e-02,  5.4898e-02,  4.9866e-02, -1.4351e-01,  6.6374e-02,\n",
              "                        2.4093e-02, -5.6454e-03, -2.0264e-03, -5.3393e-01,  9.9268e-02,\n",
              "                       -6.7916e-02,  4.6250e-02, -2.6604e-02,  4.1488e-01, -7.1792e-03,\n",
              "                        7.2846e-02,  6.3254e-01,  5.7334e-01, -8.8143e-02,  1.5904e-01,\n",
              "                        5.5945e-01,  3.9436e-01, -7.1232e-02, -9.0355e-02, -3.8309e-01,\n",
              "                       -4.4811e-01,  2.9288e-01, -5.3551e-02,  5.7878e-02],\n",
              "                      [-1.8535e-01, -5.3934e-01,  2.9221e-01,  8.7235e-02,  4.5163e-01,\n",
              "                       -4.0747e-01, -8.3463e-02, -1.4980e-01,  6.3876e-01,  3.8646e-01,\n",
              "                        5.9362e-01,  5.0119e-01,  2.6606e-01,  2.3209e-01,  1.5360e-01,\n",
              "                       -8.0816e-03, -3.1406e-01, -1.3296e-01,  4.8346e-02, -6.7475e-03,\n",
              "                       -3.6812e-01, -1.6458e-01,  1.5099e-01,  1.6462e-01, -5.8250e-01,\n",
              "                       -8.0919e-02,  2.3874e-02,  2.6402e-01, -1.2723e-01, -5.6346e-02,\n",
              "                        9.5024e-02,  1.8923e-02, -1.0115e-01, -1.5408e-01, -2.7278e-01,\n",
              "                        3.0142e-01,  2.5306e-01,  2.9794e-01,  2.9404e-02, -9.8968e-02,\n",
              "                       -2.4829e-01, -5.3760e-02, -5.7958e-03,  3.8426e-01,  2.9414e-01,\n",
              "                       -1.2618e-02, -5.7545e-02, -6.0943e-02, -2.6568e-01,  1.3645e-01,\n",
              "                        1.2341e-02, -2.8880e-01,  1.6217e-01, -4.0872e-02,  4.4955e-02,\n",
              "                       -4.1921e-02, -3.6919e-01,  2.4686e-01,  6.6578e-01, -1.2762e-01,\n",
              "                        2.7798e-01,  4.1420e-01, -3.9513e-01,  1.0876e-01],\n",
              "                      [ 4.9857e-01, -6.0975e-01, -2.0840e-01, -2.0624e-02,  1.1130e-01,\n",
              "                        9.6498e-02, -2.9609e-02,  1.1513e-01,  3.3831e-01,  3.0369e-01,\n",
              "                       -5.5199e-02, -4.6633e-01, -3.9914e-01, -4.2216e-03, -7.3672e-02,\n",
              "                        2.9299e-01,  3.8327e-01, -1.0853e-01, -5.9317e-02,  1.2445e-01,\n",
              "                       -3.1837e-01, -2.6792e-01,  9.1028e-01, -3.4423e-02,  1.1233e-01,\n",
              "                       -3.0288e-01, -2.8765e-01, -3.3907e-01, -5.1301e-01,  1.2106e-01,\n",
              "                        1.8133e-01,  1.0374e-01,  3.0184e-01,  1.1754e-01,  6.1449e-01,\n",
              "                       -1.7529e-01, -5.3938e-02,  3.5295e-02, -1.2034e-01,  4.5512e-01,\n",
              "                        6.1032e-01,  1.7101e-02, -5.1873e-01,  4.4610e-02,  1.8782e-01,\n",
              "                       -7.4603e-02, -7.5666e-02, -9.4542e-02,  8.5685e-02, -2.0483e-02,\n",
              "                       -1.2294e-01, -2.0710e-01,  5.2338e-02, -1.7675e-02,  3.7991e-02,\n",
              "                        1.5229e-01, -6.1454e-02,  2.7286e-01,  2.8992e-01,  2.5840e-01,\n",
              "                        1.9776e-02, -4.5982e-01,  1.8639e-01, -2.4235e-01],\n",
              "                      [ 6.3800e-02,  3.4252e-01,  2.9414e-01,  4.2060e-02, -6.4708e-01,\n",
              "                        2.9443e-01, -3.5348e-02,  4.2230e-03, -1.1341e-01, -4.9280e-01,\n",
              "                       -3.8331e-01,  3.2597e-02,  3.7946e-01,  1.8088e-01,  1.2308e-01,\n",
              "                       -1.5332e-01,  4.1230e-02, -2.1351e-01,  3.3663e-01,  9.9347e-03,\n",
              "                       -4.2182e-01,  4.6648e-01,  1.1149e-01, -2.0352e-01, -9.1844e-02,\n",
              "                        4.9935e-01, -4.9490e-01,  3.8858e-01,  2.3199e-01,  1.3247e-01,\n",
              "                       -2.3058e-01, -1.5935e-01,  2.6253e-01,  2.9711e-01, -3.3441e-01,\n",
              "                       -1.5215e-01,  2.1527e-01, -5.3752e-02,  8.5996e-01, -1.2018e-01,\n",
              "                       -1.5076e-01, -7.8835e-02, -1.5148e-01,  4.1322e-01,  4.1366e-03,\n",
              "                       -9.1024e-02, -2.9879e-02, -1.3600e-01,  1.7940e-01, -5.7941e-02,\n",
              "                       -1.8262e-01, -3.1337e-01,  3.4039e-02,  1.7132e-02, -6.9807e-02,\n",
              "                       -2.4255e-01,  1.3621e-01, -4.5275e-01, -2.4869e-01, -2.3033e-01,\n",
              "                       -6.4850e-01, -2.9096e-01,  9.6760e-02,  2.4598e-02],\n",
              "                      [ 1.4825e-01,  4.5765e-01,  3.2683e-01, -7.9564e-02,  2.4728e-01,\n",
              "                        1.5113e-01, -5.5330e-02, -5.1507e-02,  8.8583e-02, -1.6474e-01,\n",
              "                        1.9274e-01, -7.8025e-02,  3.9938e-01, -8.0351e-02, -5.1616e-03,\n",
              "                       -5.2149e-01, -3.9028e-02,  4.6567e-01,  1.3277e-01, -9.9211e-02,\n",
              "                       -3.1060e-01, -6.2751e-02,  1.9252e-01,  9.3621e-02,  5.2267e-01,\n",
              "                        2.4062e-01,  5.0349e-01, -5.8411e-01, -8.9238e-02, -1.2160e-01,\n",
              "                       -6.2553e-01,  1.0578e-01, -1.4096e-01, -4.5165e-01,  2.5520e-01,\n",
              "                        2.7581e-01, -6.9067e-04,  2.5242e-01, -1.7958e-01, -8.2834e-01,\n",
              "                        6.6163e-01, -7.5500e-02,  6.1581e-01, -6.9263e-01,  2.8039e-01,\n",
              "                       -1.6003e-02,  3.9014e-02,  5.1845e-02, -6.9995e-01, -5.1623e-02,\n",
              "                        4.2118e-02,  3.5697e-01, -1.3012e-01, -2.8247e-02, -2.6079e-02,\n",
              "                        5.4453e-02, -1.3571e-01,  2.3979e-01,  5.7316e-02, -2.7622e-01,\n",
              "                        2.8905e-01, -1.2972e-01,  5.7259e-01, -1.2516e-01],\n",
              "                      [-2.8584e-01,  5.3271e-01, -8.9903e-02,  9.2272e-02, -3.6040e-01,\n",
              "                       -4.4003e-01, -6.4533e-02, -1.5231e-01, -4.7286e-01, -4.1450e-01,\n",
              "                        5.8739e-01, -8.9080e-02, -7.4589e-02,  4.0958e-01,  7.9676e-02,\n",
              "                       -2.5512e-01,  2.7769e-02, -2.4091e-01, -1.0559e-01, -1.3023e-01,\n",
              "                        5.9707e-01, -3.4897e-01, -6.1319e-01, -9.0189e-02,  2.2344e-01,\n",
              "                       -3.0483e-01, -2.7681e-01, -3.5980e-01, -1.0559e-01, -1.0415e-01,\n",
              "                       -1.2494e-01,  1.8810e-01,  2.8706e-01, -1.2267e-01, -1.9852e-01,\n",
              "                        9.3076e-02, -2.5742e-01, -9.8233e-02, -1.5515e-01, -3.6886e-01,\n",
              "                       -2.5433e-02,  1.1549e-01,  3.3234e-01, -7.4742e-02, -4.1338e-02,\n",
              "                       -2.3460e-02, -8.2973e-02,  1.8829e-01, -2.3269e-01,  2.7419e-02,\n",
              "                        1.5191e-01, -4.0003e-01,  6.6191e-01, -5.6085e-02, -1.2132e-02,\n",
              "                       -4.4300e-01,  1.6552e-01, -7.1471e-02, -2.7738e-01,  3.4074e-01,\n",
              "                       -6.0647e-02,  4.9092e-01,  3.5020e-01, -1.2460e-03],\n",
              "                      [-3.0551e-01,  1.6629e-01, -2.8285e-01, -6.6546e-02,  1.1929e-01,\n",
              "                       -3.9433e-01,  8.3901e-02,  3.7449e-01,  2.7600e-01,  5.6222e-01,\n",
              "                       -2.4712e-01, -4.1644e-02,  1.2529e-01, -5.3203e-01, -1.6795e-01,\n",
              "                        2.7855e-01,  1.5806e-01,  3.6407e-01,  1.9354e-01,  6.5708e-02,\n",
              "                       -2.8560e-01,  5.8954e-01, -3.5409e-01,  4.5630e-02, -3.5555e-01,\n",
              "                       -3.0165e-01,  3.0394e-01, -3.8298e-01,  2.8765e-01, -9.0730e-02,\n",
              "                       -7.5808e-02,  1.1564e-01,  4.0924e-01,  3.7213e-01, -1.1659e-01,\n",
              "                        3.2321e-01, -2.2598e-01,  1.4536e-01,  7.5470e-02,  4.1992e-01,\n",
              "                       -2.0214e-01,  8.2778e-02, -5.0670e-01,  3.1423e-01, -1.5279e-01,\n",
              "                        6.1388e-02,  1.0063e-01,  3.6927e-02,  1.0484e-01,  9.0157e-02,\n",
              "                        2.8470e-03,  4.9263e-02, -2.8177e-02, -5.4340e-02, -1.2893e-01,\n",
              "                        5.7831e-01, -4.7764e-01, -1.9329e-01, -4.0177e-01, -2.8451e-01,\n",
              "                       -1.3490e-01,  6.1231e-01,  2.6476e-02,  2.3840e-01],\n",
              "                      [ 5.0983e-01,  1.7588e-01, -1.3003e-01, -1.1590e-01,  1.3947e-01,\n",
              "                        8.9846e-01, -5.7884e-02,  2.8029e-01, -2.3242e-01, -3.4051e-01,\n",
              "                       -2.4150e-01, -2.8626e-01, -2.0293e-01,  6.5793e-01, -1.4984e-01,\n",
              "                       -2.7502e-01, -2.0751e-01, -4.4039e-01, -2.2564e-01, -2.1515e-03,\n",
              "                       -3.4195e-01,  2.2085e-02,  6.8211e-02, -3.4824e-01, -9.5277e-02,\n",
              "                       -3.4075e-01,  2.4914e-01,  2.8838e-01, -4.3983e-01, -2.3921e-01,\n",
              "                       -2.5869e-02,  1.1622e-01,  2.3989e-02, -1.8922e-01,  2.3426e-01,\n",
              "                        1.2030e-01, -4.2056e-01, -2.1966e-01, -7.3474e-01,  2.0764e-01,\n",
              "                       -7.6429e-01,  5.2269e-02,  5.8056e-01,  2.8679e-01, -1.6176e-01,\n",
              "                       -6.0652e-02,  1.9629e-02,  5.1107e-02,  9.7473e-02, -1.2174e-01,\n",
              "                       -1.1771e-01,  1.5552e-01,  1.1843e-01,  7.3362e-02, -1.4977e-01,\n",
              "                       -1.1670e-01,  3.3453e-01, -6.3590e-02,  3.2529e-02,  9.1387e-02,\n",
              "                        1.6407e-01, -3.1602e-01, -2.6246e-01,  2.6875e-02],\n",
              "                      [ 3.7973e-01,  1.3030e-01,  4.7248e-01,  1.1082e-01,  3.6090e-01,\n",
              "                        2.1342e-01, -5.7015e-02,  2.1947e-01, -6.0834e-01, -4.2560e-01,\n",
              "                       -5.6495e-01, -1.5621e-02,  8.7701e-02, -3.9837e-01,  2.2670e-01,\n",
              "                        3.2892e-01,  1.1971e-01,  2.1704e-01, -1.2150e-01, -6.6895e-03,\n",
              "                        5.1749e-01,  1.6370e-01,  8.7237e-03,  1.7057e-01,  2.4281e-01,\n",
              "                       -2.2080e-01, -1.4578e-01,  4.3567e-01,  5.3743e-01,  1.9462e-01,\n",
              "                        3.8147e-01,  9.5575e-02, -6.7950e-01, -2.6238e-01,  1.3506e-01,\n",
              "                       -3.6834e-01,  2.6607e-01,  9.2450e-02,  2.3566e-01,  3.3639e-01,\n",
              "                        1.8820e-01,  8.7765e-02,  2.1696e-01, -1.7010e-03, -6.2629e-01,\n",
              "                        5.0297e-02, -6.7524e-02,  2.5394e-01,  5.4200e-02, -7.2063e-03,\n",
              "                       -5.8135e-02,  3.3043e-01, -9.4110e-01, -7.2514e-02,  1.4834e-01,\n",
              "                       -1.3510e-01,  1.3193e-01,  1.7318e-01, -2.6666e-01, -1.3172e-01,\n",
              "                       -3.9434e-01, -4.6880e-01, -5.2976e-01,  1.9973e-01]])),\n",
              "             ('model.4.bias',\n",
              "              tensor([-0.0390,  0.1649, -0.1732, -0.0568, -0.0606,  0.3284, -0.1447,  0.0479,\n",
              "                      -0.2266, -0.1305]))])"
            ]
          },
          "metadata": {},
          "execution_count": 135
        }
      ]
    },
    {
      "cell_type": "code",
      "source": [
        "torch.save({\n",
        "    'model_state': model.state_dict(),\n",
        "    'optimizer_state': optimizer.state_dict(),\n",
        "    'scheduler': scheduler.state_dict()\n",
        "}, 'checkpoint.pt')"
      ],
      "metadata": {
        "id": "rOh_IMrNoaEI"
      },
      "id": "rOh_IMrNoaEI",
      "execution_count": 136,
      "outputs": []
    },
    {
      "cell_type": "code",
      "source": [
        "cpt = torch.load('checkpoint.pt')"
      ],
      "metadata": {
        "id": "gJevQsTqoaHi"
      },
      "id": "gJevQsTqoaHi",
      "execution_count": 137,
      "outputs": []
    },
    {
      "cell_type": "code",
      "source": [
        "model = MLP()\n",
        "model.load_state_dict(cpt['model_state'])"
      ],
      "metadata": {
        "colab": {
          "base_uri": "https://localhost:8080/",
          "height": 184
        },
        "id": "W-uMkSyeoab1",
        "outputId": "3d82447f-fa47-48fe-d58c-6fa773f57b3c"
      },
      "id": "W-uMkSyeoab1",
      "execution_count": 1,
      "outputs": [
        {
          "output_type": "error",
          "ename": "NameError",
          "evalue": "ignored",
          "traceback": [
            "\u001b[0;31m---------------------------------------------------------------------------\u001b[0m",
            "\u001b[0;31mNameError\u001b[0m                                 Traceback (most recent call last)",
            "\u001b[0;32m<ipython-input-1-e733b02b215f>\u001b[0m in \u001b[0;36m<cell line: 1>\u001b[0;34m()\u001b[0m\n\u001b[0;32m----> 1\u001b[0;31m \u001b[0mmodel\u001b[0m \u001b[0;34m=\u001b[0m \u001b[0mMLP\u001b[0m\u001b[0;34m(\u001b[0m\u001b[0;34m)\u001b[0m\u001b[0;34m\u001b[0m\u001b[0;34m\u001b[0m\u001b[0m\n\u001b[0m\u001b[1;32m      2\u001b[0m \u001b[0mmodel\u001b[0m\u001b[0;34m.\u001b[0m\u001b[0mload_state_dict\u001b[0m\u001b[0;34m(\u001b[0m\u001b[0mcpt\u001b[0m\u001b[0;34m[\u001b[0m\u001b[0;34m'model_state'\u001b[0m\u001b[0;34m]\u001b[0m\u001b[0;34m)\u001b[0m\u001b[0;34m\u001b[0m\u001b[0;34m\u001b[0m\u001b[0m\n",
            "\u001b[0;31mNameError\u001b[0m: name 'MLP' is not defined"
          ]
        }
      ]
    },
    {
      "cell_type": "code",
      "source": [],
      "metadata": {
        "id": "E5fNADsGoagJ"
      },
      "id": "E5fNADsGoagJ",
      "execution_count": null,
      "outputs": []
    },
    {
      "cell_type": "code",
      "source": [],
      "metadata": {
        "id": "lzrVtuMgoakA"
      },
      "id": "lzrVtuMgoakA",
      "execution_count": null,
      "outputs": []
    },
    {
      "cell_type": "code",
      "source": [],
      "metadata": {
        "id": "NExc41I_oanh"
      },
      "id": "NExc41I_oanh",
      "execution_count": null,
      "outputs": []
    },
    {
      "cell_type": "code",
      "source": [],
      "metadata": {
        "id": "zJE-_A6moarF"
      },
      "id": "zJE-_A6moarF",
      "execution_count": null,
      "outputs": []
    },
    {
      "cell_type": "code",
      "source": [],
      "metadata": {
        "id": "nwYvvQ29oau4"
      },
      "id": "nwYvvQ29oau4",
      "execution_count": null,
      "outputs": []
    },
    {
      "cell_type": "code",
      "source": [],
      "metadata": {
        "id": "9SXeeaZPoaya"
      },
      "id": "9SXeeaZPoaya",
      "execution_count": null,
      "outputs": []
    },
    {
      "cell_type": "code",
      "source": [],
      "metadata": {
        "id": "nhDRIyyWoa2H"
      },
      "id": "nhDRIyyWoa2H",
      "execution_count": null,
      "outputs": []
    },
    {
      "cell_type": "code",
      "source": [],
      "metadata": {
        "id": "Coe_l_tRoa5-"
      },
      "id": "Coe_l_tRoa5-",
      "execution_count": null,
      "outputs": []
    },
    {
      "cell_type": "code",
      "source": [],
      "metadata": {
        "id": "ogiOLAmpoa9f"
      },
      "id": "ogiOLAmpoa9f",
      "execution_count": null,
      "outputs": []
    },
    {
      "cell_type": "code",
      "source": [],
      "metadata": {
        "id": "fQG46rsCobBY"
      },
      "id": "fQG46rsCobBY",
      "execution_count": null,
      "outputs": []
    },
    {
      "cell_type": "code",
      "source": [],
      "metadata": {
        "id": "nGBi3SxfobEs"
      },
      "id": "nGBi3SxfobEs",
      "execution_count": null,
      "outputs": []
    },
    {
      "cell_type": "code",
      "source": [],
      "metadata": {
        "id": "ZeA_PfNnobIk"
      },
      "id": "ZeA_PfNnobIk",
      "execution_count": null,
      "outputs": []
    },
    {
      "cell_type": "code",
      "source": [],
      "metadata": {
        "id": "EK53lVm9obMb"
      },
      "id": "EK53lVm9obMb",
      "execution_count": null,
      "outputs": []
    },
    {
      "cell_type": "code",
      "source": [],
      "metadata": {
        "id": "UKpfx1BTobP9"
      },
      "id": "UKpfx1BTobP9",
      "execution_count": null,
      "outputs": []
    },
    {
      "cell_type": "code",
      "source": [],
      "metadata": {
        "id": "CC557hzuobT0"
      },
      "id": "CC557hzuobT0",
      "execution_count": null,
      "outputs": []
    },
    {
      "cell_type": "code",
      "source": [],
      "metadata": {
        "id": "j3sjFGtxobXr"
      },
      "id": "j3sjFGtxobXr",
      "execution_count": null,
      "outputs": []
    },
    {
      "cell_type": "code",
      "source": [],
      "metadata": {
        "id": "KcbYvJJHobbj"
      },
      "id": "KcbYvJJHobbj",
      "execution_count": null,
      "outputs": []
    },
    {
      "cell_type": "code",
      "source": [],
      "metadata": {
        "id": "Dezi-nCLobfb"
      },
      "id": "Dezi-nCLobfb",
      "execution_count": null,
      "outputs": []
    },
    {
      "cell_type": "code",
      "source": [],
      "metadata": {
        "id": "Q_YAHwBRobjW"
      },
      "id": "Q_YAHwBRobjW",
      "execution_count": null,
      "outputs": []
    },
    {
      "cell_type": "code",
      "source": [],
      "metadata": {
        "id": "NkUBoVGEobnI"
      },
      "id": "NkUBoVGEobnI",
      "execution_count": null,
      "outputs": []
    },
    {
      "cell_type": "code",
      "source": [],
      "metadata": {
        "id": "Uvjxm2CMobq2"
      },
      "id": "Uvjxm2CMobq2",
      "execution_count": null,
      "outputs": []
    },
    {
      "cell_type": "code",
      "source": [],
      "metadata": {
        "id": "9TjX5fFEobuh"
      },
      "id": "9TjX5fFEobuh",
      "execution_count": null,
      "outputs": []
    },
    {
      "cell_type": "code",
      "source": [],
      "metadata": {
        "id": "dbOGOJrxobyO"
      },
      "id": "dbOGOJrxobyO",
      "execution_count": null,
      "outputs": []
    },
    {
      "cell_type": "code",
      "source": [],
      "metadata": {
        "id": "cKHJzxkQob2H"
      },
      "id": "cKHJzxkQob2H",
      "execution_count": null,
      "outputs": []
    },
    {
      "cell_type": "code",
      "source": [],
      "metadata": {
        "id": "T8a_ElPFob59"
      },
      "id": "T8a_ElPFob59",
      "execution_count": null,
      "outputs": []
    },
    {
      "cell_type": "code",
      "source": [],
      "metadata": {
        "id": "6gva_zllob9e"
      },
      "id": "6gva_zllob9e",
      "execution_count": null,
      "outputs": []
    },
    {
      "cell_type": "code",
      "source": [],
      "metadata": {
        "id": "wjgl7yCrocBK"
      },
      "id": "wjgl7yCrocBK",
      "execution_count": null,
      "outputs": []
    },
    {
      "cell_type": "code",
      "source": [],
      "metadata": {
        "id": "wEXJvCGGocFC"
      },
      "id": "wEXJvCGGocFC",
      "execution_count": null,
      "outputs": []
    },
    {
      "cell_type": "code",
      "source": [],
      "metadata": {
        "id": "d3UwejN2ocI5"
      },
      "id": "d3UwejN2ocI5",
      "execution_count": null,
      "outputs": []
    },
    {
      "cell_type": "code",
      "source": [],
      "metadata": {
        "id": "CMECRnexmcZp"
      },
      "id": "CMECRnexmcZp",
      "execution_count": null,
      "outputs": []
    },
    {
      "cell_type": "code",
      "source": [],
      "metadata": {
        "id": "Xhz7IbRLmcc_"
      },
      "id": "Xhz7IbRLmcc_",
      "execution_count": null,
      "outputs": []
    },
    {
      "cell_type": "code",
      "source": [],
      "metadata": {
        "id": "XRTqPyl-mcgf"
      },
      "id": "XRTqPyl-mcgf",
      "execution_count": null,
      "outputs": []
    },
    {
      "cell_type": "code",
      "source": [],
      "metadata": {
        "id": "5Jo4LM2xmcjT"
      },
      "id": "5Jo4LM2xmcjT",
      "execution_count": null,
      "outputs": []
    },
    {
      "cell_type": "code",
      "source": [],
      "metadata": {
        "id": "kO9UP2tMmcmq"
      },
      "id": "kO9UP2tMmcmq",
      "execution_count": null,
      "outputs": []
    },
    {
      "cell_type": "code",
      "source": [],
      "metadata": {
        "id": "AS2Dfyv7mcqY"
      },
      "id": "AS2Dfyv7mcqY",
      "execution_count": null,
      "outputs": []
    },
    {
      "cell_type": "code",
      "source": [],
      "metadata": {
        "id": "cIMGGSXsmct3"
      },
      "id": "cIMGGSXsmct3",
      "execution_count": null,
      "outputs": []
    },
    {
      "cell_type": "code",
      "source": [],
      "metadata": {
        "id": "YFInRT4Amcw3"
      },
      "id": "YFInRT4Amcw3",
      "execution_count": null,
      "outputs": []
    },
    {
      "cell_type": "code",
      "source": [],
      "metadata": {
        "id": "DhHmmi8Zmc0L"
      },
      "id": "DhHmmi8Zmc0L",
      "execution_count": null,
      "outputs": []
    },
    {
      "cell_type": "code",
      "source": [],
      "metadata": {
        "id": "qB7ckCxwmc3l"
      },
      "id": "qB7ckCxwmc3l",
      "execution_count": null,
      "outputs": []
    },
    {
      "cell_type": "code",
      "source": [],
      "metadata": {
        "id": "Jmji4pCqmc6r"
      },
      "id": "Jmji4pCqmc6r",
      "execution_count": null,
      "outputs": []
    },
    {
      "cell_type": "code",
      "source": [],
      "metadata": {
        "id": "TJJ4jbw9mc91"
      },
      "id": "TJJ4jbw9mc91",
      "execution_count": null,
      "outputs": []
    },
    {
      "cell_type": "code",
      "source": [],
      "metadata": {
        "id": "S0ynBhbtmdA1"
      },
      "id": "S0ynBhbtmdA1",
      "execution_count": null,
      "outputs": []
    },
    {
      "cell_type": "code",
      "source": [],
      "metadata": {
        "id": "18YI8ylgmdEC"
      },
      "id": "18YI8ylgmdEC",
      "execution_count": null,
      "outputs": []
    },
    {
      "cell_type": "code",
      "source": [],
      "metadata": {
        "id": "hXqQRy74mdHk"
      },
      "id": "hXqQRy74mdHk",
      "execution_count": null,
      "outputs": []
    },
    {
      "cell_type": "code",
      "source": [],
      "metadata": {
        "id": "GIa9sYTklabE"
      },
      "id": "GIa9sYTklabE",
      "execution_count": null,
      "outputs": []
    },
    {
      "cell_type": "code",
      "source": [],
      "metadata": {
        "id": "UmUjLTvMladx"
      },
      "id": "UmUjLTvMladx",
      "execution_count": null,
      "outputs": []
    }
  ],
  "metadata": {
    "kernelspec": {
      "display_name": "Python 3 (ipykernel)",
      "language": "python",
      "name": "python3"
    },
    "language_info": {
      "codemirror_mode": {
        "name": "ipython",
        "version": 3
      },
      "file_extension": ".py",
      "mimetype": "text/x-python",
      "name": "python",
      "nbconvert_exporter": "python",
      "pygments_lexer": "ipython3",
      "version": "3.10.4"
    },
    "colab": {
      "provenance": [],
      "include_colab_link": true
    },
    "accelerator": "GPU",
    "gpuClass": "standard",
    "widgets": {
      "application/vnd.jupyter.widget-state+json": {
        "84053348d85e4ef9a9765d99c6e2b880": {
          "model_module": "@jupyter-widgets/controls",
          "model_name": "HBoxModel",
          "model_module_version": "1.5.0",
          "state": {
            "_dom_classes": [],
            "_model_module": "@jupyter-widgets/controls",
            "_model_module_version": "1.5.0",
            "_model_name": "HBoxModel",
            "_view_count": null,
            "_view_module": "@jupyter-widgets/controls",
            "_view_module_version": "1.5.0",
            "_view_name": "HBoxView",
            "box_style": "",
            "children": [
              "IPY_MODEL_d7921f6c23c34b2994cae7d2399cdac0",
              "IPY_MODEL_a6a76ba08a2048729af64dd31eabd5f5",
              "IPY_MODEL_a29cd5492fb942f1ac8862540a7c127e"
            ],
            "layout": "IPY_MODEL_0749fca053464a74beb3315943d51de6"
          }
        },
        "d7921f6c23c34b2994cae7d2399cdac0": {
          "model_module": "@jupyter-widgets/controls",
          "model_name": "HTMLModel",
          "model_module_version": "1.5.0",
          "state": {
            "_dom_classes": [],
            "_model_module": "@jupyter-widgets/controls",
            "_model_module_version": "1.5.0",
            "_model_name": "HTMLModel",
            "_view_count": null,
            "_view_module": "@jupyter-widgets/controls",
            "_view_module_version": "1.5.0",
            "_view_name": "HTMLView",
            "description": "",
            "description_tooltip": null,
            "layout": "IPY_MODEL_61c0386069324544b146100a2e919d09",
            "placeholder": "​",
            "style": "IPY_MODEL_fd05bf700e33435b969f86475228d900",
            "value": "Training 1/10: 100%"
          }
        },
        "a6a76ba08a2048729af64dd31eabd5f5": {
          "model_module": "@jupyter-widgets/controls",
          "model_name": "FloatProgressModel",
          "model_module_version": "1.5.0",
          "state": {
            "_dom_classes": [],
            "_model_module": "@jupyter-widgets/controls",
            "_model_module_version": "1.5.0",
            "_model_name": "FloatProgressModel",
            "_view_count": null,
            "_view_module": "@jupyter-widgets/controls",
            "_view_module_version": "1.5.0",
            "_view_name": "ProgressView",
            "bar_style": "success",
            "description": "",
            "description_tooltip": null,
            "layout": "IPY_MODEL_6e362f9a9c644f5685e919804f1c37f6",
            "max": 938,
            "min": 0,
            "orientation": "horizontal",
            "style": "IPY_MODEL_6f0aff4ca31347bab2d498e8dd301434",
            "value": 938
          }
        },
        "a29cd5492fb942f1ac8862540a7c127e": {
          "model_module": "@jupyter-widgets/controls",
          "model_name": "HTMLModel",
          "model_module_version": "1.5.0",
          "state": {
            "_dom_classes": [],
            "_model_module": "@jupyter-widgets/controls",
            "_model_module_version": "1.5.0",
            "_model_name": "HTMLModel",
            "_view_count": null,
            "_view_module": "@jupyter-widgets/controls",
            "_view_module_version": "1.5.0",
            "_view_name": "HTMLView",
            "description": "",
            "description_tooltip": null,
            "layout": "IPY_MODEL_7a6edb5cf89845e984506a6ea2713bb3",
            "placeholder": "​",
            "style": "IPY_MODEL_352c581c84a6474388f0d7a52df13394",
            "value": " 938/938 [00:14&lt;00:00, 76.70it/s]"
          }
        },
        "0749fca053464a74beb3315943d51de6": {
          "model_module": "@jupyter-widgets/base",
          "model_name": "LayoutModel",
          "model_module_version": "1.2.0",
          "state": {
            "_model_module": "@jupyter-widgets/base",
            "_model_module_version": "1.2.0",
            "_model_name": "LayoutModel",
            "_view_count": null,
            "_view_module": "@jupyter-widgets/base",
            "_view_module_version": "1.2.0",
            "_view_name": "LayoutView",
            "align_content": null,
            "align_items": null,
            "align_self": null,
            "border": null,
            "bottom": null,
            "display": null,
            "flex": null,
            "flex_flow": null,
            "grid_area": null,
            "grid_auto_columns": null,
            "grid_auto_flow": null,
            "grid_auto_rows": null,
            "grid_column": null,
            "grid_gap": null,
            "grid_row": null,
            "grid_template_areas": null,
            "grid_template_columns": null,
            "grid_template_rows": null,
            "height": null,
            "justify_content": null,
            "justify_items": null,
            "left": null,
            "margin": null,
            "max_height": null,
            "max_width": null,
            "min_height": null,
            "min_width": null,
            "object_fit": null,
            "object_position": null,
            "order": null,
            "overflow": null,
            "overflow_x": null,
            "overflow_y": null,
            "padding": null,
            "right": null,
            "top": null,
            "visibility": null,
            "width": null
          }
        },
        "61c0386069324544b146100a2e919d09": {
          "model_module": "@jupyter-widgets/base",
          "model_name": "LayoutModel",
          "model_module_version": "1.2.0",
          "state": {
            "_model_module": "@jupyter-widgets/base",
            "_model_module_version": "1.2.0",
            "_model_name": "LayoutModel",
            "_view_count": null,
            "_view_module": "@jupyter-widgets/base",
            "_view_module_version": "1.2.0",
            "_view_name": "LayoutView",
            "align_content": null,
            "align_items": null,
            "align_self": null,
            "border": null,
            "bottom": null,
            "display": null,
            "flex": null,
            "flex_flow": null,
            "grid_area": null,
            "grid_auto_columns": null,
            "grid_auto_flow": null,
            "grid_auto_rows": null,
            "grid_column": null,
            "grid_gap": null,
            "grid_row": null,
            "grid_template_areas": null,
            "grid_template_columns": null,
            "grid_template_rows": null,
            "height": null,
            "justify_content": null,
            "justify_items": null,
            "left": null,
            "margin": null,
            "max_height": null,
            "max_width": null,
            "min_height": null,
            "min_width": null,
            "object_fit": null,
            "object_position": null,
            "order": null,
            "overflow": null,
            "overflow_x": null,
            "overflow_y": null,
            "padding": null,
            "right": null,
            "top": null,
            "visibility": null,
            "width": null
          }
        },
        "fd05bf700e33435b969f86475228d900": {
          "model_module": "@jupyter-widgets/controls",
          "model_name": "DescriptionStyleModel",
          "model_module_version": "1.5.0",
          "state": {
            "_model_module": "@jupyter-widgets/controls",
            "_model_module_version": "1.5.0",
            "_model_name": "DescriptionStyleModel",
            "_view_count": null,
            "_view_module": "@jupyter-widgets/base",
            "_view_module_version": "1.2.0",
            "_view_name": "StyleView",
            "description_width": ""
          }
        },
        "6e362f9a9c644f5685e919804f1c37f6": {
          "model_module": "@jupyter-widgets/base",
          "model_name": "LayoutModel",
          "model_module_version": "1.2.0",
          "state": {
            "_model_module": "@jupyter-widgets/base",
            "_model_module_version": "1.2.0",
            "_model_name": "LayoutModel",
            "_view_count": null,
            "_view_module": "@jupyter-widgets/base",
            "_view_module_version": "1.2.0",
            "_view_name": "LayoutView",
            "align_content": null,
            "align_items": null,
            "align_self": null,
            "border": null,
            "bottom": null,
            "display": null,
            "flex": null,
            "flex_flow": null,
            "grid_area": null,
            "grid_auto_columns": null,
            "grid_auto_flow": null,
            "grid_auto_rows": null,
            "grid_column": null,
            "grid_gap": null,
            "grid_row": null,
            "grid_template_areas": null,
            "grid_template_columns": null,
            "grid_template_rows": null,
            "height": null,
            "justify_content": null,
            "justify_items": null,
            "left": null,
            "margin": null,
            "max_height": null,
            "max_width": null,
            "min_height": null,
            "min_width": null,
            "object_fit": null,
            "object_position": null,
            "order": null,
            "overflow": null,
            "overflow_x": null,
            "overflow_y": null,
            "padding": null,
            "right": null,
            "top": null,
            "visibility": null,
            "width": null
          }
        },
        "6f0aff4ca31347bab2d498e8dd301434": {
          "model_module": "@jupyter-widgets/controls",
          "model_name": "ProgressStyleModel",
          "model_module_version": "1.5.0",
          "state": {
            "_model_module": "@jupyter-widgets/controls",
            "_model_module_version": "1.5.0",
            "_model_name": "ProgressStyleModel",
            "_view_count": null,
            "_view_module": "@jupyter-widgets/base",
            "_view_module_version": "1.2.0",
            "_view_name": "StyleView",
            "bar_color": null,
            "description_width": ""
          }
        },
        "7a6edb5cf89845e984506a6ea2713bb3": {
          "model_module": "@jupyter-widgets/base",
          "model_name": "LayoutModel",
          "model_module_version": "1.2.0",
          "state": {
            "_model_module": "@jupyter-widgets/base",
            "_model_module_version": "1.2.0",
            "_model_name": "LayoutModel",
            "_view_count": null,
            "_view_module": "@jupyter-widgets/base",
            "_view_module_version": "1.2.0",
            "_view_name": "LayoutView",
            "align_content": null,
            "align_items": null,
            "align_self": null,
            "border": null,
            "bottom": null,
            "display": null,
            "flex": null,
            "flex_flow": null,
            "grid_area": null,
            "grid_auto_columns": null,
            "grid_auto_flow": null,
            "grid_auto_rows": null,
            "grid_column": null,
            "grid_gap": null,
            "grid_row": null,
            "grid_template_areas": null,
            "grid_template_columns": null,
            "grid_template_rows": null,
            "height": null,
            "justify_content": null,
            "justify_items": null,
            "left": null,
            "margin": null,
            "max_height": null,
            "max_width": null,
            "min_height": null,
            "min_width": null,
            "object_fit": null,
            "object_position": null,
            "order": null,
            "overflow": null,
            "overflow_x": null,
            "overflow_y": null,
            "padding": null,
            "right": null,
            "top": null,
            "visibility": null,
            "width": null
          }
        },
        "352c581c84a6474388f0d7a52df13394": {
          "model_module": "@jupyter-widgets/controls",
          "model_name": "DescriptionStyleModel",
          "model_module_version": "1.5.0",
          "state": {
            "_model_module": "@jupyter-widgets/controls",
            "_model_module_version": "1.5.0",
            "_model_name": "DescriptionStyleModel",
            "_view_count": null,
            "_view_module": "@jupyter-widgets/base",
            "_view_module_version": "1.2.0",
            "_view_name": "StyleView",
            "description_width": ""
          }
        },
        "a1ea5c79def2424f913f456b742e40ff": {
          "model_module": "@jupyter-widgets/controls",
          "model_name": "HBoxModel",
          "model_module_version": "1.5.0",
          "state": {
            "_dom_classes": [],
            "_model_module": "@jupyter-widgets/controls",
            "_model_module_version": "1.5.0",
            "_model_name": "HBoxModel",
            "_view_count": null,
            "_view_module": "@jupyter-widgets/controls",
            "_view_module_version": "1.5.0",
            "_view_name": "HBoxView",
            "box_style": "",
            "children": [
              "IPY_MODEL_342e93b06de74b65b92532783e9b4bfa",
              "IPY_MODEL_809422219e9946199f6324509890b014",
              "IPY_MODEL_dcd73b5c3a294757b0adadbbd00de689"
            ],
            "layout": "IPY_MODEL_5d768de60b784c96a65397d16dc5776d"
          }
        },
        "342e93b06de74b65b92532783e9b4bfa": {
          "model_module": "@jupyter-widgets/controls",
          "model_name": "HTMLModel",
          "model_module_version": "1.5.0",
          "state": {
            "_dom_classes": [],
            "_model_module": "@jupyter-widgets/controls",
            "_model_module_version": "1.5.0",
            "_model_name": "HTMLModel",
            "_view_count": null,
            "_view_module": "@jupyter-widgets/controls",
            "_view_module_version": "1.5.0",
            "_view_name": "HTMLView",
            "description": "",
            "description_tooltip": null,
            "layout": "IPY_MODEL_0bb51f82f80c4c038be0c2f4ef90fa40",
            "placeholder": "​",
            "style": "IPY_MODEL_ecee60421b3040d6af9c9fc9a2eca29e",
            "value": "Testing 1/10: 100%"
          }
        },
        "809422219e9946199f6324509890b014": {
          "model_module": "@jupyter-widgets/controls",
          "model_name": "FloatProgressModel",
          "model_module_version": "1.5.0",
          "state": {
            "_dom_classes": [],
            "_model_module": "@jupyter-widgets/controls",
            "_model_module_version": "1.5.0",
            "_model_name": "FloatProgressModel",
            "_view_count": null,
            "_view_module": "@jupyter-widgets/controls",
            "_view_module_version": "1.5.0",
            "_view_name": "ProgressView",
            "bar_style": "success",
            "description": "",
            "description_tooltip": null,
            "layout": "IPY_MODEL_d83a6d1b27a042679afc54bd69fb5e97",
            "max": 157,
            "min": 0,
            "orientation": "horizontal",
            "style": "IPY_MODEL_862f0cf3189c41bda7f5aaf6a0333294",
            "value": 157
          }
        },
        "dcd73b5c3a294757b0adadbbd00de689": {
          "model_module": "@jupyter-widgets/controls",
          "model_name": "HTMLModel",
          "model_module_version": "1.5.0",
          "state": {
            "_dom_classes": [],
            "_model_module": "@jupyter-widgets/controls",
            "_model_module_version": "1.5.0",
            "_model_name": "HTMLModel",
            "_view_count": null,
            "_view_module": "@jupyter-widgets/controls",
            "_view_module_version": "1.5.0",
            "_view_name": "HTMLView",
            "description": "",
            "description_tooltip": null,
            "layout": "IPY_MODEL_f7d4957115c4439b9e564379743a99ca",
            "placeholder": "​",
            "style": "IPY_MODEL_6fe350bb39c843d8a0ab8a854be25136",
            "value": " 157/157 [00:02&lt;00:00, 50.97it/s]"
          }
        },
        "5d768de60b784c96a65397d16dc5776d": {
          "model_module": "@jupyter-widgets/base",
          "model_name": "LayoutModel",
          "model_module_version": "1.2.0",
          "state": {
            "_model_module": "@jupyter-widgets/base",
            "_model_module_version": "1.2.0",
            "_model_name": "LayoutModel",
            "_view_count": null,
            "_view_module": "@jupyter-widgets/base",
            "_view_module_version": "1.2.0",
            "_view_name": "LayoutView",
            "align_content": null,
            "align_items": null,
            "align_self": null,
            "border": null,
            "bottom": null,
            "display": null,
            "flex": null,
            "flex_flow": null,
            "grid_area": null,
            "grid_auto_columns": null,
            "grid_auto_flow": null,
            "grid_auto_rows": null,
            "grid_column": null,
            "grid_gap": null,
            "grid_row": null,
            "grid_template_areas": null,
            "grid_template_columns": null,
            "grid_template_rows": null,
            "height": null,
            "justify_content": null,
            "justify_items": null,
            "left": null,
            "margin": null,
            "max_height": null,
            "max_width": null,
            "min_height": null,
            "min_width": null,
            "object_fit": null,
            "object_position": null,
            "order": null,
            "overflow": null,
            "overflow_x": null,
            "overflow_y": null,
            "padding": null,
            "right": null,
            "top": null,
            "visibility": null,
            "width": null
          }
        },
        "0bb51f82f80c4c038be0c2f4ef90fa40": {
          "model_module": "@jupyter-widgets/base",
          "model_name": "LayoutModel",
          "model_module_version": "1.2.0",
          "state": {
            "_model_module": "@jupyter-widgets/base",
            "_model_module_version": "1.2.0",
            "_model_name": "LayoutModel",
            "_view_count": null,
            "_view_module": "@jupyter-widgets/base",
            "_view_module_version": "1.2.0",
            "_view_name": "LayoutView",
            "align_content": null,
            "align_items": null,
            "align_self": null,
            "border": null,
            "bottom": null,
            "display": null,
            "flex": null,
            "flex_flow": null,
            "grid_area": null,
            "grid_auto_columns": null,
            "grid_auto_flow": null,
            "grid_auto_rows": null,
            "grid_column": null,
            "grid_gap": null,
            "grid_row": null,
            "grid_template_areas": null,
            "grid_template_columns": null,
            "grid_template_rows": null,
            "height": null,
            "justify_content": null,
            "justify_items": null,
            "left": null,
            "margin": null,
            "max_height": null,
            "max_width": null,
            "min_height": null,
            "min_width": null,
            "object_fit": null,
            "object_position": null,
            "order": null,
            "overflow": null,
            "overflow_x": null,
            "overflow_y": null,
            "padding": null,
            "right": null,
            "top": null,
            "visibility": null,
            "width": null
          }
        },
        "ecee60421b3040d6af9c9fc9a2eca29e": {
          "model_module": "@jupyter-widgets/controls",
          "model_name": "DescriptionStyleModel",
          "model_module_version": "1.5.0",
          "state": {
            "_model_module": "@jupyter-widgets/controls",
            "_model_module_version": "1.5.0",
            "_model_name": "DescriptionStyleModel",
            "_view_count": null,
            "_view_module": "@jupyter-widgets/base",
            "_view_module_version": "1.2.0",
            "_view_name": "StyleView",
            "description_width": ""
          }
        },
        "d83a6d1b27a042679afc54bd69fb5e97": {
          "model_module": "@jupyter-widgets/base",
          "model_name": "LayoutModel",
          "model_module_version": "1.2.0",
          "state": {
            "_model_module": "@jupyter-widgets/base",
            "_model_module_version": "1.2.0",
            "_model_name": "LayoutModel",
            "_view_count": null,
            "_view_module": "@jupyter-widgets/base",
            "_view_module_version": "1.2.0",
            "_view_name": "LayoutView",
            "align_content": null,
            "align_items": null,
            "align_self": null,
            "border": null,
            "bottom": null,
            "display": null,
            "flex": null,
            "flex_flow": null,
            "grid_area": null,
            "grid_auto_columns": null,
            "grid_auto_flow": null,
            "grid_auto_rows": null,
            "grid_column": null,
            "grid_gap": null,
            "grid_row": null,
            "grid_template_areas": null,
            "grid_template_columns": null,
            "grid_template_rows": null,
            "height": null,
            "justify_content": null,
            "justify_items": null,
            "left": null,
            "margin": null,
            "max_height": null,
            "max_width": null,
            "min_height": null,
            "min_width": null,
            "object_fit": null,
            "object_position": null,
            "order": null,
            "overflow": null,
            "overflow_x": null,
            "overflow_y": null,
            "padding": null,
            "right": null,
            "top": null,
            "visibility": null,
            "width": null
          }
        },
        "862f0cf3189c41bda7f5aaf6a0333294": {
          "model_module": "@jupyter-widgets/controls",
          "model_name": "ProgressStyleModel",
          "model_module_version": "1.5.0",
          "state": {
            "_model_module": "@jupyter-widgets/controls",
            "_model_module_version": "1.5.0",
            "_model_name": "ProgressStyleModel",
            "_view_count": null,
            "_view_module": "@jupyter-widgets/base",
            "_view_module_version": "1.2.0",
            "_view_name": "StyleView",
            "bar_color": null,
            "description_width": ""
          }
        },
        "f7d4957115c4439b9e564379743a99ca": {
          "model_module": "@jupyter-widgets/base",
          "model_name": "LayoutModel",
          "model_module_version": "1.2.0",
          "state": {
            "_model_module": "@jupyter-widgets/base",
            "_model_module_version": "1.2.0",
            "_model_name": "LayoutModel",
            "_view_count": null,
            "_view_module": "@jupyter-widgets/base",
            "_view_module_version": "1.2.0",
            "_view_name": "LayoutView",
            "align_content": null,
            "align_items": null,
            "align_self": null,
            "border": null,
            "bottom": null,
            "display": null,
            "flex": null,
            "flex_flow": null,
            "grid_area": null,
            "grid_auto_columns": null,
            "grid_auto_flow": null,
            "grid_auto_rows": null,
            "grid_column": null,
            "grid_gap": null,
            "grid_row": null,
            "grid_template_areas": null,
            "grid_template_columns": null,
            "grid_template_rows": null,
            "height": null,
            "justify_content": null,
            "justify_items": null,
            "left": null,
            "margin": null,
            "max_height": null,
            "max_width": null,
            "min_height": null,
            "min_width": null,
            "object_fit": null,
            "object_position": null,
            "order": null,
            "overflow": null,
            "overflow_x": null,
            "overflow_y": null,
            "padding": null,
            "right": null,
            "top": null,
            "visibility": null,
            "width": null
          }
        },
        "6fe350bb39c843d8a0ab8a854be25136": {
          "model_module": "@jupyter-widgets/controls",
          "model_name": "DescriptionStyleModel",
          "model_module_version": "1.5.0",
          "state": {
            "_model_module": "@jupyter-widgets/controls",
            "_model_module_version": "1.5.0",
            "_model_name": "DescriptionStyleModel",
            "_view_count": null,
            "_view_module": "@jupyter-widgets/base",
            "_view_module_version": "1.2.0",
            "_view_name": "StyleView",
            "description_width": ""
          }
        },
        "452ed24119be4192901183bc46e50f1b": {
          "model_module": "@jupyter-widgets/controls",
          "model_name": "HBoxModel",
          "model_module_version": "1.5.0",
          "state": {
            "_dom_classes": [],
            "_model_module": "@jupyter-widgets/controls",
            "_model_module_version": "1.5.0",
            "_model_name": "HBoxModel",
            "_view_count": null,
            "_view_module": "@jupyter-widgets/controls",
            "_view_module_version": "1.5.0",
            "_view_name": "HBoxView",
            "box_style": "",
            "children": [
              "IPY_MODEL_8a2ea1931cb34779bb4e828f357cac07",
              "IPY_MODEL_24a8205479ff4240bdfcbaa4b38093dd",
              "IPY_MODEL_19fe012752dc462ba22ca9a9cc73139d"
            ],
            "layout": "IPY_MODEL_09de6f8587b9445bb6237a80fb17a287"
          }
        },
        "8a2ea1931cb34779bb4e828f357cac07": {
          "model_module": "@jupyter-widgets/controls",
          "model_name": "HTMLModel",
          "model_module_version": "1.5.0",
          "state": {
            "_dom_classes": [],
            "_model_module": "@jupyter-widgets/controls",
            "_model_module_version": "1.5.0",
            "_model_name": "HTMLModel",
            "_view_count": null,
            "_view_module": "@jupyter-widgets/controls",
            "_view_module_version": "1.5.0",
            "_view_name": "HTMLView",
            "description": "",
            "description_tooltip": null,
            "layout": "IPY_MODEL_f47bac15001d4c649a094934617a53ca",
            "placeholder": "​",
            "style": "IPY_MODEL_b10f939d25724e6a88596c6d24a59d15",
            "value": "Training 2/10: 100%"
          }
        },
        "24a8205479ff4240bdfcbaa4b38093dd": {
          "model_module": "@jupyter-widgets/controls",
          "model_name": "FloatProgressModel",
          "model_module_version": "1.5.0",
          "state": {
            "_dom_classes": [],
            "_model_module": "@jupyter-widgets/controls",
            "_model_module_version": "1.5.0",
            "_model_name": "FloatProgressModel",
            "_view_count": null,
            "_view_module": "@jupyter-widgets/controls",
            "_view_module_version": "1.5.0",
            "_view_name": "ProgressView",
            "bar_style": "success",
            "description": "",
            "description_tooltip": null,
            "layout": "IPY_MODEL_23369e80b33148a8b24a8588b755f692",
            "max": 938,
            "min": 0,
            "orientation": "horizontal",
            "style": "IPY_MODEL_134f1fde08094c639d5e7854324c1d45",
            "value": 938
          }
        },
        "19fe012752dc462ba22ca9a9cc73139d": {
          "model_module": "@jupyter-widgets/controls",
          "model_name": "HTMLModel",
          "model_module_version": "1.5.0",
          "state": {
            "_dom_classes": [],
            "_model_module": "@jupyter-widgets/controls",
            "_model_module_version": "1.5.0",
            "_model_name": "HTMLModel",
            "_view_count": null,
            "_view_module": "@jupyter-widgets/controls",
            "_view_module_version": "1.5.0",
            "_view_name": "HTMLView",
            "description": "",
            "description_tooltip": null,
            "layout": "IPY_MODEL_bebf500ed9e84c16888c91ab979bcace",
            "placeholder": "​",
            "style": "IPY_MODEL_9b7989855c75456ba433280fae11cbe9",
            "value": " 938/938 [00:14&lt;00:00, 48.23it/s]"
          }
        },
        "09de6f8587b9445bb6237a80fb17a287": {
          "model_module": "@jupyter-widgets/base",
          "model_name": "LayoutModel",
          "model_module_version": "1.2.0",
          "state": {
            "_model_module": "@jupyter-widgets/base",
            "_model_module_version": "1.2.0",
            "_model_name": "LayoutModel",
            "_view_count": null,
            "_view_module": "@jupyter-widgets/base",
            "_view_module_version": "1.2.0",
            "_view_name": "LayoutView",
            "align_content": null,
            "align_items": null,
            "align_self": null,
            "border": null,
            "bottom": null,
            "display": null,
            "flex": null,
            "flex_flow": null,
            "grid_area": null,
            "grid_auto_columns": null,
            "grid_auto_flow": null,
            "grid_auto_rows": null,
            "grid_column": null,
            "grid_gap": null,
            "grid_row": null,
            "grid_template_areas": null,
            "grid_template_columns": null,
            "grid_template_rows": null,
            "height": null,
            "justify_content": null,
            "justify_items": null,
            "left": null,
            "margin": null,
            "max_height": null,
            "max_width": null,
            "min_height": null,
            "min_width": null,
            "object_fit": null,
            "object_position": null,
            "order": null,
            "overflow": null,
            "overflow_x": null,
            "overflow_y": null,
            "padding": null,
            "right": null,
            "top": null,
            "visibility": null,
            "width": null
          }
        },
        "f47bac15001d4c649a094934617a53ca": {
          "model_module": "@jupyter-widgets/base",
          "model_name": "LayoutModel",
          "model_module_version": "1.2.0",
          "state": {
            "_model_module": "@jupyter-widgets/base",
            "_model_module_version": "1.2.0",
            "_model_name": "LayoutModel",
            "_view_count": null,
            "_view_module": "@jupyter-widgets/base",
            "_view_module_version": "1.2.0",
            "_view_name": "LayoutView",
            "align_content": null,
            "align_items": null,
            "align_self": null,
            "border": null,
            "bottom": null,
            "display": null,
            "flex": null,
            "flex_flow": null,
            "grid_area": null,
            "grid_auto_columns": null,
            "grid_auto_flow": null,
            "grid_auto_rows": null,
            "grid_column": null,
            "grid_gap": null,
            "grid_row": null,
            "grid_template_areas": null,
            "grid_template_columns": null,
            "grid_template_rows": null,
            "height": null,
            "justify_content": null,
            "justify_items": null,
            "left": null,
            "margin": null,
            "max_height": null,
            "max_width": null,
            "min_height": null,
            "min_width": null,
            "object_fit": null,
            "object_position": null,
            "order": null,
            "overflow": null,
            "overflow_x": null,
            "overflow_y": null,
            "padding": null,
            "right": null,
            "top": null,
            "visibility": null,
            "width": null
          }
        },
        "b10f939d25724e6a88596c6d24a59d15": {
          "model_module": "@jupyter-widgets/controls",
          "model_name": "DescriptionStyleModel",
          "model_module_version": "1.5.0",
          "state": {
            "_model_module": "@jupyter-widgets/controls",
            "_model_module_version": "1.5.0",
            "_model_name": "DescriptionStyleModel",
            "_view_count": null,
            "_view_module": "@jupyter-widgets/base",
            "_view_module_version": "1.2.0",
            "_view_name": "StyleView",
            "description_width": ""
          }
        },
        "23369e80b33148a8b24a8588b755f692": {
          "model_module": "@jupyter-widgets/base",
          "model_name": "LayoutModel",
          "model_module_version": "1.2.0",
          "state": {
            "_model_module": "@jupyter-widgets/base",
            "_model_module_version": "1.2.0",
            "_model_name": "LayoutModel",
            "_view_count": null,
            "_view_module": "@jupyter-widgets/base",
            "_view_module_version": "1.2.0",
            "_view_name": "LayoutView",
            "align_content": null,
            "align_items": null,
            "align_self": null,
            "border": null,
            "bottom": null,
            "display": null,
            "flex": null,
            "flex_flow": null,
            "grid_area": null,
            "grid_auto_columns": null,
            "grid_auto_flow": null,
            "grid_auto_rows": null,
            "grid_column": null,
            "grid_gap": null,
            "grid_row": null,
            "grid_template_areas": null,
            "grid_template_columns": null,
            "grid_template_rows": null,
            "height": null,
            "justify_content": null,
            "justify_items": null,
            "left": null,
            "margin": null,
            "max_height": null,
            "max_width": null,
            "min_height": null,
            "min_width": null,
            "object_fit": null,
            "object_position": null,
            "order": null,
            "overflow": null,
            "overflow_x": null,
            "overflow_y": null,
            "padding": null,
            "right": null,
            "top": null,
            "visibility": null,
            "width": null
          }
        },
        "134f1fde08094c639d5e7854324c1d45": {
          "model_module": "@jupyter-widgets/controls",
          "model_name": "ProgressStyleModel",
          "model_module_version": "1.5.0",
          "state": {
            "_model_module": "@jupyter-widgets/controls",
            "_model_module_version": "1.5.0",
            "_model_name": "ProgressStyleModel",
            "_view_count": null,
            "_view_module": "@jupyter-widgets/base",
            "_view_module_version": "1.2.0",
            "_view_name": "StyleView",
            "bar_color": null,
            "description_width": ""
          }
        },
        "bebf500ed9e84c16888c91ab979bcace": {
          "model_module": "@jupyter-widgets/base",
          "model_name": "LayoutModel",
          "model_module_version": "1.2.0",
          "state": {
            "_model_module": "@jupyter-widgets/base",
            "_model_module_version": "1.2.0",
            "_model_name": "LayoutModel",
            "_view_count": null,
            "_view_module": "@jupyter-widgets/base",
            "_view_module_version": "1.2.0",
            "_view_name": "LayoutView",
            "align_content": null,
            "align_items": null,
            "align_self": null,
            "border": null,
            "bottom": null,
            "display": null,
            "flex": null,
            "flex_flow": null,
            "grid_area": null,
            "grid_auto_columns": null,
            "grid_auto_flow": null,
            "grid_auto_rows": null,
            "grid_column": null,
            "grid_gap": null,
            "grid_row": null,
            "grid_template_areas": null,
            "grid_template_columns": null,
            "grid_template_rows": null,
            "height": null,
            "justify_content": null,
            "justify_items": null,
            "left": null,
            "margin": null,
            "max_height": null,
            "max_width": null,
            "min_height": null,
            "min_width": null,
            "object_fit": null,
            "object_position": null,
            "order": null,
            "overflow": null,
            "overflow_x": null,
            "overflow_y": null,
            "padding": null,
            "right": null,
            "top": null,
            "visibility": null,
            "width": null
          }
        },
        "9b7989855c75456ba433280fae11cbe9": {
          "model_module": "@jupyter-widgets/controls",
          "model_name": "DescriptionStyleModel",
          "model_module_version": "1.5.0",
          "state": {
            "_model_module": "@jupyter-widgets/controls",
            "_model_module_version": "1.5.0",
            "_model_name": "DescriptionStyleModel",
            "_view_count": null,
            "_view_module": "@jupyter-widgets/base",
            "_view_module_version": "1.2.0",
            "_view_name": "StyleView",
            "description_width": ""
          }
        },
        "fb3f018dae214dc68093264919450c0b": {
          "model_module": "@jupyter-widgets/controls",
          "model_name": "HBoxModel",
          "model_module_version": "1.5.0",
          "state": {
            "_dom_classes": [],
            "_model_module": "@jupyter-widgets/controls",
            "_model_module_version": "1.5.0",
            "_model_name": "HBoxModel",
            "_view_count": null,
            "_view_module": "@jupyter-widgets/controls",
            "_view_module_version": "1.5.0",
            "_view_name": "HBoxView",
            "box_style": "",
            "children": [
              "IPY_MODEL_4c11944271e845788a627a1dd464c764",
              "IPY_MODEL_8f30752239af4ac1b3a240ac1bb2073d",
              "IPY_MODEL_c315d6edacd845928c0867175a18cd64"
            ],
            "layout": "IPY_MODEL_72a25e8d07c44b1589855e3d8280e245"
          }
        },
        "4c11944271e845788a627a1dd464c764": {
          "model_module": "@jupyter-widgets/controls",
          "model_name": "HTMLModel",
          "model_module_version": "1.5.0",
          "state": {
            "_dom_classes": [],
            "_model_module": "@jupyter-widgets/controls",
            "_model_module_version": "1.5.0",
            "_model_name": "HTMLModel",
            "_view_count": null,
            "_view_module": "@jupyter-widgets/controls",
            "_view_module_version": "1.5.0",
            "_view_name": "HTMLView",
            "description": "",
            "description_tooltip": null,
            "layout": "IPY_MODEL_e7111c4434be448abdffca59f1bb4e45",
            "placeholder": "​",
            "style": "IPY_MODEL_e3d78ee399114d52b69231e2db2743d1",
            "value": "Testing 2/10: 100%"
          }
        },
        "8f30752239af4ac1b3a240ac1bb2073d": {
          "model_module": "@jupyter-widgets/controls",
          "model_name": "FloatProgressModel",
          "model_module_version": "1.5.0",
          "state": {
            "_dom_classes": [],
            "_model_module": "@jupyter-widgets/controls",
            "_model_module_version": "1.5.0",
            "_model_name": "FloatProgressModel",
            "_view_count": null,
            "_view_module": "@jupyter-widgets/controls",
            "_view_module_version": "1.5.0",
            "_view_name": "ProgressView",
            "bar_style": "success",
            "description": "",
            "description_tooltip": null,
            "layout": "IPY_MODEL_f4814df51e0c49809b6d8c12c8bb5a42",
            "max": 157,
            "min": 0,
            "orientation": "horizontal",
            "style": "IPY_MODEL_102a08ae834e477b95b3ca8800cfb150",
            "value": 157
          }
        },
        "c315d6edacd845928c0867175a18cd64": {
          "model_module": "@jupyter-widgets/controls",
          "model_name": "HTMLModel",
          "model_module_version": "1.5.0",
          "state": {
            "_dom_classes": [],
            "_model_module": "@jupyter-widgets/controls",
            "_model_module_version": "1.5.0",
            "_model_name": "HTMLModel",
            "_view_count": null,
            "_view_module": "@jupyter-widgets/controls",
            "_view_module_version": "1.5.0",
            "_view_name": "HTMLView",
            "description": "",
            "description_tooltip": null,
            "layout": "IPY_MODEL_8d959204913c4fdcba191635074e0757",
            "placeholder": "​",
            "style": "IPY_MODEL_ab039bce87e84773860ac8494adc5bc0",
            "value": " 157/157 [00:02&lt;00:00, 79.17it/s]"
          }
        },
        "72a25e8d07c44b1589855e3d8280e245": {
          "model_module": "@jupyter-widgets/base",
          "model_name": "LayoutModel",
          "model_module_version": "1.2.0",
          "state": {
            "_model_module": "@jupyter-widgets/base",
            "_model_module_version": "1.2.0",
            "_model_name": "LayoutModel",
            "_view_count": null,
            "_view_module": "@jupyter-widgets/base",
            "_view_module_version": "1.2.0",
            "_view_name": "LayoutView",
            "align_content": null,
            "align_items": null,
            "align_self": null,
            "border": null,
            "bottom": null,
            "display": null,
            "flex": null,
            "flex_flow": null,
            "grid_area": null,
            "grid_auto_columns": null,
            "grid_auto_flow": null,
            "grid_auto_rows": null,
            "grid_column": null,
            "grid_gap": null,
            "grid_row": null,
            "grid_template_areas": null,
            "grid_template_columns": null,
            "grid_template_rows": null,
            "height": null,
            "justify_content": null,
            "justify_items": null,
            "left": null,
            "margin": null,
            "max_height": null,
            "max_width": null,
            "min_height": null,
            "min_width": null,
            "object_fit": null,
            "object_position": null,
            "order": null,
            "overflow": null,
            "overflow_x": null,
            "overflow_y": null,
            "padding": null,
            "right": null,
            "top": null,
            "visibility": null,
            "width": null
          }
        },
        "e7111c4434be448abdffca59f1bb4e45": {
          "model_module": "@jupyter-widgets/base",
          "model_name": "LayoutModel",
          "model_module_version": "1.2.0",
          "state": {
            "_model_module": "@jupyter-widgets/base",
            "_model_module_version": "1.2.0",
            "_model_name": "LayoutModel",
            "_view_count": null,
            "_view_module": "@jupyter-widgets/base",
            "_view_module_version": "1.2.0",
            "_view_name": "LayoutView",
            "align_content": null,
            "align_items": null,
            "align_self": null,
            "border": null,
            "bottom": null,
            "display": null,
            "flex": null,
            "flex_flow": null,
            "grid_area": null,
            "grid_auto_columns": null,
            "grid_auto_flow": null,
            "grid_auto_rows": null,
            "grid_column": null,
            "grid_gap": null,
            "grid_row": null,
            "grid_template_areas": null,
            "grid_template_columns": null,
            "grid_template_rows": null,
            "height": null,
            "justify_content": null,
            "justify_items": null,
            "left": null,
            "margin": null,
            "max_height": null,
            "max_width": null,
            "min_height": null,
            "min_width": null,
            "object_fit": null,
            "object_position": null,
            "order": null,
            "overflow": null,
            "overflow_x": null,
            "overflow_y": null,
            "padding": null,
            "right": null,
            "top": null,
            "visibility": null,
            "width": null
          }
        },
        "e3d78ee399114d52b69231e2db2743d1": {
          "model_module": "@jupyter-widgets/controls",
          "model_name": "DescriptionStyleModel",
          "model_module_version": "1.5.0",
          "state": {
            "_model_module": "@jupyter-widgets/controls",
            "_model_module_version": "1.5.0",
            "_model_name": "DescriptionStyleModel",
            "_view_count": null,
            "_view_module": "@jupyter-widgets/base",
            "_view_module_version": "1.2.0",
            "_view_name": "StyleView",
            "description_width": ""
          }
        },
        "f4814df51e0c49809b6d8c12c8bb5a42": {
          "model_module": "@jupyter-widgets/base",
          "model_name": "LayoutModel",
          "model_module_version": "1.2.0",
          "state": {
            "_model_module": "@jupyter-widgets/base",
            "_model_module_version": "1.2.0",
            "_model_name": "LayoutModel",
            "_view_count": null,
            "_view_module": "@jupyter-widgets/base",
            "_view_module_version": "1.2.0",
            "_view_name": "LayoutView",
            "align_content": null,
            "align_items": null,
            "align_self": null,
            "border": null,
            "bottom": null,
            "display": null,
            "flex": null,
            "flex_flow": null,
            "grid_area": null,
            "grid_auto_columns": null,
            "grid_auto_flow": null,
            "grid_auto_rows": null,
            "grid_column": null,
            "grid_gap": null,
            "grid_row": null,
            "grid_template_areas": null,
            "grid_template_columns": null,
            "grid_template_rows": null,
            "height": null,
            "justify_content": null,
            "justify_items": null,
            "left": null,
            "margin": null,
            "max_height": null,
            "max_width": null,
            "min_height": null,
            "min_width": null,
            "object_fit": null,
            "object_position": null,
            "order": null,
            "overflow": null,
            "overflow_x": null,
            "overflow_y": null,
            "padding": null,
            "right": null,
            "top": null,
            "visibility": null,
            "width": null
          }
        },
        "102a08ae834e477b95b3ca8800cfb150": {
          "model_module": "@jupyter-widgets/controls",
          "model_name": "ProgressStyleModel",
          "model_module_version": "1.5.0",
          "state": {
            "_model_module": "@jupyter-widgets/controls",
            "_model_module_version": "1.5.0",
            "_model_name": "ProgressStyleModel",
            "_view_count": null,
            "_view_module": "@jupyter-widgets/base",
            "_view_module_version": "1.2.0",
            "_view_name": "StyleView",
            "bar_color": null,
            "description_width": ""
          }
        },
        "8d959204913c4fdcba191635074e0757": {
          "model_module": "@jupyter-widgets/base",
          "model_name": "LayoutModel",
          "model_module_version": "1.2.0",
          "state": {
            "_model_module": "@jupyter-widgets/base",
            "_model_module_version": "1.2.0",
            "_model_name": "LayoutModel",
            "_view_count": null,
            "_view_module": "@jupyter-widgets/base",
            "_view_module_version": "1.2.0",
            "_view_name": "LayoutView",
            "align_content": null,
            "align_items": null,
            "align_self": null,
            "border": null,
            "bottom": null,
            "display": null,
            "flex": null,
            "flex_flow": null,
            "grid_area": null,
            "grid_auto_columns": null,
            "grid_auto_flow": null,
            "grid_auto_rows": null,
            "grid_column": null,
            "grid_gap": null,
            "grid_row": null,
            "grid_template_areas": null,
            "grid_template_columns": null,
            "grid_template_rows": null,
            "height": null,
            "justify_content": null,
            "justify_items": null,
            "left": null,
            "margin": null,
            "max_height": null,
            "max_width": null,
            "min_height": null,
            "min_width": null,
            "object_fit": null,
            "object_position": null,
            "order": null,
            "overflow": null,
            "overflow_x": null,
            "overflow_y": null,
            "padding": null,
            "right": null,
            "top": null,
            "visibility": null,
            "width": null
          }
        },
        "ab039bce87e84773860ac8494adc5bc0": {
          "model_module": "@jupyter-widgets/controls",
          "model_name": "DescriptionStyleModel",
          "model_module_version": "1.5.0",
          "state": {
            "_model_module": "@jupyter-widgets/controls",
            "_model_module_version": "1.5.0",
            "_model_name": "DescriptionStyleModel",
            "_view_count": null,
            "_view_module": "@jupyter-widgets/base",
            "_view_module_version": "1.2.0",
            "_view_name": "StyleView",
            "description_width": ""
          }
        },
        "7a53b3ea30e1407fba588e3dd309da4d": {
          "model_module": "@jupyter-widgets/controls",
          "model_name": "HBoxModel",
          "model_module_version": "1.5.0",
          "state": {
            "_dom_classes": [],
            "_model_module": "@jupyter-widgets/controls",
            "_model_module_version": "1.5.0",
            "_model_name": "HBoxModel",
            "_view_count": null,
            "_view_module": "@jupyter-widgets/controls",
            "_view_module_version": "1.5.0",
            "_view_name": "HBoxView",
            "box_style": "",
            "children": [
              "IPY_MODEL_20f47ac7e2984744b6ecbf990909836f",
              "IPY_MODEL_989f8c253dc343479eb2bad49f843472",
              "IPY_MODEL_1af7c6c0229746e79573ee052b23d6f5"
            ],
            "layout": "IPY_MODEL_9144f84aa7ff491badac2d6cff1f4691"
          }
        },
        "20f47ac7e2984744b6ecbf990909836f": {
          "model_module": "@jupyter-widgets/controls",
          "model_name": "HTMLModel",
          "model_module_version": "1.5.0",
          "state": {
            "_dom_classes": [],
            "_model_module": "@jupyter-widgets/controls",
            "_model_module_version": "1.5.0",
            "_model_name": "HTMLModel",
            "_view_count": null,
            "_view_module": "@jupyter-widgets/controls",
            "_view_module_version": "1.5.0",
            "_view_name": "HTMLView",
            "description": "",
            "description_tooltip": null,
            "layout": "IPY_MODEL_574fa9d8ec4a4461a532471d3a9f2d57",
            "placeholder": "​",
            "style": "IPY_MODEL_9066d400e7e643389f149d3804caa05a",
            "value": "Training 3/10: 100%"
          }
        },
        "989f8c253dc343479eb2bad49f843472": {
          "model_module": "@jupyter-widgets/controls",
          "model_name": "FloatProgressModel",
          "model_module_version": "1.5.0",
          "state": {
            "_dom_classes": [],
            "_model_module": "@jupyter-widgets/controls",
            "_model_module_version": "1.5.0",
            "_model_name": "FloatProgressModel",
            "_view_count": null,
            "_view_module": "@jupyter-widgets/controls",
            "_view_module_version": "1.5.0",
            "_view_name": "ProgressView",
            "bar_style": "success",
            "description": "",
            "description_tooltip": null,
            "layout": "IPY_MODEL_12ce670603cd4e9fbafeef0ef7a0d037",
            "max": 938,
            "min": 0,
            "orientation": "horizontal",
            "style": "IPY_MODEL_64750bcda49441b687e1651c6963179d",
            "value": 938
          }
        },
        "1af7c6c0229746e79573ee052b23d6f5": {
          "model_module": "@jupyter-widgets/controls",
          "model_name": "HTMLModel",
          "model_module_version": "1.5.0",
          "state": {
            "_dom_classes": [],
            "_model_module": "@jupyter-widgets/controls",
            "_model_module_version": "1.5.0",
            "_model_name": "HTMLModel",
            "_view_count": null,
            "_view_module": "@jupyter-widgets/controls",
            "_view_module_version": "1.5.0",
            "_view_name": "HTMLView",
            "description": "",
            "description_tooltip": null,
            "layout": "IPY_MODEL_d438de2ea22a4be4b5905ccd0ba1c97e",
            "placeholder": "​",
            "style": "IPY_MODEL_2d60aabe1fad4009835c6f4d14580f82",
            "value": " 938/938 [00:14&lt;00:00, 72.57it/s]"
          }
        },
        "9144f84aa7ff491badac2d6cff1f4691": {
          "model_module": "@jupyter-widgets/base",
          "model_name": "LayoutModel",
          "model_module_version": "1.2.0",
          "state": {
            "_model_module": "@jupyter-widgets/base",
            "_model_module_version": "1.2.0",
            "_model_name": "LayoutModel",
            "_view_count": null,
            "_view_module": "@jupyter-widgets/base",
            "_view_module_version": "1.2.0",
            "_view_name": "LayoutView",
            "align_content": null,
            "align_items": null,
            "align_self": null,
            "border": null,
            "bottom": null,
            "display": null,
            "flex": null,
            "flex_flow": null,
            "grid_area": null,
            "grid_auto_columns": null,
            "grid_auto_flow": null,
            "grid_auto_rows": null,
            "grid_column": null,
            "grid_gap": null,
            "grid_row": null,
            "grid_template_areas": null,
            "grid_template_columns": null,
            "grid_template_rows": null,
            "height": null,
            "justify_content": null,
            "justify_items": null,
            "left": null,
            "margin": null,
            "max_height": null,
            "max_width": null,
            "min_height": null,
            "min_width": null,
            "object_fit": null,
            "object_position": null,
            "order": null,
            "overflow": null,
            "overflow_x": null,
            "overflow_y": null,
            "padding": null,
            "right": null,
            "top": null,
            "visibility": null,
            "width": null
          }
        },
        "574fa9d8ec4a4461a532471d3a9f2d57": {
          "model_module": "@jupyter-widgets/base",
          "model_name": "LayoutModel",
          "model_module_version": "1.2.0",
          "state": {
            "_model_module": "@jupyter-widgets/base",
            "_model_module_version": "1.2.0",
            "_model_name": "LayoutModel",
            "_view_count": null,
            "_view_module": "@jupyter-widgets/base",
            "_view_module_version": "1.2.0",
            "_view_name": "LayoutView",
            "align_content": null,
            "align_items": null,
            "align_self": null,
            "border": null,
            "bottom": null,
            "display": null,
            "flex": null,
            "flex_flow": null,
            "grid_area": null,
            "grid_auto_columns": null,
            "grid_auto_flow": null,
            "grid_auto_rows": null,
            "grid_column": null,
            "grid_gap": null,
            "grid_row": null,
            "grid_template_areas": null,
            "grid_template_columns": null,
            "grid_template_rows": null,
            "height": null,
            "justify_content": null,
            "justify_items": null,
            "left": null,
            "margin": null,
            "max_height": null,
            "max_width": null,
            "min_height": null,
            "min_width": null,
            "object_fit": null,
            "object_position": null,
            "order": null,
            "overflow": null,
            "overflow_x": null,
            "overflow_y": null,
            "padding": null,
            "right": null,
            "top": null,
            "visibility": null,
            "width": null
          }
        },
        "9066d400e7e643389f149d3804caa05a": {
          "model_module": "@jupyter-widgets/controls",
          "model_name": "DescriptionStyleModel",
          "model_module_version": "1.5.0",
          "state": {
            "_model_module": "@jupyter-widgets/controls",
            "_model_module_version": "1.5.0",
            "_model_name": "DescriptionStyleModel",
            "_view_count": null,
            "_view_module": "@jupyter-widgets/base",
            "_view_module_version": "1.2.0",
            "_view_name": "StyleView",
            "description_width": ""
          }
        },
        "12ce670603cd4e9fbafeef0ef7a0d037": {
          "model_module": "@jupyter-widgets/base",
          "model_name": "LayoutModel",
          "model_module_version": "1.2.0",
          "state": {
            "_model_module": "@jupyter-widgets/base",
            "_model_module_version": "1.2.0",
            "_model_name": "LayoutModel",
            "_view_count": null,
            "_view_module": "@jupyter-widgets/base",
            "_view_module_version": "1.2.0",
            "_view_name": "LayoutView",
            "align_content": null,
            "align_items": null,
            "align_self": null,
            "border": null,
            "bottom": null,
            "display": null,
            "flex": null,
            "flex_flow": null,
            "grid_area": null,
            "grid_auto_columns": null,
            "grid_auto_flow": null,
            "grid_auto_rows": null,
            "grid_column": null,
            "grid_gap": null,
            "grid_row": null,
            "grid_template_areas": null,
            "grid_template_columns": null,
            "grid_template_rows": null,
            "height": null,
            "justify_content": null,
            "justify_items": null,
            "left": null,
            "margin": null,
            "max_height": null,
            "max_width": null,
            "min_height": null,
            "min_width": null,
            "object_fit": null,
            "object_position": null,
            "order": null,
            "overflow": null,
            "overflow_x": null,
            "overflow_y": null,
            "padding": null,
            "right": null,
            "top": null,
            "visibility": null,
            "width": null
          }
        },
        "64750bcda49441b687e1651c6963179d": {
          "model_module": "@jupyter-widgets/controls",
          "model_name": "ProgressStyleModel",
          "model_module_version": "1.5.0",
          "state": {
            "_model_module": "@jupyter-widgets/controls",
            "_model_module_version": "1.5.0",
            "_model_name": "ProgressStyleModel",
            "_view_count": null,
            "_view_module": "@jupyter-widgets/base",
            "_view_module_version": "1.2.0",
            "_view_name": "StyleView",
            "bar_color": null,
            "description_width": ""
          }
        },
        "d438de2ea22a4be4b5905ccd0ba1c97e": {
          "model_module": "@jupyter-widgets/base",
          "model_name": "LayoutModel",
          "model_module_version": "1.2.0",
          "state": {
            "_model_module": "@jupyter-widgets/base",
            "_model_module_version": "1.2.0",
            "_model_name": "LayoutModel",
            "_view_count": null,
            "_view_module": "@jupyter-widgets/base",
            "_view_module_version": "1.2.0",
            "_view_name": "LayoutView",
            "align_content": null,
            "align_items": null,
            "align_self": null,
            "border": null,
            "bottom": null,
            "display": null,
            "flex": null,
            "flex_flow": null,
            "grid_area": null,
            "grid_auto_columns": null,
            "grid_auto_flow": null,
            "grid_auto_rows": null,
            "grid_column": null,
            "grid_gap": null,
            "grid_row": null,
            "grid_template_areas": null,
            "grid_template_columns": null,
            "grid_template_rows": null,
            "height": null,
            "justify_content": null,
            "justify_items": null,
            "left": null,
            "margin": null,
            "max_height": null,
            "max_width": null,
            "min_height": null,
            "min_width": null,
            "object_fit": null,
            "object_position": null,
            "order": null,
            "overflow": null,
            "overflow_x": null,
            "overflow_y": null,
            "padding": null,
            "right": null,
            "top": null,
            "visibility": null,
            "width": null
          }
        },
        "2d60aabe1fad4009835c6f4d14580f82": {
          "model_module": "@jupyter-widgets/controls",
          "model_name": "DescriptionStyleModel",
          "model_module_version": "1.5.0",
          "state": {
            "_model_module": "@jupyter-widgets/controls",
            "_model_module_version": "1.5.0",
            "_model_name": "DescriptionStyleModel",
            "_view_count": null,
            "_view_module": "@jupyter-widgets/base",
            "_view_module_version": "1.2.0",
            "_view_name": "StyleView",
            "description_width": ""
          }
        },
        "9de8319c28b042e19db3144e6482cf51": {
          "model_module": "@jupyter-widgets/controls",
          "model_name": "HBoxModel",
          "model_module_version": "1.5.0",
          "state": {
            "_dom_classes": [],
            "_model_module": "@jupyter-widgets/controls",
            "_model_module_version": "1.5.0",
            "_model_name": "HBoxModel",
            "_view_count": null,
            "_view_module": "@jupyter-widgets/controls",
            "_view_module_version": "1.5.0",
            "_view_name": "HBoxView",
            "box_style": "",
            "children": [
              "IPY_MODEL_179cce00d6e342dca1770569c02c4b93",
              "IPY_MODEL_ab86674868314e5287c42eecc5b9dcc2",
              "IPY_MODEL_b5de5fb8ef7446c1be5511b7ee8f0466"
            ],
            "layout": "IPY_MODEL_4d665b5eb99e4de6ab9bf92a9acfbec4"
          }
        },
        "179cce00d6e342dca1770569c02c4b93": {
          "model_module": "@jupyter-widgets/controls",
          "model_name": "HTMLModel",
          "model_module_version": "1.5.0",
          "state": {
            "_dom_classes": [],
            "_model_module": "@jupyter-widgets/controls",
            "_model_module_version": "1.5.0",
            "_model_name": "HTMLModel",
            "_view_count": null,
            "_view_module": "@jupyter-widgets/controls",
            "_view_module_version": "1.5.0",
            "_view_name": "HTMLView",
            "description": "",
            "description_tooltip": null,
            "layout": "IPY_MODEL_1a12926ef9564a42a15a5e3ed395423a",
            "placeholder": "​",
            "style": "IPY_MODEL_bd5209ca971a48d9bd5570f7ccc0f06d",
            "value": "Testing 3/10: 100%"
          }
        },
        "ab86674868314e5287c42eecc5b9dcc2": {
          "model_module": "@jupyter-widgets/controls",
          "model_name": "FloatProgressModel",
          "model_module_version": "1.5.0",
          "state": {
            "_dom_classes": [],
            "_model_module": "@jupyter-widgets/controls",
            "_model_module_version": "1.5.0",
            "_model_name": "FloatProgressModel",
            "_view_count": null,
            "_view_module": "@jupyter-widgets/controls",
            "_view_module_version": "1.5.0",
            "_view_name": "ProgressView",
            "bar_style": "success",
            "description": "",
            "description_tooltip": null,
            "layout": "IPY_MODEL_2fdd221ac6de40b18b194d3fb96336a1",
            "max": 157,
            "min": 0,
            "orientation": "horizontal",
            "style": "IPY_MODEL_bfff2e8436484ee09d581dab3e740bac",
            "value": 157
          }
        },
        "b5de5fb8ef7446c1be5511b7ee8f0466": {
          "model_module": "@jupyter-widgets/controls",
          "model_name": "HTMLModel",
          "model_module_version": "1.5.0",
          "state": {
            "_dom_classes": [],
            "_model_module": "@jupyter-widgets/controls",
            "_model_module_version": "1.5.0",
            "_model_name": "HTMLModel",
            "_view_count": null,
            "_view_module": "@jupyter-widgets/controls",
            "_view_module_version": "1.5.0",
            "_view_name": "HTMLView",
            "description": "",
            "description_tooltip": null,
            "layout": "IPY_MODEL_be4c916dbc0b45d291bf237fe1fccc14",
            "placeholder": "​",
            "style": "IPY_MODEL_f64059eedb3344dda469691cc5dd50b9",
            "value": " 157/157 [00:02&lt;00:00, 82.43it/s]"
          }
        },
        "4d665b5eb99e4de6ab9bf92a9acfbec4": {
          "model_module": "@jupyter-widgets/base",
          "model_name": "LayoutModel",
          "model_module_version": "1.2.0",
          "state": {
            "_model_module": "@jupyter-widgets/base",
            "_model_module_version": "1.2.0",
            "_model_name": "LayoutModel",
            "_view_count": null,
            "_view_module": "@jupyter-widgets/base",
            "_view_module_version": "1.2.0",
            "_view_name": "LayoutView",
            "align_content": null,
            "align_items": null,
            "align_self": null,
            "border": null,
            "bottom": null,
            "display": null,
            "flex": null,
            "flex_flow": null,
            "grid_area": null,
            "grid_auto_columns": null,
            "grid_auto_flow": null,
            "grid_auto_rows": null,
            "grid_column": null,
            "grid_gap": null,
            "grid_row": null,
            "grid_template_areas": null,
            "grid_template_columns": null,
            "grid_template_rows": null,
            "height": null,
            "justify_content": null,
            "justify_items": null,
            "left": null,
            "margin": null,
            "max_height": null,
            "max_width": null,
            "min_height": null,
            "min_width": null,
            "object_fit": null,
            "object_position": null,
            "order": null,
            "overflow": null,
            "overflow_x": null,
            "overflow_y": null,
            "padding": null,
            "right": null,
            "top": null,
            "visibility": null,
            "width": null
          }
        },
        "1a12926ef9564a42a15a5e3ed395423a": {
          "model_module": "@jupyter-widgets/base",
          "model_name": "LayoutModel",
          "model_module_version": "1.2.0",
          "state": {
            "_model_module": "@jupyter-widgets/base",
            "_model_module_version": "1.2.0",
            "_model_name": "LayoutModel",
            "_view_count": null,
            "_view_module": "@jupyter-widgets/base",
            "_view_module_version": "1.2.0",
            "_view_name": "LayoutView",
            "align_content": null,
            "align_items": null,
            "align_self": null,
            "border": null,
            "bottom": null,
            "display": null,
            "flex": null,
            "flex_flow": null,
            "grid_area": null,
            "grid_auto_columns": null,
            "grid_auto_flow": null,
            "grid_auto_rows": null,
            "grid_column": null,
            "grid_gap": null,
            "grid_row": null,
            "grid_template_areas": null,
            "grid_template_columns": null,
            "grid_template_rows": null,
            "height": null,
            "justify_content": null,
            "justify_items": null,
            "left": null,
            "margin": null,
            "max_height": null,
            "max_width": null,
            "min_height": null,
            "min_width": null,
            "object_fit": null,
            "object_position": null,
            "order": null,
            "overflow": null,
            "overflow_x": null,
            "overflow_y": null,
            "padding": null,
            "right": null,
            "top": null,
            "visibility": null,
            "width": null
          }
        },
        "bd5209ca971a48d9bd5570f7ccc0f06d": {
          "model_module": "@jupyter-widgets/controls",
          "model_name": "DescriptionStyleModel",
          "model_module_version": "1.5.0",
          "state": {
            "_model_module": "@jupyter-widgets/controls",
            "_model_module_version": "1.5.0",
            "_model_name": "DescriptionStyleModel",
            "_view_count": null,
            "_view_module": "@jupyter-widgets/base",
            "_view_module_version": "1.2.0",
            "_view_name": "StyleView",
            "description_width": ""
          }
        },
        "2fdd221ac6de40b18b194d3fb96336a1": {
          "model_module": "@jupyter-widgets/base",
          "model_name": "LayoutModel",
          "model_module_version": "1.2.0",
          "state": {
            "_model_module": "@jupyter-widgets/base",
            "_model_module_version": "1.2.0",
            "_model_name": "LayoutModel",
            "_view_count": null,
            "_view_module": "@jupyter-widgets/base",
            "_view_module_version": "1.2.0",
            "_view_name": "LayoutView",
            "align_content": null,
            "align_items": null,
            "align_self": null,
            "border": null,
            "bottom": null,
            "display": null,
            "flex": null,
            "flex_flow": null,
            "grid_area": null,
            "grid_auto_columns": null,
            "grid_auto_flow": null,
            "grid_auto_rows": null,
            "grid_column": null,
            "grid_gap": null,
            "grid_row": null,
            "grid_template_areas": null,
            "grid_template_columns": null,
            "grid_template_rows": null,
            "height": null,
            "justify_content": null,
            "justify_items": null,
            "left": null,
            "margin": null,
            "max_height": null,
            "max_width": null,
            "min_height": null,
            "min_width": null,
            "object_fit": null,
            "object_position": null,
            "order": null,
            "overflow": null,
            "overflow_x": null,
            "overflow_y": null,
            "padding": null,
            "right": null,
            "top": null,
            "visibility": null,
            "width": null
          }
        },
        "bfff2e8436484ee09d581dab3e740bac": {
          "model_module": "@jupyter-widgets/controls",
          "model_name": "ProgressStyleModel",
          "model_module_version": "1.5.0",
          "state": {
            "_model_module": "@jupyter-widgets/controls",
            "_model_module_version": "1.5.0",
            "_model_name": "ProgressStyleModel",
            "_view_count": null,
            "_view_module": "@jupyter-widgets/base",
            "_view_module_version": "1.2.0",
            "_view_name": "StyleView",
            "bar_color": null,
            "description_width": ""
          }
        },
        "be4c916dbc0b45d291bf237fe1fccc14": {
          "model_module": "@jupyter-widgets/base",
          "model_name": "LayoutModel",
          "model_module_version": "1.2.0",
          "state": {
            "_model_module": "@jupyter-widgets/base",
            "_model_module_version": "1.2.0",
            "_model_name": "LayoutModel",
            "_view_count": null,
            "_view_module": "@jupyter-widgets/base",
            "_view_module_version": "1.2.0",
            "_view_name": "LayoutView",
            "align_content": null,
            "align_items": null,
            "align_self": null,
            "border": null,
            "bottom": null,
            "display": null,
            "flex": null,
            "flex_flow": null,
            "grid_area": null,
            "grid_auto_columns": null,
            "grid_auto_flow": null,
            "grid_auto_rows": null,
            "grid_column": null,
            "grid_gap": null,
            "grid_row": null,
            "grid_template_areas": null,
            "grid_template_columns": null,
            "grid_template_rows": null,
            "height": null,
            "justify_content": null,
            "justify_items": null,
            "left": null,
            "margin": null,
            "max_height": null,
            "max_width": null,
            "min_height": null,
            "min_width": null,
            "object_fit": null,
            "object_position": null,
            "order": null,
            "overflow": null,
            "overflow_x": null,
            "overflow_y": null,
            "padding": null,
            "right": null,
            "top": null,
            "visibility": null,
            "width": null
          }
        },
        "f64059eedb3344dda469691cc5dd50b9": {
          "model_module": "@jupyter-widgets/controls",
          "model_name": "DescriptionStyleModel",
          "model_module_version": "1.5.0",
          "state": {
            "_model_module": "@jupyter-widgets/controls",
            "_model_module_version": "1.5.0",
            "_model_name": "DescriptionStyleModel",
            "_view_count": null,
            "_view_module": "@jupyter-widgets/base",
            "_view_module_version": "1.2.0",
            "_view_name": "StyleView",
            "description_width": ""
          }
        },
        "13c6cc24a15c4113b161eaefa916f5d5": {
          "model_module": "@jupyter-widgets/controls",
          "model_name": "HBoxModel",
          "model_module_version": "1.5.0",
          "state": {
            "_dom_classes": [],
            "_model_module": "@jupyter-widgets/controls",
            "_model_module_version": "1.5.0",
            "_model_name": "HBoxModel",
            "_view_count": null,
            "_view_module": "@jupyter-widgets/controls",
            "_view_module_version": "1.5.0",
            "_view_name": "HBoxView",
            "box_style": "",
            "children": [
              "IPY_MODEL_b457e4fe80684758907efa407a0e83b2",
              "IPY_MODEL_90a80572eaea4fe598abac249b6873fb",
              "IPY_MODEL_8140e8ee86224e4baa05042432b749f5"
            ],
            "layout": "IPY_MODEL_7a4edc017dfd40e4802ab7948ccb97af"
          }
        },
        "b457e4fe80684758907efa407a0e83b2": {
          "model_module": "@jupyter-widgets/controls",
          "model_name": "HTMLModel",
          "model_module_version": "1.5.0",
          "state": {
            "_dom_classes": [],
            "_model_module": "@jupyter-widgets/controls",
            "_model_module_version": "1.5.0",
            "_model_name": "HTMLModel",
            "_view_count": null,
            "_view_module": "@jupyter-widgets/controls",
            "_view_module_version": "1.5.0",
            "_view_name": "HTMLView",
            "description": "",
            "description_tooltip": null,
            "layout": "IPY_MODEL_da29010f3c874e4188ef5be4c1e86a3b",
            "placeholder": "​",
            "style": "IPY_MODEL_764bc87e5f9646059842cd045b78dece",
            "value": "Training 4/10: 100%"
          }
        },
        "90a80572eaea4fe598abac249b6873fb": {
          "model_module": "@jupyter-widgets/controls",
          "model_name": "FloatProgressModel",
          "model_module_version": "1.5.0",
          "state": {
            "_dom_classes": [],
            "_model_module": "@jupyter-widgets/controls",
            "_model_module_version": "1.5.0",
            "_model_name": "FloatProgressModel",
            "_view_count": null,
            "_view_module": "@jupyter-widgets/controls",
            "_view_module_version": "1.5.0",
            "_view_name": "ProgressView",
            "bar_style": "success",
            "description": "",
            "description_tooltip": null,
            "layout": "IPY_MODEL_bcf3221a5bc448aeb4bc5da15a3dfaec",
            "max": 938,
            "min": 0,
            "orientation": "horizontal",
            "style": "IPY_MODEL_88386d0aef884ab6a82fb9bca6eacc36",
            "value": 938
          }
        },
        "8140e8ee86224e4baa05042432b749f5": {
          "model_module": "@jupyter-widgets/controls",
          "model_name": "HTMLModel",
          "model_module_version": "1.5.0",
          "state": {
            "_dom_classes": [],
            "_model_module": "@jupyter-widgets/controls",
            "_model_module_version": "1.5.0",
            "_model_name": "HTMLModel",
            "_view_count": null,
            "_view_module": "@jupyter-widgets/controls",
            "_view_module_version": "1.5.0",
            "_view_name": "HTMLView",
            "description": "",
            "description_tooltip": null,
            "layout": "IPY_MODEL_df243d6bff03469ea4e641134d54be3d",
            "placeholder": "​",
            "style": "IPY_MODEL_40545189e7aa467eb6a6328032b94bc6",
            "value": " 938/938 [00:15&lt;00:00, 69.09it/s]"
          }
        },
        "7a4edc017dfd40e4802ab7948ccb97af": {
          "model_module": "@jupyter-widgets/base",
          "model_name": "LayoutModel",
          "model_module_version": "1.2.0",
          "state": {
            "_model_module": "@jupyter-widgets/base",
            "_model_module_version": "1.2.0",
            "_model_name": "LayoutModel",
            "_view_count": null,
            "_view_module": "@jupyter-widgets/base",
            "_view_module_version": "1.2.0",
            "_view_name": "LayoutView",
            "align_content": null,
            "align_items": null,
            "align_self": null,
            "border": null,
            "bottom": null,
            "display": null,
            "flex": null,
            "flex_flow": null,
            "grid_area": null,
            "grid_auto_columns": null,
            "grid_auto_flow": null,
            "grid_auto_rows": null,
            "grid_column": null,
            "grid_gap": null,
            "grid_row": null,
            "grid_template_areas": null,
            "grid_template_columns": null,
            "grid_template_rows": null,
            "height": null,
            "justify_content": null,
            "justify_items": null,
            "left": null,
            "margin": null,
            "max_height": null,
            "max_width": null,
            "min_height": null,
            "min_width": null,
            "object_fit": null,
            "object_position": null,
            "order": null,
            "overflow": null,
            "overflow_x": null,
            "overflow_y": null,
            "padding": null,
            "right": null,
            "top": null,
            "visibility": null,
            "width": null
          }
        },
        "da29010f3c874e4188ef5be4c1e86a3b": {
          "model_module": "@jupyter-widgets/base",
          "model_name": "LayoutModel",
          "model_module_version": "1.2.0",
          "state": {
            "_model_module": "@jupyter-widgets/base",
            "_model_module_version": "1.2.0",
            "_model_name": "LayoutModel",
            "_view_count": null,
            "_view_module": "@jupyter-widgets/base",
            "_view_module_version": "1.2.0",
            "_view_name": "LayoutView",
            "align_content": null,
            "align_items": null,
            "align_self": null,
            "border": null,
            "bottom": null,
            "display": null,
            "flex": null,
            "flex_flow": null,
            "grid_area": null,
            "grid_auto_columns": null,
            "grid_auto_flow": null,
            "grid_auto_rows": null,
            "grid_column": null,
            "grid_gap": null,
            "grid_row": null,
            "grid_template_areas": null,
            "grid_template_columns": null,
            "grid_template_rows": null,
            "height": null,
            "justify_content": null,
            "justify_items": null,
            "left": null,
            "margin": null,
            "max_height": null,
            "max_width": null,
            "min_height": null,
            "min_width": null,
            "object_fit": null,
            "object_position": null,
            "order": null,
            "overflow": null,
            "overflow_x": null,
            "overflow_y": null,
            "padding": null,
            "right": null,
            "top": null,
            "visibility": null,
            "width": null
          }
        },
        "764bc87e5f9646059842cd045b78dece": {
          "model_module": "@jupyter-widgets/controls",
          "model_name": "DescriptionStyleModel",
          "model_module_version": "1.5.0",
          "state": {
            "_model_module": "@jupyter-widgets/controls",
            "_model_module_version": "1.5.0",
            "_model_name": "DescriptionStyleModel",
            "_view_count": null,
            "_view_module": "@jupyter-widgets/base",
            "_view_module_version": "1.2.0",
            "_view_name": "StyleView",
            "description_width": ""
          }
        },
        "bcf3221a5bc448aeb4bc5da15a3dfaec": {
          "model_module": "@jupyter-widgets/base",
          "model_name": "LayoutModel",
          "model_module_version": "1.2.0",
          "state": {
            "_model_module": "@jupyter-widgets/base",
            "_model_module_version": "1.2.0",
            "_model_name": "LayoutModel",
            "_view_count": null,
            "_view_module": "@jupyter-widgets/base",
            "_view_module_version": "1.2.0",
            "_view_name": "LayoutView",
            "align_content": null,
            "align_items": null,
            "align_self": null,
            "border": null,
            "bottom": null,
            "display": null,
            "flex": null,
            "flex_flow": null,
            "grid_area": null,
            "grid_auto_columns": null,
            "grid_auto_flow": null,
            "grid_auto_rows": null,
            "grid_column": null,
            "grid_gap": null,
            "grid_row": null,
            "grid_template_areas": null,
            "grid_template_columns": null,
            "grid_template_rows": null,
            "height": null,
            "justify_content": null,
            "justify_items": null,
            "left": null,
            "margin": null,
            "max_height": null,
            "max_width": null,
            "min_height": null,
            "min_width": null,
            "object_fit": null,
            "object_position": null,
            "order": null,
            "overflow": null,
            "overflow_x": null,
            "overflow_y": null,
            "padding": null,
            "right": null,
            "top": null,
            "visibility": null,
            "width": null
          }
        },
        "88386d0aef884ab6a82fb9bca6eacc36": {
          "model_module": "@jupyter-widgets/controls",
          "model_name": "ProgressStyleModel",
          "model_module_version": "1.5.0",
          "state": {
            "_model_module": "@jupyter-widgets/controls",
            "_model_module_version": "1.5.0",
            "_model_name": "ProgressStyleModel",
            "_view_count": null,
            "_view_module": "@jupyter-widgets/base",
            "_view_module_version": "1.2.0",
            "_view_name": "StyleView",
            "bar_color": null,
            "description_width": ""
          }
        },
        "df243d6bff03469ea4e641134d54be3d": {
          "model_module": "@jupyter-widgets/base",
          "model_name": "LayoutModel",
          "model_module_version": "1.2.0",
          "state": {
            "_model_module": "@jupyter-widgets/base",
            "_model_module_version": "1.2.0",
            "_model_name": "LayoutModel",
            "_view_count": null,
            "_view_module": "@jupyter-widgets/base",
            "_view_module_version": "1.2.0",
            "_view_name": "LayoutView",
            "align_content": null,
            "align_items": null,
            "align_self": null,
            "border": null,
            "bottom": null,
            "display": null,
            "flex": null,
            "flex_flow": null,
            "grid_area": null,
            "grid_auto_columns": null,
            "grid_auto_flow": null,
            "grid_auto_rows": null,
            "grid_column": null,
            "grid_gap": null,
            "grid_row": null,
            "grid_template_areas": null,
            "grid_template_columns": null,
            "grid_template_rows": null,
            "height": null,
            "justify_content": null,
            "justify_items": null,
            "left": null,
            "margin": null,
            "max_height": null,
            "max_width": null,
            "min_height": null,
            "min_width": null,
            "object_fit": null,
            "object_position": null,
            "order": null,
            "overflow": null,
            "overflow_x": null,
            "overflow_y": null,
            "padding": null,
            "right": null,
            "top": null,
            "visibility": null,
            "width": null
          }
        },
        "40545189e7aa467eb6a6328032b94bc6": {
          "model_module": "@jupyter-widgets/controls",
          "model_name": "DescriptionStyleModel",
          "model_module_version": "1.5.0",
          "state": {
            "_model_module": "@jupyter-widgets/controls",
            "_model_module_version": "1.5.0",
            "_model_name": "DescriptionStyleModel",
            "_view_count": null,
            "_view_module": "@jupyter-widgets/base",
            "_view_module_version": "1.2.0",
            "_view_name": "StyleView",
            "description_width": ""
          }
        },
        "52951ef4c4ed4d4e9013f755194eefd9": {
          "model_module": "@jupyter-widgets/controls",
          "model_name": "HBoxModel",
          "model_module_version": "1.5.0",
          "state": {
            "_dom_classes": [],
            "_model_module": "@jupyter-widgets/controls",
            "_model_module_version": "1.5.0",
            "_model_name": "HBoxModel",
            "_view_count": null,
            "_view_module": "@jupyter-widgets/controls",
            "_view_module_version": "1.5.0",
            "_view_name": "HBoxView",
            "box_style": "",
            "children": [
              "IPY_MODEL_2969f1ee47c34001b5ddbf6b03a91b1e",
              "IPY_MODEL_ebfc6a18b8ca41afbc21e4ecde047a26",
              "IPY_MODEL_fe9b5e9c208642bb839f8b7e9b39b70e"
            ],
            "layout": "IPY_MODEL_79a2e4afdc4545ccae25451be68c47ec"
          }
        },
        "2969f1ee47c34001b5ddbf6b03a91b1e": {
          "model_module": "@jupyter-widgets/controls",
          "model_name": "HTMLModel",
          "model_module_version": "1.5.0",
          "state": {
            "_dom_classes": [],
            "_model_module": "@jupyter-widgets/controls",
            "_model_module_version": "1.5.0",
            "_model_name": "HTMLModel",
            "_view_count": null,
            "_view_module": "@jupyter-widgets/controls",
            "_view_module_version": "1.5.0",
            "_view_name": "HTMLView",
            "description": "",
            "description_tooltip": null,
            "layout": "IPY_MODEL_508fe4a8fcd244de99134091617d2be6",
            "placeholder": "​",
            "style": "IPY_MODEL_e13c2e73e79f439ca8917e0e5b22f4a5",
            "value": "Testing 4/10: 100%"
          }
        },
        "ebfc6a18b8ca41afbc21e4ecde047a26": {
          "model_module": "@jupyter-widgets/controls",
          "model_name": "FloatProgressModel",
          "model_module_version": "1.5.0",
          "state": {
            "_dom_classes": [],
            "_model_module": "@jupyter-widgets/controls",
            "_model_module_version": "1.5.0",
            "_model_name": "FloatProgressModel",
            "_view_count": null,
            "_view_module": "@jupyter-widgets/controls",
            "_view_module_version": "1.5.0",
            "_view_name": "ProgressView",
            "bar_style": "success",
            "description": "",
            "description_tooltip": null,
            "layout": "IPY_MODEL_92fc90ed5ba34bad965c27bc64f12625",
            "max": 157,
            "min": 0,
            "orientation": "horizontal",
            "style": "IPY_MODEL_6c41c81c2be34838be7936e23fe64ac0",
            "value": 157
          }
        },
        "fe9b5e9c208642bb839f8b7e9b39b70e": {
          "model_module": "@jupyter-widgets/controls",
          "model_name": "HTMLModel",
          "model_module_version": "1.5.0",
          "state": {
            "_dom_classes": [],
            "_model_module": "@jupyter-widgets/controls",
            "_model_module_version": "1.5.0",
            "_model_name": "HTMLModel",
            "_view_count": null,
            "_view_module": "@jupyter-widgets/controls",
            "_view_module_version": "1.5.0",
            "_view_name": "HTMLView",
            "description": "",
            "description_tooltip": null,
            "layout": "IPY_MODEL_882da8f7d2544146a4e9a70ab85a94e4",
            "placeholder": "​",
            "style": "IPY_MODEL_609d3795c41244b5aa2e2d3b4d400e8f",
            "value": " 157/157 [00:02&lt;00:00, 81.39it/s]"
          }
        },
        "79a2e4afdc4545ccae25451be68c47ec": {
          "model_module": "@jupyter-widgets/base",
          "model_name": "LayoutModel",
          "model_module_version": "1.2.0",
          "state": {
            "_model_module": "@jupyter-widgets/base",
            "_model_module_version": "1.2.0",
            "_model_name": "LayoutModel",
            "_view_count": null,
            "_view_module": "@jupyter-widgets/base",
            "_view_module_version": "1.2.0",
            "_view_name": "LayoutView",
            "align_content": null,
            "align_items": null,
            "align_self": null,
            "border": null,
            "bottom": null,
            "display": null,
            "flex": null,
            "flex_flow": null,
            "grid_area": null,
            "grid_auto_columns": null,
            "grid_auto_flow": null,
            "grid_auto_rows": null,
            "grid_column": null,
            "grid_gap": null,
            "grid_row": null,
            "grid_template_areas": null,
            "grid_template_columns": null,
            "grid_template_rows": null,
            "height": null,
            "justify_content": null,
            "justify_items": null,
            "left": null,
            "margin": null,
            "max_height": null,
            "max_width": null,
            "min_height": null,
            "min_width": null,
            "object_fit": null,
            "object_position": null,
            "order": null,
            "overflow": null,
            "overflow_x": null,
            "overflow_y": null,
            "padding": null,
            "right": null,
            "top": null,
            "visibility": null,
            "width": null
          }
        },
        "508fe4a8fcd244de99134091617d2be6": {
          "model_module": "@jupyter-widgets/base",
          "model_name": "LayoutModel",
          "model_module_version": "1.2.0",
          "state": {
            "_model_module": "@jupyter-widgets/base",
            "_model_module_version": "1.2.0",
            "_model_name": "LayoutModel",
            "_view_count": null,
            "_view_module": "@jupyter-widgets/base",
            "_view_module_version": "1.2.0",
            "_view_name": "LayoutView",
            "align_content": null,
            "align_items": null,
            "align_self": null,
            "border": null,
            "bottom": null,
            "display": null,
            "flex": null,
            "flex_flow": null,
            "grid_area": null,
            "grid_auto_columns": null,
            "grid_auto_flow": null,
            "grid_auto_rows": null,
            "grid_column": null,
            "grid_gap": null,
            "grid_row": null,
            "grid_template_areas": null,
            "grid_template_columns": null,
            "grid_template_rows": null,
            "height": null,
            "justify_content": null,
            "justify_items": null,
            "left": null,
            "margin": null,
            "max_height": null,
            "max_width": null,
            "min_height": null,
            "min_width": null,
            "object_fit": null,
            "object_position": null,
            "order": null,
            "overflow": null,
            "overflow_x": null,
            "overflow_y": null,
            "padding": null,
            "right": null,
            "top": null,
            "visibility": null,
            "width": null
          }
        },
        "e13c2e73e79f439ca8917e0e5b22f4a5": {
          "model_module": "@jupyter-widgets/controls",
          "model_name": "DescriptionStyleModel",
          "model_module_version": "1.5.0",
          "state": {
            "_model_module": "@jupyter-widgets/controls",
            "_model_module_version": "1.5.0",
            "_model_name": "DescriptionStyleModel",
            "_view_count": null,
            "_view_module": "@jupyter-widgets/base",
            "_view_module_version": "1.2.0",
            "_view_name": "StyleView",
            "description_width": ""
          }
        },
        "92fc90ed5ba34bad965c27bc64f12625": {
          "model_module": "@jupyter-widgets/base",
          "model_name": "LayoutModel",
          "model_module_version": "1.2.0",
          "state": {
            "_model_module": "@jupyter-widgets/base",
            "_model_module_version": "1.2.0",
            "_model_name": "LayoutModel",
            "_view_count": null,
            "_view_module": "@jupyter-widgets/base",
            "_view_module_version": "1.2.0",
            "_view_name": "LayoutView",
            "align_content": null,
            "align_items": null,
            "align_self": null,
            "border": null,
            "bottom": null,
            "display": null,
            "flex": null,
            "flex_flow": null,
            "grid_area": null,
            "grid_auto_columns": null,
            "grid_auto_flow": null,
            "grid_auto_rows": null,
            "grid_column": null,
            "grid_gap": null,
            "grid_row": null,
            "grid_template_areas": null,
            "grid_template_columns": null,
            "grid_template_rows": null,
            "height": null,
            "justify_content": null,
            "justify_items": null,
            "left": null,
            "margin": null,
            "max_height": null,
            "max_width": null,
            "min_height": null,
            "min_width": null,
            "object_fit": null,
            "object_position": null,
            "order": null,
            "overflow": null,
            "overflow_x": null,
            "overflow_y": null,
            "padding": null,
            "right": null,
            "top": null,
            "visibility": null,
            "width": null
          }
        },
        "6c41c81c2be34838be7936e23fe64ac0": {
          "model_module": "@jupyter-widgets/controls",
          "model_name": "ProgressStyleModel",
          "model_module_version": "1.5.0",
          "state": {
            "_model_module": "@jupyter-widgets/controls",
            "_model_module_version": "1.5.0",
            "_model_name": "ProgressStyleModel",
            "_view_count": null,
            "_view_module": "@jupyter-widgets/base",
            "_view_module_version": "1.2.0",
            "_view_name": "StyleView",
            "bar_color": null,
            "description_width": ""
          }
        },
        "882da8f7d2544146a4e9a70ab85a94e4": {
          "model_module": "@jupyter-widgets/base",
          "model_name": "LayoutModel",
          "model_module_version": "1.2.0",
          "state": {
            "_model_module": "@jupyter-widgets/base",
            "_model_module_version": "1.2.0",
            "_model_name": "LayoutModel",
            "_view_count": null,
            "_view_module": "@jupyter-widgets/base",
            "_view_module_version": "1.2.0",
            "_view_name": "LayoutView",
            "align_content": null,
            "align_items": null,
            "align_self": null,
            "border": null,
            "bottom": null,
            "display": null,
            "flex": null,
            "flex_flow": null,
            "grid_area": null,
            "grid_auto_columns": null,
            "grid_auto_flow": null,
            "grid_auto_rows": null,
            "grid_column": null,
            "grid_gap": null,
            "grid_row": null,
            "grid_template_areas": null,
            "grid_template_columns": null,
            "grid_template_rows": null,
            "height": null,
            "justify_content": null,
            "justify_items": null,
            "left": null,
            "margin": null,
            "max_height": null,
            "max_width": null,
            "min_height": null,
            "min_width": null,
            "object_fit": null,
            "object_position": null,
            "order": null,
            "overflow": null,
            "overflow_x": null,
            "overflow_y": null,
            "padding": null,
            "right": null,
            "top": null,
            "visibility": null,
            "width": null
          }
        },
        "609d3795c41244b5aa2e2d3b4d400e8f": {
          "model_module": "@jupyter-widgets/controls",
          "model_name": "DescriptionStyleModel",
          "model_module_version": "1.5.0",
          "state": {
            "_model_module": "@jupyter-widgets/controls",
            "_model_module_version": "1.5.0",
            "_model_name": "DescriptionStyleModel",
            "_view_count": null,
            "_view_module": "@jupyter-widgets/base",
            "_view_module_version": "1.2.0",
            "_view_name": "StyleView",
            "description_width": ""
          }
        },
        "4e10435d5e794ebca6fd4df42964cab4": {
          "model_module": "@jupyter-widgets/controls",
          "model_name": "HBoxModel",
          "model_module_version": "1.5.0",
          "state": {
            "_dom_classes": [],
            "_model_module": "@jupyter-widgets/controls",
            "_model_module_version": "1.5.0",
            "_model_name": "HBoxModel",
            "_view_count": null,
            "_view_module": "@jupyter-widgets/controls",
            "_view_module_version": "1.5.0",
            "_view_name": "HBoxView",
            "box_style": "",
            "children": [
              "IPY_MODEL_2915112bf2c84d9b8637789eabef98fb",
              "IPY_MODEL_ee14a5c0acb3424b9eebc2f5ee781cdf",
              "IPY_MODEL_d7838991f4f84cbe847c29c448c03a1c"
            ],
            "layout": "IPY_MODEL_2730b9d1b5d741799f392934c2058223"
          }
        },
        "2915112bf2c84d9b8637789eabef98fb": {
          "model_module": "@jupyter-widgets/controls",
          "model_name": "HTMLModel",
          "model_module_version": "1.5.0",
          "state": {
            "_dom_classes": [],
            "_model_module": "@jupyter-widgets/controls",
            "_model_module_version": "1.5.0",
            "_model_name": "HTMLModel",
            "_view_count": null,
            "_view_module": "@jupyter-widgets/controls",
            "_view_module_version": "1.5.0",
            "_view_name": "HTMLView",
            "description": "",
            "description_tooltip": null,
            "layout": "IPY_MODEL_0de35ee2e010461e8ec7f6ef7f91dcbc",
            "placeholder": "​",
            "style": "IPY_MODEL_698da51851054342b1c988f012e9d0d3",
            "value": "Training 5/10: 100%"
          }
        },
        "ee14a5c0acb3424b9eebc2f5ee781cdf": {
          "model_module": "@jupyter-widgets/controls",
          "model_name": "FloatProgressModel",
          "model_module_version": "1.5.0",
          "state": {
            "_dom_classes": [],
            "_model_module": "@jupyter-widgets/controls",
            "_model_module_version": "1.5.0",
            "_model_name": "FloatProgressModel",
            "_view_count": null,
            "_view_module": "@jupyter-widgets/controls",
            "_view_module_version": "1.5.0",
            "_view_name": "ProgressView",
            "bar_style": "success",
            "description": "",
            "description_tooltip": null,
            "layout": "IPY_MODEL_86a2ffb3bfff4b6897eb56f258d8b439",
            "max": 938,
            "min": 0,
            "orientation": "horizontal",
            "style": "IPY_MODEL_15f1a6bc85a242f094d956ead3d04b20",
            "value": 938
          }
        },
        "d7838991f4f84cbe847c29c448c03a1c": {
          "model_module": "@jupyter-widgets/controls",
          "model_name": "HTMLModel",
          "model_module_version": "1.5.0",
          "state": {
            "_dom_classes": [],
            "_model_module": "@jupyter-widgets/controls",
            "_model_module_version": "1.5.0",
            "_model_name": "HTMLModel",
            "_view_count": null,
            "_view_module": "@jupyter-widgets/controls",
            "_view_module_version": "1.5.0",
            "_view_name": "HTMLView",
            "description": "",
            "description_tooltip": null,
            "layout": "IPY_MODEL_ed58205faa5b43e29c0784b481bb3ae6",
            "placeholder": "​",
            "style": "IPY_MODEL_a334bbf7b1e64e28bc831633c22169e8",
            "value": " 938/938 [00:15&lt;00:00, 70.50it/s]"
          }
        },
        "2730b9d1b5d741799f392934c2058223": {
          "model_module": "@jupyter-widgets/base",
          "model_name": "LayoutModel",
          "model_module_version": "1.2.0",
          "state": {
            "_model_module": "@jupyter-widgets/base",
            "_model_module_version": "1.2.0",
            "_model_name": "LayoutModel",
            "_view_count": null,
            "_view_module": "@jupyter-widgets/base",
            "_view_module_version": "1.2.0",
            "_view_name": "LayoutView",
            "align_content": null,
            "align_items": null,
            "align_self": null,
            "border": null,
            "bottom": null,
            "display": null,
            "flex": null,
            "flex_flow": null,
            "grid_area": null,
            "grid_auto_columns": null,
            "grid_auto_flow": null,
            "grid_auto_rows": null,
            "grid_column": null,
            "grid_gap": null,
            "grid_row": null,
            "grid_template_areas": null,
            "grid_template_columns": null,
            "grid_template_rows": null,
            "height": null,
            "justify_content": null,
            "justify_items": null,
            "left": null,
            "margin": null,
            "max_height": null,
            "max_width": null,
            "min_height": null,
            "min_width": null,
            "object_fit": null,
            "object_position": null,
            "order": null,
            "overflow": null,
            "overflow_x": null,
            "overflow_y": null,
            "padding": null,
            "right": null,
            "top": null,
            "visibility": null,
            "width": null
          }
        },
        "0de35ee2e010461e8ec7f6ef7f91dcbc": {
          "model_module": "@jupyter-widgets/base",
          "model_name": "LayoutModel",
          "model_module_version": "1.2.0",
          "state": {
            "_model_module": "@jupyter-widgets/base",
            "_model_module_version": "1.2.0",
            "_model_name": "LayoutModel",
            "_view_count": null,
            "_view_module": "@jupyter-widgets/base",
            "_view_module_version": "1.2.0",
            "_view_name": "LayoutView",
            "align_content": null,
            "align_items": null,
            "align_self": null,
            "border": null,
            "bottom": null,
            "display": null,
            "flex": null,
            "flex_flow": null,
            "grid_area": null,
            "grid_auto_columns": null,
            "grid_auto_flow": null,
            "grid_auto_rows": null,
            "grid_column": null,
            "grid_gap": null,
            "grid_row": null,
            "grid_template_areas": null,
            "grid_template_columns": null,
            "grid_template_rows": null,
            "height": null,
            "justify_content": null,
            "justify_items": null,
            "left": null,
            "margin": null,
            "max_height": null,
            "max_width": null,
            "min_height": null,
            "min_width": null,
            "object_fit": null,
            "object_position": null,
            "order": null,
            "overflow": null,
            "overflow_x": null,
            "overflow_y": null,
            "padding": null,
            "right": null,
            "top": null,
            "visibility": null,
            "width": null
          }
        },
        "698da51851054342b1c988f012e9d0d3": {
          "model_module": "@jupyter-widgets/controls",
          "model_name": "DescriptionStyleModel",
          "model_module_version": "1.5.0",
          "state": {
            "_model_module": "@jupyter-widgets/controls",
            "_model_module_version": "1.5.0",
            "_model_name": "DescriptionStyleModel",
            "_view_count": null,
            "_view_module": "@jupyter-widgets/base",
            "_view_module_version": "1.2.0",
            "_view_name": "StyleView",
            "description_width": ""
          }
        },
        "86a2ffb3bfff4b6897eb56f258d8b439": {
          "model_module": "@jupyter-widgets/base",
          "model_name": "LayoutModel",
          "model_module_version": "1.2.0",
          "state": {
            "_model_module": "@jupyter-widgets/base",
            "_model_module_version": "1.2.0",
            "_model_name": "LayoutModel",
            "_view_count": null,
            "_view_module": "@jupyter-widgets/base",
            "_view_module_version": "1.2.0",
            "_view_name": "LayoutView",
            "align_content": null,
            "align_items": null,
            "align_self": null,
            "border": null,
            "bottom": null,
            "display": null,
            "flex": null,
            "flex_flow": null,
            "grid_area": null,
            "grid_auto_columns": null,
            "grid_auto_flow": null,
            "grid_auto_rows": null,
            "grid_column": null,
            "grid_gap": null,
            "grid_row": null,
            "grid_template_areas": null,
            "grid_template_columns": null,
            "grid_template_rows": null,
            "height": null,
            "justify_content": null,
            "justify_items": null,
            "left": null,
            "margin": null,
            "max_height": null,
            "max_width": null,
            "min_height": null,
            "min_width": null,
            "object_fit": null,
            "object_position": null,
            "order": null,
            "overflow": null,
            "overflow_x": null,
            "overflow_y": null,
            "padding": null,
            "right": null,
            "top": null,
            "visibility": null,
            "width": null
          }
        },
        "15f1a6bc85a242f094d956ead3d04b20": {
          "model_module": "@jupyter-widgets/controls",
          "model_name": "ProgressStyleModel",
          "model_module_version": "1.5.0",
          "state": {
            "_model_module": "@jupyter-widgets/controls",
            "_model_module_version": "1.5.0",
            "_model_name": "ProgressStyleModel",
            "_view_count": null,
            "_view_module": "@jupyter-widgets/base",
            "_view_module_version": "1.2.0",
            "_view_name": "StyleView",
            "bar_color": null,
            "description_width": ""
          }
        },
        "ed58205faa5b43e29c0784b481bb3ae6": {
          "model_module": "@jupyter-widgets/base",
          "model_name": "LayoutModel",
          "model_module_version": "1.2.0",
          "state": {
            "_model_module": "@jupyter-widgets/base",
            "_model_module_version": "1.2.0",
            "_model_name": "LayoutModel",
            "_view_count": null,
            "_view_module": "@jupyter-widgets/base",
            "_view_module_version": "1.2.0",
            "_view_name": "LayoutView",
            "align_content": null,
            "align_items": null,
            "align_self": null,
            "border": null,
            "bottom": null,
            "display": null,
            "flex": null,
            "flex_flow": null,
            "grid_area": null,
            "grid_auto_columns": null,
            "grid_auto_flow": null,
            "grid_auto_rows": null,
            "grid_column": null,
            "grid_gap": null,
            "grid_row": null,
            "grid_template_areas": null,
            "grid_template_columns": null,
            "grid_template_rows": null,
            "height": null,
            "justify_content": null,
            "justify_items": null,
            "left": null,
            "margin": null,
            "max_height": null,
            "max_width": null,
            "min_height": null,
            "min_width": null,
            "object_fit": null,
            "object_position": null,
            "order": null,
            "overflow": null,
            "overflow_x": null,
            "overflow_y": null,
            "padding": null,
            "right": null,
            "top": null,
            "visibility": null,
            "width": null
          }
        },
        "a334bbf7b1e64e28bc831633c22169e8": {
          "model_module": "@jupyter-widgets/controls",
          "model_name": "DescriptionStyleModel",
          "model_module_version": "1.5.0",
          "state": {
            "_model_module": "@jupyter-widgets/controls",
            "_model_module_version": "1.5.0",
            "_model_name": "DescriptionStyleModel",
            "_view_count": null,
            "_view_module": "@jupyter-widgets/base",
            "_view_module_version": "1.2.0",
            "_view_name": "StyleView",
            "description_width": ""
          }
        },
        "d672cd0edd28463180c2ac8241197d74": {
          "model_module": "@jupyter-widgets/controls",
          "model_name": "HBoxModel",
          "model_module_version": "1.5.0",
          "state": {
            "_dom_classes": [],
            "_model_module": "@jupyter-widgets/controls",
            "_model_module_version": "1.5.0",
            "_model_name": "HBoxModel",
            "_view_count": null,
            "_view_module": "@jupyter-widgets/controls",
            "_view_module_version": "1.5.0",
            "_view_name": "HBoxView",
            "box_style": "",
            "children": [
              "IPY_MODEL_f400d4a7287d46cb83d2b6184a84ace7",
              "IPY_MODEL_88907b7f3d274592a0b4ebd63d2ea1a4",
              "IPY_MODEL_b2a303c17f844208b7d42dd16a8b2706"
            ],
            "layout": "IPY_MODEL_049a1ac406384d54897023f405a91769"
          }
        },
        "f400d4a7287d46cb83d2b6184a84ace7": {
          "model_module": "@jupyter-widgets/controls",
          "model_name": "HTMLModel",
          "model_module_version": "1.5.0",
          "state": {
            "_dom_classes": [],
            "_model_module": "@jupyter-widgets/controls",
            "_model_module_version": "1.5.0",
            "_model_name": "HTMLModel",
            "_view_count": null,
            "_view_module": "@jupyter-widgets/controls",
            "_view_module_version": "1.5.0",
            "_view_name": "HTMLView",
            "description": "",
            "description_tooltip": null,
            "layout": "IPY_MODEL_9dc5672e9fe14c1d9ffd91556a3a9187",
            "placeholder": "​",
            "style": "IPY_MODEL_accb6841c2bc4f368a9ea3dd7d855e1b",
            "value": "Testing 5/10: 100%"
          }
        },
        "88907b7f3d274592a0b4ebd63d2ea1a4": {
          "model_module": "@jupyter-widgets/controls",
          "model_name": "FloatProgressModel",
          "model_module_version": "1.5.0",
          "state": {
            "_dom_classes": [],
            "_model_module": "@jupyter-widgets/controls",
            "_model_module_version": "1.5.0",
            "_model_name": "FloatProgressModel",
            "_view_count": null,
            "_view_module": "@jupyter-widgets/controls",
            "_view_module_version": "1.5.0",
            "_view_name": "ProgressView",
            "bar_style": "success",
            "description": "",
            "description_tooltip": null,
            "layout": "IPY_MODEL_97caa267dc0845c79e7d709d11347a17",
            "max": 157,
            "min": 0,
            "orientation": "horizontal",
            "style": "IPY_MODEL_8cf77cbecc4e49789441df561bb32b49",
            "value": 157
          }
        },
        "b2a303c17f844208b7d42dd16a8b2706": {
          "model_module": "@jupyter-widgets/controls",
          "model_name": "HTMLModel",
          "model_module_version": "1.5.0",
          "state": {
            "_dom_classes": [],
            "_model_module": "@jupyter-widgets/controls",
            "_model_module_version": "1.5.0",
            "_model_name": "HTMLModel",
            "_view_count": null,
            "_view_module": "@jupyter-widgets/controls",
            "_view_module_version": "1.5.0",
            "_view_name": "HTMLView",
            "description": "",
            "description_tooltip": null,
            "layout": "IPY_MODEL_d6cfd250222f44c28fec728f93629992",
            "placeholder": "​",
            "style": "IPY_MODEL_78896529cb5d4074a7ec66f1f11f8d5d",
            "value": " 157/157 [00:02&lt;00:00, 80.29it/s]"
          }
        },
        "049a1ac406384d54897023f405a91769": {
          "model_module": "@jupyter-widgets/base",
          "model_name": "LayoutModel",
          "model_module_version": "1.2.0",
          "state": {
            "_model_module": "@jupyter-widgets/base",
            "_model_module_version": "1.2.0",
            "_model_name": "LayoutModel",
            "_view_count": null,
            "_view_module": "@jupyter-widgets/base",
            "_view_module_version": "1.2.0",
            "_view_name": "LayoutView",
            "align_content": null,
            "align_items": null,
            "align_self": null,
            "border": null,
            "bottom": null,
            "display": null,
            "flex": null,
            "flex_flow": null,
            "grid_area": null,
            "grid_auto_columns": null,
            "grid_auto_flow": null,
            "grid_auto_rows": null,
            "grid_column": null,
            "grid_gap": null,
            "grid_row": null,
            "grid_template_areas": null,
            "grid_template_columns": null,
            "grid_template_rows": null,
            "height": null,
            "justify_content": null,
            "justify_items": null,
            "left": null,
            "margin": null,
            "max_height": null,
            "max_width": null,
            "min_height": null,
            "min_width": null,
            "object_fit": null,
            "object_position": null,
            "order": null,
            "overflow": null,
            "overflow_x": null,
            "overflow_y": null,
            "padding": null,
            "right": null,
            "top": null,
            "visibility": null,
            "width": null
          }
        },
        "9dc5672e9fe14c1d9ffd91556a3a9187": {
          "model_module": "@jupyter-widgets/base",
          "model_name": "LayoutModel",
          "model_module_version": "1.2.0",
          "state": {
            "_model_module": "@jupyter-widgets/base",
            "_model_module_version": "1.2.0",
            "_model_name": "LayoutModel",
            "_view_count": null,
            "_view_module": "@jupyter-widgets/base",
            "_view_module_version": "1.2.0",
            "_view_name": "LayoutView",
            "align_content": null,
            "align_items": null,
            "align_self": null,
            "border": null,
            "bottom": null,
            "display": null,
            "flex": null,
            "flex_flow": null,
            "grid_area": null,
            "grid_auto_columns": null,
            "grid_auto_flow": null,
            "grid_auto_rows": null,
            "grid_column": null,
            "grid_gap": null,
            "grid_row": null,
            "grid_template_areas": null,
            "grid_template_columns": null,
            "grid_template_rows": null,
            "height": null,
            "justify_content": null,
            "justify_items": null,
            "left": null,
            "margin": null,
            "max_height": null,
            "max_width": null,
            "min_height": null,
            "min_width": null,
            "object_fit": null,
            "object_position": null,
            "order": null,
            "overflow": null,
            "overflow_x": null,
            "overflow_y": null,
            "padding": null,
            "right": null,
            "top": null,
            "visibility": null,
            "width": null
          }
        },
        "accb6841c2bc4f368a9ea3dd7d855e1b": {
          "model_module": "@jupyter-widgets/controls",
          "model_name": "DescriptionStyleModel",
          "model_module_version": "1.5.0",
          "state": {
            "_model_module": "@jupyter-widgets/controls",
            "_model_module_version": "1.5.0",
            "_model_name": "DescriptionStyleModel",
            "_view_count": null,
            "_view_module": "@jupyter-widgets/base",
            "_view_module_version": "1.2.0",
            "_view_name": "StyleView",
            "description_width": ""
          }
        },
        "97caa267dc0845c79e7d709d11347a17": {
          "model_module": "@jupyter-widgets/base",
          "model_name": "LayoutModel",
          "model_module_version": "1.2.0",
          "state": {
            "_model_module": "@jupyter-widgets/base",
            "_model_module_version": "1.2.0",
            "_model_name": "LayoutModel",
            "_view_count": null,
            "_view_module": "@jupyter-widgets/base",
            "_view_module_version": "1.2.0",
            "_view_name": "LayoutView",
            "align_content": null,
            "align_items": null,
            "align_self": null,
            "border": null,
            "bottom": null,
            "display": null,
            "flex": null,
            "flex_flow": null,
            "grid_area": null,
            "grid_auto_columns": null,
            "grid_auto_flow": null,
            "grid_auto_rows": null,
            "grid_column": null,
            "grid_gap": null,
            "grid_row": null,
            "grid_template_areas": null,
            "grid_template_columns": null,
            "grid_template_rows": null,
            "height": null,
            "justify_content": null,
            "justify_items": null,
            "left": null,
            "margin": null,
            "max_height": null,
            "max_width": null,
            "min_height": null,
            "min_width": null,
            "object_fit": null,
            "object_position": null,
            "order": null,
            "overflow": null,
            "overflow_x": null,
            "overflow_y": null,
            "padding": null,
            "right": null,
            "top": null,
            "visibility": null,
            "width": null
          }
        },
        "8cf77cbecc4e49789441df561bb32b49": {
          "model_module": "@jupyter-widgets/controls",
          "model_name": "ProgressStyleModel",
          "model_module_version": "1.5.0",
          "state": {
            "_model_module": "@jupyter-widgets/controls",
            "_model_module_version": "1.5.0",
            "_model_name": "ProgressStyleModel",
            "_view_count": null,
            "_view_module": "@jupyter-widgets/base",
            "_view_module_version": "1.2.0",
            "_view_name": "StyleView",
            "bar_color": null,
            "description_width": ""
          }
        },
        "d6cfd250222f44c28fec728f93629992": {
          "model_module": "@jupyter-widgets/base",
          "model_name": "LayoutModel",
          "model_module_version": "1.2.0",
          "state": {
            "_model_module": "@jupyter-widgets/base",
            "_model_module_version": "1.2.0",
            "_model_name": "LayoutModel",
            "_view_count": null,
            "_view_module": "@jupyter-widgets/base",
            "_view_module_version": "1.2.0",
            "_view_name": "LayoutView",
            "align_content": null,
            "align_items": null,
            "align_self": null,
            "border": null,
            "bottom": null,
            "display": null,
            "flex": null,
            "flex_flow": null,
            "grid_area": null,
            "grid_auto_columns": null,
            "grid_auto_flow": null,
            "grid_auto_rows": null,
            "grid_column": null,
            "grid_gap": null,
            "grid_row": null,
            "grid_template_areas": null,
            "grid_template_columns": null,
            "grid_template_rows": null,
            "height": null,
            "justify_content": null,
            "justify_items": null,
            "left": null,
            "margin": null,
            "max_height": null,
            "max_width": null,
            "min_height": null,
            "min_width": null,
            "object_fit": null,
            "object_position": null,
            "order": null,
            "overflow": null,
            "overflow_x": null,
            "overflow_y": null,
            "padding": null,
            "right": null,
            "top": null,
            "visibility": null,
            "width": null
          }
        },
        "78896529cb5d4074a7ec66f1f11f8d5d": {
          "model_module": "@jupyter-widgets/controls",
          "model_name": "DescriptionStyleModel",
          "model_module_version": "1.5.0",
          "state": {
            "_model_module": "@jupyter-widgets/controls",
            "_model_module_version": "1.5.0",
            "_model_name": "DescriptionStyleModel",
            "_view_count": null,
            "_view_module": "@jupyter-widgets/base",
            "_view_module_version": "1.2.0",
            "_view_name": "StyleView",
            "description_width": ""
          }
        },
        "9fa17a181d874883a982be9d4250e97c": {
          "model_module": "@jupyter-widgets/controls",
          "model_name": "HBoxModel",
          "model_module_version": "1.5.0",
          "state": {
            "_dom_classes": [],
            "_model_module": "@jupyter-widgets/controls",
            "_model_module_version": "1.5.0",
            "_model_name": "HBoxModel",
            "_view_count": null,
            "_view_module": "@jupyter-widgets/controls",
            "_view_module_version": "1.5.0",
            "_view_name": "HBoxView",
            "box_style": "",
            "children": [
              "IPY_MODEL_b36995312a9440e6aaa8aff698b868f3",
              "IPY_MODEL_c05d13cf0cb14dc590ce59f2c4ae35ec",
              "IPY_MODEL_d15b720841d24958a6f8cde97f8d7820"
            ],
            "layout": "IPY_MODEL_dfd8458d2bf147379736416b4283da4b"
          }
        },
        "b36995312a9440e6aaa8aff698b868f3": {
          "model_module": "@jupyter-widgets/controls",
          "model_name": "HTMLModel",
          "model_module_version": "1.5.0",
          "state": {
            "_dom_classes": [],
            "_model_module": "@jupyter-widgets/controls",
            "_model_module_version": "1.5.0",
            "_model_name": "HTMLModel",
            "_view_count": null,
            "_view_module": "@jupyter-widgets/controls",
            "_view_module_version": "1.5.0",
            "_view_name": "HTMLView",
            "description": "",
            "description_tooltip": null,
            "layout": "IPY_MODEL_3d67ef82bdea4808bf57892b48cfb4c1",
            "placeholder": "​",
            "style": "IPY_MODEL_436acac28f7b41bb8422308e8184b3f1",
            "value": "Training 6/10: 100%"
          }
        },
        "c05d13cf0cb14dc590ce59f2c4ae35ec": {
          "model_module": "@jupyter-widgets/controls",
          "model_name": "FloatProgressModel",
          "model_module_version": "1.5.0",
          "state": {
            "_dom_classes": [],
            "_model_module": "@jupyter-widgets/controls",
            "_model_module_version": "1.5.0",
            "_model_name": "FloatProgressModel",
            "_view_count": null,
            "_view_module": "@jupyter-widgets/controls",
            "_view_module_version": "1.5.0",
            "_view_name": "ProgressView",
            "bar_style": "success",
            "description": "",
            "description_tooltip": null,
            "layout": "IPY_MODEL_dbd2da5c4baa4ce9814dec9d36fe9bb5",
            "max": 938,
            "min": 0,
            "orientation": "horizontal",
            "style": "IPY_MODEL_96609fc8241741199ca23281a0f3032a",
            "value": 938
          }
        },
        "d15b720841d24958a6f8cde97f8d7820": {
          "model_module": "@jupyter-widgets/controls",
          "model_name": "HTMLModel",
          "model_module_version": "1.5.0",
          "state": {
            "_dom_classes": [],
            "_model_module": "@jupyter-widgets/controls",
            "_model_module_version": "1.5.0",
            "_model_name": "HTMLModel",
            "_view_count": null,
            "_view_module": "@jupyter-widgets/controls",
            "_view_module_version": "1.5.0",
            "_view_name": "HTMLView",
            "description": "",
            "description_tooltip": null,
            "layout": "IPY_MODEL_8722b3fd7e4342dea8a78b803e61118a",
            "placeholder": "​",
            "style": "IPY_MODEL_ece5e0f4391843f9b6b49be2f6b960de",
            "value": " 938/938 [00:15&lt;00:00, 46.65it/s]"
          }
        },
        "dfd8458d2bf147379736416b4283da4b": {
          "model_module": "@jupyter-widgets/base",
          "model_name": "LayoutModel",
          "model_module_version": "1.2.0",
          "state": {
            "_model_module": "@jupyter-widgets/base",
            "_model_module_version": "1.2.0",
            "_model_name": "LayoutModel",
            "_view_count": null,
            "_view_module": "@jupyter-widgets/base",
            "_view_module_version": "1.2.0",
            "_view_name": "LayoutView",
            "align_content": null,
            "align_items": null,
            "align_self": null,
            "border": null,
            "bottom": null,
            "display": null,
            "flex": null,
            "flex_flow": null,
            "grid_area": null,
            "grid_auto_columns": null,
            "grid_auto_flow": null,
            "grid_auto_rows": null,
            "grid_column": null,
            "grid_gap": null,
            "grid_row": null,
            "grid_template_areas": null,
            "grid_template_columns": null,
            "grid_template_rows": null,
            "height": null,
            "justify_content": null,
            "justify_items": null,
            "left": null,
            "margin": null,
            "max_height": null,
            "max_width": null,
            "min_height": null,
            "min_width": null,
            "object_fit": null,
            "object_position": null,
            "order": null,
            "overflow": null,
            "overflow_x": null,
            "overflow_y": null,
            "padding": null,
            "right": null,
            "top": null,
            "visibility": null,
            "width": null
          }
        },
        "3d67ef82bdea4808bf57892b48cfb4c1": {
          "model_module": "@jupyter-widgets/base",
          "model_name": "LayoutModel",
          "model_module_version": "1.2.0",
          "state": {
            "_model_module": "@jupyter-widgets/base",
            "_model_module_version": "1.2.0",
            "_model_name": "LayoutModel",
            "_view_count": null,
            "_view_module": "@jupyter-widgets/base",
            "_view_module_version": "1.2.0",
            "_view_name": "LayoutView",
            "align_content": null,
            "align_items": null,
            "align_self": null,
            "border": null,
            "bottom": null,
            "display": null,
            "flex": null,
            "flex_flow": null,
            "grid_area": null,
            "grid_auto_columns": null,
            "grid_auto_flow": null,
            "grid_auto_rows": null,
            "grid_column": null,
            "grid_gap": null,
            "grid_row": null,
            "grid_template_areas": null,
            "grid_template_columns": null,
            "grid_template_rows": null,
            "height": null,
            "justify_content": null,
            "justify_items": null,
            "left": null,
            "margin": null,
            "max_height": null,
            "max_width": null,
            "min_height": null,
            "min_width": null,
            "object_fit": null,
            "object_position": null,
            "order": null,
            "overflow": null,
            "overflow_x": null,
            "overflow_y": null,
            "padding": null,
            "right": null,
            "top": null,
            "visibility": null,
            "width": null
          }
        },
        "436acac28f7b41bb8422308e8184b3f1": {
          "model_module": "@jupyter-widgets/controls",
          "model_name": "DescriptionStyleModel",
          "model_module_version": "1.5.0",
          "state": {
            "_model_module": "@jupyter-widgets/controls",
            "_model_module_version": "1.5.0",
            "_model_name": "DescriptionStyleModel",
            "_view_count": null,
            "_view_module": "@jupyter-widgets/base",
            "_view_module_version": "1.2.0",
            "_view_name": "StyleView",
            "description_width": ""
          }
        },
        "dbd2da5c4baa4ce9814dec9d36fe9bb5": {
          "model_module": "@jupyter-widgets/base",
          "model_name": "LayoutModel",
          "model_module_version": "1.2.0",
          "state": {
            "_model_module": "@jupyter-widgets/base",
            "_model_module_version": "1.2.0",
            "_model_name": "LayoutModel",
            "_view_count": null,
            "_view_module": "@jupyter-widgets/base",
            "_view_module_version": "1.2.0",
            "_view_name": "LayoutView",
            "align_content": null,
            "align_items": null,
            "align_self": null,
            "border": null,
            "bottom": null,
            "display": null,
            "flex": null,
            "flex_flow": null,
            "grid_area": null,
            "grid_auto_columns": null,
            "grid_auto_flow": null,
            "grid_auto_rows": null,
            "grid_column": null,
            "grid_gap": null,
            "grid_row": null,
            "grid_template_areas": null,
            "grid_template_columns": null,
            "grid_template_rows": null,
            "height": null,
            "justify_content": null,
            "justify_items": null,
            "left": null,
            "margin": null,
            "max_height": null,
            "max_width": null,
            "min_height": null,
            "min_width": null,
            "object_fit": null,
            "object_position": null,
            "order": null,
            "overflow": null,
            "overflow_x": null,
            "overflow_y": null,
            "padding": null,
            "right": null,
            "top": null,
            "visibility": null,
            "width": null
          }
        },
        "96609fc8241741199ca23281a0f3032a": {
          "model_module": "@jupyter-widgets/controls",
          "model_name": "ProgressStyleModel",
          "model_module_version": "1.5.0",
          "state": {
            "_model_module": "@jupyter-widgets/controls",
            "_model_module_version": "1.5.0",
            "_model_name": "ProgressStyleModel",
            "_view_count": null,
            "_view_module": "@jupyter-widgets/base",
            "_view_module_version": "1.2.0",
            "_view_name": "StyleView",
            "bar_color": null,
            "description_width": ""
          }
        },
        "8722b3fd7e4342dea8a78b803e61118a": {
          "model_module": "@jupyter-widgets/base",
          "model_name": "LayoutModel",
          "model_module_version": "1.2.0",
          "state": {
            "_model_module": "@jupyter-widgets/base",
            "_model_module_version": "1.2.0",
            "_model_name": "LayoutModel",
            "_view_count": null,
            "_view_module": "@jupyter-widgets/base",
            "_view_module_version": "1.2.0",
            "_view_name": "LayoutView",
            "align_content": null,
            "align_items": null,
            "align_self": null,
            "border": null,
            "bottom": null,
            "display": null,
            "flex": null,
            "flex_flow": null,
            "grid_area": null,
            "grid_auto_columns": null,
            "grid_auto_flow": null,
            "grid_auto_rows": null,
            "grid_column": null,
            "grid_gap": null,
            "grid_row": null,
            "grid_template_areas": null,
            "grid_template_columns": null,
            "grid_template_rows": null,
            "height": null,
            "justify_content": null,
            "justify_items": null,
            "left": null,
            "margin": null,
            "max_height": null,
            "max_width": null,
            "min_height": null,
            "min_width": null,
            "object_fit": null,
            "object_position": null,
            "order": null,
            "overflow": null,
            "overflow_x": null,
            "overflow_y": null,
            "padding": null,
            "right": null,
            "top": null,
            "visibility": null,
            "width": null
          }
        },
        "ece5e0f4391843f9b6b49be2f6b960de": {
          "model_module": "@jupyter-widgets/controls",
          "model_name": "DescriptionStyleModel",
          "model_module_version": "1.5.0",
          "state": {
            "_model_module": "@jupyter-widgets/controls",
            "_model_module_version": "1.5.0",
            "_model_name": "DescriptionStyleModel",
            "_view_count": null,
            "_view_module": "@jupyter-widgets/base",
            "_view_module_version": "1.2.0",
            "_view_name": "StyleView",
            "description_width": ""
          }
        },
        "e119c665474d400aa4881084cef036f2": {
          "model_module": "@jupyter-widgets/controls",
          "model_name": "HBoxModel",
          "model_module_version": "1.5.0",
          "state": {
            "_dom_classes": [],
            "_model_module": "@jupyter-widgets/controls",
            "_model_module_version": "1.5.0",
            "_model_name": "HBoxModel",
            "_view_count": null,
            "_view_module": "@jupyter-widgets/controls",
            "_view_module_version": "1.5.0",
            "_view_name": "HBoxView",
            "box_style": "",
            "children": [
              "IPY_MODEL_3032ebe1b8794f92a86dd3b1ab00367d",
              "IPY_MODEL_ec1d7adbb16a48e196521bb10a8409e2",
              "IPY_MODEL_57d1c137c95c4a3981a93769effc886f"
            ],
            "layout": "IPY_MODEL_21cbf6422d5444799dd320ed39161f92"
          }
        },
        "3032ebe1b8794f92a86dd3b1ab00367d": {
          "model_module": "@jupyter-widgets/controls",
          "model_name": "HTMLModel",
          "model_module_version": "1.5.0",
          "state": {
            "_dom_classes": [],
            "_model_module": "@jupyter-widgets/controls",
            "_model_module_version": "1.5.0",
            "_model_name": "HTMLModel",
            "_view_count": null,
            "_view_module": "@jupyter-widgets/controls",
            "_view_module_version": "1.5.0",
            "_view_name": "HTMLView",
            "description": "",
            "description_tooltip": null,
            "layout": "IPY_MODEL_79719e4901b646ea9d5dd5d812ac794c",
            "placeholder": "​",
            "style": "IPY_MODEL_762072820d3244be88862da35969ea74",
            "value": "Testing 6/10: 100%"
          }
        },
        "ec1d7adbb16a48e196521bb10a8409e2": {
          "model_module": "@jupyter-widgets/controls",
          "model_name": "FloatProgressModel",
          "model_module_version": "1.5.0",
          "state": {
            "_dom_classes": [],
            "_model_module": "@jupyter-widgets/controls",
            "_model_module_version": "1.5.0",
            "_model_name": "FloatProgressModel",
            "_view_count": null,
            "_view_module": "@jupyter-widgets/controls",
            "_view_module_version": "1.5.0",
            "_view_name": "ProgressView",
            "bar_style": "success",
            "description": "",
            "description_tooltip": null,
            "layout": "IPY_MODEL_8bfb5d6ed996419e9d82db46245e0727",
            "max": 157,
            "min": 0,
            "orientation": "horizontal",
            "style": "IPY_MODEL_55b19dd9ed9b49b9b9d40d8b5b682bb7",
            "value": 157
          }
        },
        "57d1c137c95c4a3981a93769effc886f": {
          "model_module": "@jupyter-widgets/controls",
          "model_name": "HTMLModel",
          "model_module_version": "1.5.0",
          "state": {
            "_dom_classes": [],
            "_model_module": "@jupyter-widgets/controls",
            "_model_module_version": "1.5.0",
            "_model_name": "HTMLModel",
            "_view_count": null,
            "_view_module": "@jupyter-widgets/controls",
            "_view_module_version": "1.5.0",
            "_view_name": "HTMLView",
            "description": "",
            "description_tooltip": null,
            "layout": "IPY_MODEL_adaaa1e5ba114c0ca649708734e7a1a2",
            "placeholder": "​",
            "style": "IPY_MODEL_e8d11e9201f24718983bc2a9b6729b4f",
            "value": " 157/157 [00:03&lt;00:00, 50.65it/s]"
          }
        },
        "21cbf6422d5444799dd320ed39161f92": {
          "model_module": "@jupyter-widgets/base",
          "model_name": "LayoutModel",
          "model_module_version": "1.2.0",
          "state": {
            "_model_module": "@jupyter-widgets/base",
            "_model_module_version": "1.2.0",
            "_model_name": "LayoutModel",
            "_view_count": null,
            "_view_module": "@jupyter-widgets/base",
            "_view_module_version": "1.2.0",
            "_view_name": "LayoutView",
            "align_content": null,
            "align_items": null,
            "align_self": null,
            "border": null,
            "bottom": null,
            "display": null,
            "flex": null,
            "flex_flow": null,
            "grid_area": null,
            "grid_auto_columns": null,
            "grid_auto_flow": null,
            "grid_auto_rows": null,
            "grid_column": null,
            "grid_gap": null,
            "grid_row": null,
            "grid_template_areas": null,
            "grid_template_columns": null,
            "grid_template_rows": null,
            "height": null,
            "justify_content": null,
            "justify_items": null,
            "left": null,
            "margin": null,
            "max_height": null,
            "max_width": null,
            "min_height": null,
            "min_width": null,
            "object_fit": null,
            "object_position": null,
            "order": null,
            "overflow": null,
            "overflow_x": null,
            "overflow_y": null,
            "padding": null,
            "right": null,
            "top": null,
            "visibility": null,
            "width": null
          }
        },
        "79719e4901b646ea9d5dd5d812ac794c": {
          "model_module": "@jupyter-widgets/base",
          "model_name": "LayoutModel",
          "model_module_version": "1.2.0",
          "state": {
            "_model_module": "@jupyter-widgets/base",
            "_model_module_version": "1.2.0",
            "_model_name": "LayoutModel",
            "_view_count": null,
            "_view_module": "@jupyter-widgets/base",
            "_view_module_version": "1.2.0",
            "_view_name": "LayoutView",
            "align_content": null,
            "align_items": null,
            "align_self": null,
            "border": null,
            "bottom": null,
            "display": null,
            "flex": null,
            "flex_flow": null,
            "grid_area": null,
            "grid_auto_columns": null,
            "grid_auto_flow": null,
            "grid_auto_rows": null,
            "grid_column": null,
            "grid_gap": null,
            "grid_row": null,
            "grid_template_areas": null,
            "grid_template_columns": null,
            "grid_template_rows": null,
            "height": null,
            "justify_content": null,
            "justify_items": null,
            "left": null,
            "margin": null,
            "max_height": null,
            "max_width": null,
            "min_height": null,
            "min_width": null,
            "object_fit": null,
            "object_position": null,
            "order": null,
            "overflow": null,
            "overflow_x": null,
            "overflow_y": null,
            "padding": null,
            "right": null,
            "top": null,
            "visibility": null,
            "width": null
          }
        },
        "762072820d3244be88862da35969ea74": {
          "model_module": "@jupyter-widgets/controls",
          "model_name": "DescriptionStyleModel",
          "model_module_version": "1.5.0",
          "state": {
            "_model_module": "@jupyter-widgets/controls",
            "_model_module_version": "1.5.0",
            "_model_name": "DescriptionStyleModel",
            "_view_count": null,
            "_view_module": "@jupyter-widgets/base",
            "_view_module_version": "1.2.0",
            "_view_name": "StyleView",
            "description_width": ""
          }
        },
        "8bfb5d6ed996419e9d82db46245e0727": {
          "model_module": "@jupyter-widgets/base",
          "model_name": "LayoutModel",
          "model_module_version": "1.2.0",
          "state": {
            "_model_module": "@jupyter-widgets/base",
            "_model_module_version": "1.2.0",
            "_model_name": "LayoutModel",
            "_view_count": null,
            "_view_module": "@jupyter-widgets/base",
            "_view_module_version": "1.2.0",
            "_view_name": "LayoutView",
            "align_content": null,
            "align_items": null,
            "align_self": null,
            "border": null,
            "bottom": null,
            "display": null,
            "flex": null,
            "flex_flow": null,
            "grid_area": null,
            "grid_auto_columns": null,
            "grid_auto_flow": null,
            "grid_auto_rows": null,
            "grid_column": null,
            "grid_gap": null,
            "grid_row": null,
            "grid_template_areas": null,
            "grid_template_columns": null,
            "grid_template_rows": null,
            "height": null,
            "justify_content": null,
            "justify_items": null,
            "left": null,
            "margin": null,
            "max_height": null,
            "max_width": null,
            "min_height": null,
            "min_width": null,
            "object_fit": null,
            "object_position": null,
            "order": null,
            "overflow": null,
            "overflow_x": null,
            "overflow_y": null,
            "padding": null,
            "right": null,
            "top": null,
            "visibility": null,
            "width": null
          }
        },
        "55b19dd9ed9b49b9b9d40d8b5b682bb7": {
          "model_module": "@jupyter-widgets/controls",
          "model_name": "ProgressStyleModel",
          "model_module_version": "1.5.0",
          "state": {
            "_model_module": "@jupyter-widgets/controls",
            "_model_module_version": "1.5.0",
            "_model_name": "ProgressStyleModel",
            "_view_count": null,
            "_view_module": "@jupyter-widgets/base",
            "_view_module_version": "1.2.0",
            "_view_name": "StyleView",
            "bar_color": null,
            "description_width": ""
          }
        },
        "adaaa1e5ba114c0ca649708734e7a1a2": {
          "model_module": "@jupyter-widgets/base",
          "model_name": "LayoutModel",
          "model_module_version": "1.2.0",
          "state": {
            "_model_module": "@jupyter-widgets/base",
            "_model_module_version": "1.2.0",
            "_model_name": "LayoutModel",
            "_view_count": null,
            "_view_module": "@jupyter-widgets/base",
            "_view_module_version": "1.2.0",
            "_view_name": "LayoutView",
            "align_content": null,
            "align_items": null,
            "align_self": null,
            "border": null,
            "bottom": null,
            "display": null,
            "flex": null,
            "flex_flow": null,
            "grid_area": null,
            "grid_auto_columns": null,
            "grid_auto_flow": null,
            "grid_auto_rows": null,
            "grid_column": null,
            "grid_gap": null,
            "grid_row": null,
            "grid_template_areas": null,
            "grid_template_columns": null,
            "grid_template_rows": null,
            "height": null,
            "justify_content": null,
            "justify_items": null,
            "left": null,
            "margin": null,
            "max_height": null,
            "max_width": null,
            "min_height": null,
            "min_width": null,
            "object_fit": null,
            "object_position": null,
            "order": null,
            "overflow": null,
            "overflow_x": null,
            "overflow_y": null,
            "padding": null,
            "right": null,
            "top": null,
            "visibility": null,
            "width": null
          }
        },
        "e8d11e9201f24718983bc2a9b6729b4f": {
          "model_module": "@jupyter-widgets/controls",
          "model_name": "DescriptionStyleModel",
          "model_module_version": "1.5.0",
          "state": {
            "_model_module": "@jupyter-widgets/controls",
            "_model_module_version": "1.5.0",
            "_model_name": "DescriptionStyleModel",
            "_view_count": null,
            "_view_module": "@jupyter-widgets/base",
            "_view_module_version": "1.2.0",
            "_view_name": "StyleView",
            "description_width": ""
          }
        },
        "78a3a0dc92fc4b4aa765385af20a3778": {
          "model_module": "@jupyter-widgets/controls",
          "model_name": "HBoxModel",
          "model_module_version": "1.5.0",
          "state": {
            "_dom_classes": [],
            "_model_module": "@jupyter-widgets/controls",
            "_model_module_version": "1.5.0",
            "_model_name": "HBoxModel",
            "_view_count": null,
            "_view_module": "@jupyter-widgets/controls",
            "_view_module_version": "1.5.0",
            "_view_name": "HBoxView",
            "box_style": "",
            "children": [
              "IPY_MODEL_8c3db94490064a91a8079a19a780cb4b",
              "IPY_MODEL_e195d49b75ca4d8b8b206f8a81f55546",
              "IPY_MODEL_66444f4c71ea4782852b5bfaca17f2a3"
            ],
            "layout": "IPY_MODEL_236bc238bbb54737b47167543f280baa"
          }
        },
        "8c3db94490064a91a8079a19a780cb4b": {
          "model_module": "@jupyter-widgets/controls",
          "model_name": "HTMLModel",
          "model_module_version": "1.5.0",
          "state": {
            "_dom_classes": [],
            "_model_module": "@jupyter-widgets/controls",
            "_model_module_version": "1.5.0",
            "_model_name": "HTMLModel",
            "_view_count": null,
            "_view_module": "@jupyter-widgets/controls",
            "_view_module_version": "1.5.0",
            "_view_name": "HTMLView",
            "description": "",
            "description_tooltip": null,
            "layout": "IPY_MODEL_587c24355e204c3a9422527557a683c7",
            "placeholder": "​",
            "style": "IPY_MODEL_d5e951387f4d4db5a0e122639f4097ca",
            "value": "Training 7/10: 100%"
          }
        },
        "e195d49b75ca4d8b8b206f8a81f55546": {
          "model_module": "@jupyter-widgets/controls",
          "model_name": "FloatProgressModel",
          "model_module_version": "1.5.0",
          "state": {
            "_dom_classes": [],
            "_model_module": "@jupyter-widgets/controls",
            "_model_module_version": "1.5.0",
            "_model_name": "FloatProgressModel",
            "_view_count": null,
            "_view_module": "@jupyter-widgets/controls",
            "_view_module_version": "1.5.0",
            "_view_name": "ProgressView",
            "bar_style": "success",
            "description": "",
            "description_tooltip": null,
            "layout": "IPY_MODEL_55ddda236c7a48ad8396893d4d76c659",
            "max": 938,
            "min": 0,
            "orientation": "horizontal",
            "style": "IPY_MODEL_5490fd4a8ec74789a0380806ec06ec57",
            "value": 938
          }
        },
        "66444f4c71ea4782852b5bfaca17f2a3": {
          "model_module": "@jupyter-widgets/controls",
          "model_name": "HTMLModel",
          "model_module_version": "1.5.0",
          "state": {
            "_dom_classes": [],
            "_model_module": "@jupyter-widgets/controls",
            "_model_module_version": "1.5.0",
            "_model_name": "HTMLModel",
            "_view_count": null,
            "_view_module": "@jupyter-widgets/controls",
            "_view_module_version": "1.5.0",
            "_view_name": "HTMLView",
            "description": "",
            "description_tooltip": null,
            "layout": "IPY_MODEL_4aa74bba30c24fb2a46e933c864df629",
            "placeholder": "​",
            "style": "IPY_MODEL_015b76763dd749d8ab3426158ec30afb",
            "value": " 938/938 [00:14&lt;00:00, 66.16it/s]"
          }
        },
        "236bc238bbb54737b47167543f280baa": {
          "model_module": "@jupyter-widgets/base",
          "model_name": "LayoutModel",
          "model_module_version": "1.2.0",
          "state": {
            "_model_module": "@jupyter-widgets/base",
            "_model_module_version": "1.2.0",
            "_model_name": "LayoutModel",
            "_view_count": null,
            "_view_module": "@jupyter-widgets/base",
            "_view_module_version": "1.2.0",
            "_view_name": "LayoutView",
            "align_content": null,
            "align_items": null,
            "align_self": null,
            "border": null,
            "bottom": null,
            "display": null,
            "flex": null,
            "flex_flow": null,
            "grid_area": null,
            "grid_auto_columns": null,
            "grid_auto_flow": null,
            "grid_auto_rows": null,
            "grid_column": null,
            "grid_gap": null,
            "grid_row": null,
            "grid_template_areas": null,
            "grid_template_columns": null,
            "grid_template_rows": null,
            "height": null,
            "justify_content": null,
            "justify_items": null,
            "left": null,
            "margin": null,
            "max_height": null,
            "max_width": null,
            "min_height": null,
            "min_width": null,
            "object_fit": null,
            "object_position": null,
            "order": null,
            "overflow": null,
            "overflow_x": null,
            "overflow_y": null,
            "padding": null,
            "right": null,
            "top": null,
            "visibility": null,
            "width": null
          }
        },
        "587c24355e204c3a9422527557a683c7": {
          "model_module": "@jupyter-widgets/base",
          "model_name": "LayoutModel",
          "model_module_version": "1.2.0",
          "state": {
            "_model_module": "@jupyter-widgets/base",
            "_model_module_version": "1.2.0",
            "_model_name": "LayoutModel",
            "_view_count": null,
            "_view_module": "@jupyter-widgets/base",
            "_view_module_version": "1.2.0",
            "_view_name": "LayoutView",
            "align_content": null,
            "align_items": null,
            "align_self": null,
            "border": null,
            "bottom": null,
            "display": null,
            "flex": null,
            "flex_flow": null,
            "grid_area": null,
            "grid_auto_columns": null,
            "grid_auto_flow": null,
            "grid_auto_rows": null,
            "grid_column": null,
            "grid_gap": null,
            "grid_row": null,
            "grid_template_areas": null,
            "grid_template_columns": null,
            "grid_template_rows": null,
            "height": null,
            "justify_content": null,
            "justify_items": null,
            "left": null,
            "margin": null,
            "max_height": null,
            "max_width": null,
            "min_height": null,
            "min_width": null,
            "object_fit": null,
            "object_position": null,
            "order": null,
            "overflow": null,
            "overflow_x": null,
            "overflow_y": null,
            "padding": null,
            "right": null,
            "top": null,
            "visibility": null,
            "width": null
          }
        },
        "d5e951387f4d4db5a0e122639f4097ca": {
          "model_module": "@jupyter-widgets/controls",
          "model_name": "DescriptionStyleModel",
          "model_module_version": "1.5.0",
          "state": {
            "_model_module": "@jupyter-widgets/controls",
            "_model_module_version": "1.5.0",
            "_model_name": "DescriptionStyleModel",
            "_view_count": null,
            "_view_module": "@jupyter-widgets/base",
            "_view_module_version": "1.2.0",
            "_view_name": "StyleView",
            "description_width": ""
          }
        },
        "55ddda236c7a48ad8396893d4d76c659": {
          "model_module": "@jupyter-widgets/base",
          "model_name": "LayoutModel",
          "model_module_version": "1.2.0",
          "state": {
            "_model_module": "@jupyter-widgets/base",
            "_model_module_version": "1.2.0",
            "_model_name": "LayoutModel",
            "_view_count": null,
            "_view_module": "@jupyter-widgets/base",
            "_view_module_version": "1.2.0",
            "_view_name": "LayoutView",
            "align_content": null,
            "align_items": null,
            "align_self": null,
            "border": null,
            "bottom": null,
            "display": null,
            "flex": null,
            "flex_flow": null,
            "grid_area": null,
            "grid_auto_columns": null,
            "grid_auto_flow": null,
            "grid_auto_rows": null,
            "grid_column": null,
            "grid_gap": null,
            "grid_row": null,
            "grid_template_areas": null,
            "grid_template_columns": null,
            "grid_template_rows": null,
            "height": null,
            "justify_content": null,
            "justify_items": null,
            "left": null,
            "margin": null,
            "max_height": null,
            "max_width": null,
            "min_height": null,
            "min_width": null,
            "object_fit": null,
            "object_position": null,
            "order": null,
            "overflow": null,
            "overflow_x": null,
            "overflow_y": null,
            "padding": null,
            "right": null,
            "top": null,
            "visibility": null,
            "width": null
          }
        },
        "5490fd4a8ec74789a0380806ec06ec57": {
          "model_module": "@jupyter-widgets/controls",
          "model_name": "ProgressStyleModel",
          "model_module_version": "1.5.0",
          "state": {
            "_model_module": "@jupyter-widgets/controls",
            "_model_module_version": "1.5.0",
            "_model_name": "ProgressStyleModel",
            "_view_count": null,
            "_view_module": "@jupyter-widgets/base",
            "_view_module_version": "1.2.0",
            "_view_name": "StyleView",
            "bar_color": null,
            "description_width": ""
          }
        },
        "4aa74bba30c24fb2a46e933c864df629": {
          "model_module": "@jupyter-widgets/base",
          "model_name": "LayoutModel",
          "model_module_version": "1.2.0",
          "state": {
            "_model_module": "@jupyter-widgets/base",
            "_model_module_version": "1.2.0",
            "_model_name": "LayoutModel",
            "_view_count": null,
            "_view_module": "@jupyter-widgets/base",
            "_view_module_version": "1.2.0",
            "_view_name": "LayoutView",
            "align_content": null,
            "align_items": null,
            "align_self": null,
            "border": null,
            "bottom": null,
            "display": null,
            "flex": null,
            "flex_flow": null,
            "grid_area": null,
            "grid_auto_columns": null,
            "grid_auto_flow": null,
            "grid_auto_rows": null,
            "grid_column": null,
            "grid_gap": null,
            "grid_row": null,
            "grid_template_areas": null,
            "grid_template_columns": null,
            "grid_template_rows": null,
            "height": null,
            "justify_content": null,
            "justify_items": null,
            "left": null,
            "margin": null,
            "max_height": null,
            "max_width": null,
            "min_height": null,
            "min_width": null,
            "object_fit": null,
            "object_position": null,
            "order": null,
            "overflow": null,
            "overflow_x": null,
            "overflow_y": null,
            "padding": null,
            "right": null,
            "top": null,
            "visibility": null,
            "width": null
          }
        },
        "015b76763dd749d8ab3426158ec30afb": {
          "model_module": "@jupyter-widgets/controls",
          "model_name": "DescriptionStyleModel",
          "model_module_version": "1.5.0",
          "state": {
            "_model_module": "@jupyter-widgets/controls",
            "_model_module_version": "1.5.0",
            "_model_name": "DescriptionStyleModel",
            "_view_count": null,
            "_view_module": "@jupyter-widgets/base",
            "_view_module_version": "1.2.0",
            "_view_name": "StyleView",
            "description_width": ""
          }
        },
        "a36d7065bb6a4222ba11dd8dd58ff937": {
          "model_module": "@jupyter-widgets/controls",
          "model_name": "HBoxModel",
          "model_module_version": "1.5.0",
          "state": {
            "_dom_classes": [],
            "_model_module": "@jupyter-widgets/controls",
            "_model_module_version": "1.5.0",
            "_model_name": "HBoxModel",
            "_view_count": null,
            "_view_module": "@jupyter-widgets/controls",
            "_view_module_version": "1.5.0",
            "_view_name": "HBoxView",
            "box_style": "",
            "children": [
              "IPY_MODEL_ae7e492814ef4980b2e033717612a23f",
              "IPY_MODEL_3c770968ebff499d9258b64d42a8d09c",
              "IPY_MODEL_3920f8e4b40348b6b9741854fc708364"
            ],
            "layout": "IPY_MODEL_2398016c0ee046a1a2b24dfbd8011421"
          }
        },
        "ae7e492814ef4980b2e033717612a23f": {
          "model_module": "@jupyter-widgets/controls",
          "model_name": "HTMLModel",
          "model_module_version": "1.5.0",
          "state": {
            "_dom_classes": [],
            "_model_module": "@jupyter-widgets/controls",
            "_model_module_version": "1.5.0",
            "_model_name": "HTMLModel",
            "_view_count": null,
            "_view_module": "@jupyter-widgets/controls",
            "_view_module_version": "1.5.0",
            "_view_name": "HTMLView",
            "description": "",
            "description_tooltip": null,
            "layout": "IPY_MODEL_8157828fbb6743aab9fe653e22a3a733",
            "placeholder": "​",
            "style": "IPY_MODEL_02cb9717d3354ac7b89b7c23018bb331",
            "value": "Testing 7/10: 100%"
          }
        },
        "3c770968ebff499d9258b64d42a8d09c": {
          "model_module": "@jupyter-widgets/controls",
          "model_name": "FloatProgressModel",
          "model_module_version": "1.5.0",
          "state": {
            "_dom_classes": [],
            "_model_module": "@jupyter-widgets/controls",
            "_model_module_version": "1.5.0",
            "_model_name": "FloatProgressModel",
            "_view_count": null,
            "_view_module": "@jupyter-widgets/controls",
            "_view_module_version": "1.5.0",
            "_view_name": "ProgressView",
            "bar_style": "success",
            "description": "",
            "description_tooltip": null,
            "layout": "IPY_MODEL_b9908879d61c442e874d0d48ef8b3f6a",
            "max": 157,
            "min": 0,
            "orientation": "horizontal",
            "style": "IPY_MODEL_751e04347888433788cb53b2b7a2e1bd",
            "value": 157
          }
        },
        "3920f8e4b40348b6b9741854fc708364": {
          "model_module": "@jupyter-widgets/controls",
          "model_name": "HTMLModel",
          "model_module_version": "1.5.0",
          "state": {
            "_dom_classes": [],
            "_model_module": "@jupyter-widgets/controls",
            "_model_module_version": "1.5.0",
            "_model_name": "HTMLModel",
            "_view_count": null,
            "_view_module": "@jupyter-widgets/controls",
            "_view_module_version": "1.5.0",
            "_view_name": "HTMLView",
            "description": "",
            "description_tooltip": null,
            "layout": "IPY_MODEL_0ae5adf793d94065bfedf2e06eaf9e87",
            "placeholder": "​",
            "style": "IPY_MODEL_43307d4dd09247a6aa57b2ab54c35703",
            "value": " 157/157 [00:02&lt;00:00, 84.00it/s]"
          }
        },
        "2398016c0ee046a1a2b24dfbd8011421": {
          "model_module": "@jupyter-widgets/base",
          "model_name": "LayoutModel",
          "model_module_version": "1.2.0",
          "state": {
            "_model_module": "@jupyter-widgets/base",
            "_model_module_version": "1.2.0",
            "_model_name": "LayoutModel",
            "_view_count": null,
            "_view_module": "@jupyter-widgets/base",
            "_view_module_version": "1.2.0",
            "_view_name": "LayoutView",
            "align_content": null,
            "align_items": null,
            "align_self": null,
            "border": null,
            "bottom": null,
            "display": null,
            "flex": null,
            "flex_flow": null,
            "grid_area": null,
            "grid_auto_columns": null,
            "grid_auto_flow": null,
            "grid_auto_rows": null,
            "grid_column": null,
            "grid_gap": null,
            "grid_row": null,
            "grid_template_areas": null,
            "grid_template_columns": null,
            "grid_template_rows": null,
            "height": null,
            "justify_content": null,
            "justify_items": null,
            "left": null,
            "margin": null,
            "max_height": null,
            "max_width": null,
            "min_height": null,
            "min_width": null,
            "object_fit": null,
            "object_position": null,
            "order": null,
            "overflow": null,
            "overflow_x": null,
            "overflow_y": null,
            "padding": null,
            "right": null,
            "top": null,
            "visibility": null,
            "width": null
          }
        },
        "8157828fbb6743aab9fe653e22a3a733": {
          "model_module": "@jupyter-widgets/base",
          "model_name": "LayoutModel",
          "model_module_version": "1.2.0",
          "state": {
            "_model_module": "@jupyter-widgets/base",
            "_model_module_version": "1.2.0",
            "_model_name": "LayoutModel",
            "_view_count": null,
            "_view_module": "@jupyter-widgets/base",
            "_view_module_version": "1.2.0",
            "_view_name": "LayoutView",
            "align_content": null,
            "align_items": null,
            "align_self": null,
            "border": null,
            "bottom": null,
            "display": null,
            "flex": null,
            "flex_flow": null,
            "grid_area": null,
            "grid_auto_columns": null,
            "grid_auto_flow": null,
            "grid_auto_rows": null,
            "grid_column": null,
            "grid_gap": null,
            "grid_row": null,
            "grid_template_areas": null,
            "grid_template_columns": null,
            "grid_template_rows": null,
            "height": null,
            "justify_content": null,
            "justify_items": null,
            "left": null,
            "margin": null,
            "max_height": null,
            "max_width": null,
            "min_height": null,
            "min_width": null,
            "object_fit": null,
            "object_position": null,
            "order": null,
            "overflow": null,
            "overflow_x": null,
            "overflow_y": null,
            "padding": null,
            "right": null,
            "top": null,
            "visibility": null,
            "width": null
          }
        },
        "02cb9717d3354ac7b89b7c23018bb331": {
          "model_module": "@jupyter-widgets/controls",
          "model_name": "DescriptionStyleModel",
          "model_module_version": "1.5.0",
          "state": {
            "_model_module": "@jupyter-widgets/controls",
            "_model_module_version": "1.5.0",
            "_model_name": "DescriptionStyleModel",
            "_view_count": null,
            "_view_module": "@jupyter-widgets/base",
            "_view_module_version": "1.2.0",
            "_view_name": "StyleView",
            "description_width": ""
          }
        },
        "b9908879d61c442e874d0d48ef8b3f6a": {
          "model_module": "@jupyter-widgets/base",
          "model_name": "LayoutModel",
          "model_module_version": "1.2.0",
          "state": {
            "_model_module": "@jupyter-widgets/base",
            "_model_module_version": "1.2.0",
            "_model_name": "LayoutModel",
            "_view_count": null,
            "_view_module": "@jupyter-widgets/base",
            "_view_module_version": "1.2.0",
            "_view_name": "LayoutView",
            "align_content": null,
            "align_items": null,
            "align_self": null,
            "border": null,
            "bottom": null,
            "display": null,
            "flex": null,
            "flex_flow": null,
            "grid_area": null,
            "grid_auto_columns": null,
            "grid_auto_flow": null,
            "grid_auto_rows": null,
            "grid_column": null,
            "grid_gap": null,
            "grid_row": null,
            "grid_template_areas": null,
            "grid_template_columns": null,
            "grid_template_rows": null,
            "height": null,
            "justify_content": null,
            "justify_items": null,
            "left": null,
            "margin": null,
            "max_height": null,
            "max_width": null,
            "min_height": null,
            "min_width": null,
            "object_fit": null,
            "object_position": null,
            "order": null,
            "overflow": null,
            "overflow_x": null,
            "overflow_y": null,
            "padding": null,
            "right": null,
            "top": null,
            "visibility": null,
            "width": null
          }
        },
        "751e04347888433788cb53b2b7a2e1bd": {
          "model_module": "@jupyter-widgets/controls",
          "model_name": "ProgressStyleModel",
          "model_module_version": "1.5.0",
          "state": {
            "_model_module": "@jupyter-widgets/controls",
            "_model_module_version": "1.5.0",
            "_model_name": "ProgressStyleModel",
            "_view_count": null,
            "_view_module": "@jupyter-widgets/base",
            "_view_module_version": "1.2.0",
            "_view_name": "StyleView",
            "bar_color": null,
            "description_width": ""
          }
        },
        "0ae5adf793d94065bfedf2e06eaf9e87": {
          "model_module": "@jupyter-widgets/base",
          "model_name": "LayoutModel",
          "model_module_version": "1.2.0",
          "state": {
            "_model_module": "@jupyter-widgets/base",
            "_model_module_version": "1.2.0",
            "_model_name": "LayoutModel",
            "_view_count": null,
            "_view_module": "@jupyter-widgets/base",
            "_view_module_version": "1.2.0",
            "_view_name": "LayoutView",
            "align_content": null,
            "align_items": null,
            "align_self": null,
            "border": null,
            "bottom": null,
            "display": null,
            "flex": null,
            "flex_flow": null,
            "grid_area": null,
            "grid_auto_columns": null,
            "grid_auto_flow": null,
            "grid_auto_rows": null,
            "grid_column": null,
            "grid_gap": null,
            "grid_row": null,
            "grid_template_areas": null,
            "grid_template_columns": null,
            "grid_template_rows": null,
            "height": null,
            "justify_content": null,
            "justify_items": null,
            "left": null,
            "margin": null,
            "max_height": null,
            "max_width": null,
            "min_height": null,
            "min_width": null,
            "object_fit": null,
            "object_position": null,
            "order": null,
            "overflow": null,
            "overflow_x": null,
            "overflow_y": null,
            "padding": null,
            "right": null,
            "top": null,
            "visibility": null,
            "width": null
          }
        },
        "43307d4dd09247a6aa57b2ab54c35703": {
          "model_module": "@jupyter-widgets/controls",
          "model_name": "DescriptionStyleModel",
          "model_module_version": "1.5.0",
          "state": {
            "_model_module": "@jupyter-widgets/controls",
            "_model_module_version": "1.5.0",
            "_model_name": "DescriptionStyleModel",
            "_view_count": null,
            "_view_module": "@jupyter-widgets/base",
            "_view_module_version": "1.2.0",
            "_view_name": "StyleView",
            "description_width": ""
          }
        }
      }
    }
  },
  "nbformat": 4,
  "nbformat_minor": 5
}