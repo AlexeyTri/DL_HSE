{
  "cells": [
    {
      "cell_type": "markdown",
      "metadata": {
        "id": "view-in-github",
        "colab_type": "text"
      },
      "source": [
        "<a href=\"https://colab.research.google.com/github/AlexeyTri/DL_HSE/blob/main/DL_seminar_1.ipynb\" target=\"_parent\"><img src=\"https://colab.research.google.com/assets/colab-badge.svg\" alt=\"Open In Colab\"/></a>"
      ]
    },
    {
      "cell_type": "code",
      "execution_count": null,
      "id": "a28c1f5d",
      "metadata": {
        "id": "a28c1f5d"
      },
      "outputs": [],
      "source": [
        "import torch"
      ]
    },
    {
      "cell_type": "code",
      "execution_count": null,
      "id": "bba6e733",
      "metadata": {
        "id": "bba6e733",
        "outputId": "444898d7-67fc-4322-c3fc-324365f67c2c"
      },
      "outputs": [
        {
          "data": {
            "text/plain": [
              "tensor([[1., 2., 3.],\n",
              "        [4., 5., 6.]], dtype=torch.float16)"
            ]
          },
          "execution_count": 5,
          "metadata": {},
          "output_type": "execute_result"
        }
      ],
      "source": [
        "a = torch.tensor([\n",
        "    [1., 2., 3.],\n",
        "    [4., 5., 6.]\n",
        "], dtype=torch.float16)\n",
        "a"
      ]
    },
    {
      "cell_type": "code",
      "execution_count": null,
      "id": "8c387774",
      "metadata": {
        "id": "8c387774",
        "outputId": "3a14b0c0-ac14-43fd-ae19-528645ca90a7"
      },
      "outputs": [
        {
          "data": {
            "text/plain": [
              "torch.Tensor"
            ]
          },
          "execution_count": 6,
          "metadata": {},
          "output_type": "execute_result"
        }
      ],
      "source": [
        "type(a)"
      ]
    },
    {
      "cell_type": "code",
      "execution_count": null,
      "id": "c0b0c0a1",
      "metadata": {
        "id": "c0b0c0a1",
        "outputId": "c6ca240e-b997-45ae-ea55-c6c6e4e49f98"
      },
      "outputs": [
        {
          "data": {
            "text/plain": [
              "torch.float16"
            ]
          },
          "execution_count": 7,
          "metadata": {},
          "output_type": "execute_result"
        }
      ],
      "source": [
        "a.dtype"
      ]
    },
    {
      "cell_type": "code",
      "execution_count": null,
      "id": "491c7093",
      "metadata": {
        "id": "491c7093",
        "outputId": "271219b7-f37d-4c7a-f68e-66cf42f0c55f"
      },
      "outputs": [
        {
          "data": {
            "text/plain": [
              "tensor([[-0.3398, -0.0950,  1.6260, -1.8649],\n",
              "        [ 0.6572,  0.7548,  0.4294, -0.6261],\n",
              "        [ 1.1535, -0.6050, -0.9054, -0.1503]])"
            ]
          },
          "execution_count": 8,
          "metadata": {},
          "output_type": "execute_result"
        }
      ],
      "source": [
        "a = torch.randn(3, 4)\n",
        "a"
      ]
    },
    {
      "cell_type": "code",
      "execution_count": null,
      "id": "28a4a3b3",
      "metadata": {
        "id": "28a4a3b3",
        "outputId": "bba860a1-2e40-4bc7-f2ec-40e73ed7efad"
      },
      "outputs": [
        {
          "data": {
            "text/plain": [
              "torch.Size([3, 4])"
            ]
          },
          "execution_count": 9,
          "metadata": {},
          "output_type": "execute_result"
        }
      ],
      "source": [
        "a.shape"
      ]
    },
    {
      "cell_type": "code",
      "execution_count": null,
      "id": "dd82d368",
      "metadata": {
        "id": "dd82d368",
        "outputId": "9dc15b0e-a0e5-49ea-bfbd-cefc9cf72f60"
      },
      "outputs": [
        {
          "data": {
            "text/plain": [
              "tensor([[0.5950, 0.6613, 0.2369, 0.4959],\n",
              "        [0.3892, 0.2089, 0.8794, 0.0487],\n",
              "        [0.3155, 0.2532, 0.2157, 0.4078]])"
            ]
          },
          "execution_count": 10,
          "metadata": {},
          "output_type": "execute_result"
        }
      ],
      "source": [
        "b = torch.rand(3, 4)\n",
        "b"
      ]
    },
    {
      "cell_type": "code",
      "execution_count": null,
      "id": "58fdf894",
      "metadata": {
        "id": "58fdf894",
        "outputId": "8b94fc75-cf3b-4039-dff0-885c0167eb38"
      },
      "outputs": [
        {
          "data": {
            "text/plain": [
              "tensor([[ 0.2552,  0.5663,  1.8629, -1.3690],\n",
              "        [ 1.0464,  0.9637,  1.3088, -0.5775],\n",
              "        [ 1.4690, -0.3518, -0.6897,  0.2575]])"
            ]
          },
          "execution_count": 11,
          "metadata": {},
          "output_type": "execute_result"
        }
      ],
      "source": [
        "a + b"
      ]
    },
    {
      "cell_type": "code",
      "execution_count": null,
      "id": "b84480e8",
      "metadata": {
        "id": "b84480e8",
        "outputId": "80653715-561f-44a7-b6a3-f12060b689c0"
      },
      "outputs": [
        {
          "data": {
            "text/plain": [
              "tensor([[-0.2022, -0.0628,  0.3852, -0.9248],\n",
              "        [ 0.2558,  0.1577,  0.3776, -0.0305],\n",
              "        [ 0.3639, -0.1532, -0.1953, -0.0613]])"
            ]
          },
          "execution_count": 12,
          "metadata": {},
          "output_type": "execute_result"
        }
      ],
      "source": [
        "a * b"
      ]
    },
    {
      "cell_type": "code",
      "execution_count": null,
      "id": "3737301b",
      "metadata": {
        "id": "3737301b",
        "outputId": "a9888295-2147-4788-d37c-06f8dd6a8209"
      },
      "outputs": [
        {
          "data": {
            "text/plain": [
              "tensor([[-0.1838, -0.0490,  0.7879, -0.5829],\n",
              "        [ 0.4139,  0.5560,  0.1728, -0.5582],\n",
              "        [ 0.6668, -0.4416, -0.6341, -0.0996]])"
            ]
          },
          "execution_count": 13,
          "metadata": {},
          "output_type": "execute_result"
        }
      ],
      "source": [
        "torch.sin(a) / torch.exp(b)"
      ]
    },
    {
      "cell_type": "code",
      "execution_count": null,
      "id": "f9411d00",
      "metadata": {
        "id": "f9411d00"
      },
      "outputs": [],
      "source": [
        "a = torch.randn(5, 2)\n",
        "b = torch.randn(2, 4)"
      ]
    },
    {
      "cell_type": "code",
      "execution_count": null,
      "id": "ba18faea",
      "metadata": {
        "id": "ba18faea",
        "outputId": "0eaea9e3-6069-48be-b390-8c388d85dd2f"
      },
      "outputs": [
        {
          "data": {
            "text/plain": [
              "torch.Size([5, 4])"
            ]
          },
          "execution_count": 18,
          "metadata": {},
          "output_type": "execute_result"
        }
      ],
      "source": [
        "(a @ b).shape"
      ]
    },
    {
      "cell_type": "code",
      "execution_count": null,
      "id": "f70b65c2",
      "metadata": {
        "id": "f70b65c2",
        "outputId": "5639fafb-a9ea-4a3f-9f0f-1b60e3b591a1"
      },
      "outputs": [
        {
          "data": {
            "text/plain": [
              "tensor([-0.2471,  1.4925, -1.1152, -0.0602,  0.1761], requires_grad=True)"
            ]
          },
          "execution_count": 36,
          "metadata": {},
          "output_type": "execute_result"
        }
      ],
      "source": [
        "a = torch.randn(5, requires_grad=True)\n",
        "a"
      ]
    },
    {
      "cell_type": "code",
      "execution_count": null,
      "id": "07dc65e9",
      "metadata": {
        "id": "07dc65e9",
        "outputId": "f200f167-a785-49cd-84ec-d6a0b3878392"
      },
      "outputs": [
        {
          "data": {
            "text/plain": [
              "tensor(3.5670, grad_fn=<SumBackward0>)"
            ]
          },
          "execution_count": 41,
          "metadata": {},
          "output_type": "execute_result"
        }
      ],
      "source": [
        "l = (a ** 2).sum()\n",
        "l"
      ]
    },
    {
      "cell_type": "code",
      "execution_count": null,
      "id": "df89d58b",
      "metadata": {
        "id": "df89d58b",
        "outputId": "dbb6595c-84d5-403f-db17-fbe78d4d882c"
      },
      "outputs": [
        {
          "data": {
            "text/plain": [
              "torch.Size([])"
            ]
          },
          "execution_count": 38,
          "metadata": {},
          "output_type": "execute_result"
        }
      ],
      "source": [
        "l.shape"
      ]
    },
    {
      "cell_type": "code",
      "execution_count": null,
      "id": "172b2d47",
      "metadata": {
        "id": "172b2d47"
      },
      "outputs": [],
      "source": [
        "l.backward()"
      ]
    },
    {
      "cell_type": "code",
      "execution_count": null,
      "id": "7ad7e642",
      "metadata": {
        "id": "7ad7e642",
        "outputId": "5e95c8f4-2cef-457f-eaf7-0778f3373413"
      },
      "outputs": [
        {
          "data": {
            "text/plain": [
              "tensor([-0.9883,  5.9702, -4.4607, -0.2406,  0.7046])"
            ]
          },
          "execution_count": 43,
          "metadata": {},
          "output_type": "execute_result"
        }
      ],
      "source": [
        "a.grad"
      ]
    },
    {
      "cell_type": "code",
      "execution_count": null,
      "id": "c97a827d",
      "metadata": {
        "id": "c97a827d"
      },
      "outputs": [],
      "source": [
        "a = torch.randn(2, 3, requires_grad=True)\n",
        "b = torch.randn(2, 3, requires_grad=False)\n",
        "c = torch.randn(2, 3, requires_grad=True)"
      ]
    },
    {
      "cell_type": "code",
      "execution_count": null,
      "id": "ede26dcd",
      "metadata": {
        "id": "ede26dcd",
        "outputId": "ad2107fd-9621-4a1d-b1cf-752c2ffdae4a"
      },
      "outputs": [
        {
          "data": {
            "text/plain": [
              "tensor(39.2590, grad_fn=<ProdBackward1>)"
            ]
          },
          "execution_count": 49,
          "metadata": {},
          "output_type": "execute_result"
        }
      ],
      "source": [
        "loss = (torch.cos(a / 3) + torch.sqrt(torch.abs(b * c))).sum(dim=0).prod(dim=0)\n",
        "loss"
      ]
    },
    {
      "cell_type": "code",
      "execution_count": null,
      "id": "ff33fd4c",
      "metadata": {
        "id": "ff33fd4c"
      },
      "outputs": [],
      "source": [
        "loss.backward()"
      ]
    },
    {
      "cell_type": "code",
      "execution_count": null,
      "id": "e21ff357",
      "metadata": {
        "id": "e21ff357",
        "outputId": "05eb1587-1cc2-4173-d342-ec88e89a80bf"
      },
      "outputs": [
        {
          "data": {
            "text/plain": [
              "tensor([[-0.4042,  0.4052,  0.2151],\n",
              "        [ 1.6134,  0.9258, -2.6517]])"
            ]
          },
          "execution_count": 51,
          "metadata": {},
          "output_type": "execute_result"
        }
      ],
      "source": [
        "a.grad"
      ]
    },
    {
      "cell_type": "code",
      "execution_count": null,
      "id": "2b28c20d",
      "metadata": {
        "id": "2b28c20d",
        "outputId": "888af67f-136e-4bad-e73a-3c9a1d3f63ee"
      },
      "outputs": [
        {
          "data": {
            "text/plain": [
              "tensor([[  -3.0521, -102.4510,   -6.2473],\n",
              "        [   6.4475,    3.5821,   -9.8835]])"
            ]
          },
          "execution_count": 52,
          "metadata": {},
          "output_type": "execute_result"
        }
      ],
      "source": [
        "c.grad"
      ]
    },
    {
      "cell_type": "code",
      "execution_count": null,
      "id": "df3b86a8",
      "metadata": {
        "id": "df3b86a8"
      },
      "outputs": [],
      "source": [
        "b.grad"
      ]
    },
    {
      "cell_type": "code",
      "execution_count": null,
      "id": "106f9a1d",
      "metadata": {
        "id": "106f9a1d",
        "outputId": "f07ef98d-dcfe-4c77-c66f-499e66245199"
      },
      "outputs": [
        {
          "data": {
            "text/plain": [
              "device(type='mps')"
            ]
          },
          "execution_count": 56,
          "metadata": {},
          "output_type": "execute_result"
        }
      ],
      "source": [
        "device = torch.device('cpu')\n",
        "#device = torch.device('mps')\n",
        "#device"
      ]
    },
    {
      "cell_type": "code",
      "execution_count": null,
      "id": "37625c94",
      "metadata": {
        "id": "37625c94"
      },
      "outputs": [],
      "source": [
        "A = torch.randn(10000, 10000)\n",
        "B = torch.randn(10000, 10000)"
      ]
    },
    {
      "cell_type": "code",
      "execution_count": null,
      "id": "345561fd",
      "metadata": {
        "id": "345561fd",
        "outputId": "753348c8-44ed-4359-c222-773732ead14b"
      },
      "outputs": [
        {
          "name": "stdout",
          "output_type": "stream",
          "text": [
            "CPU times: user 1min 5s, sys: 1.57 s, total: 1min 6s\n",
            "Wall time: 9.92 s\n"
          ]
        },
        {
          "data": {
            "text/plain": [
              "tensor([[  85.9103,  142.2850, -181.9633,  ...,   39.8290,   50.2794,\n",
              "          -18.4557],\n",
              "        [  -1.2432,  -16.7778,   29.4107,  ...,  121.7980,  141.7350,\n",
              "          -91.9905],\n",
              "        [ 132.5496, -125.1536, -133.9395,  ...,  -88.2162, -162.9181,\n",
              "          -40.5410],\n",
              "        ...,\n",
              "        [ -79.1834,  164.0332,   83.1497,  ...,  -46.4447,  -17.2977,\n",
              "          -73.7036],\n",
              "        [ -31.9492, -152.0621,  123.9805,  ...,    3.6658,   30.3147,\n",
              "          -34.0739],\n",
              "        [  71.8517,   -0.7742,  -68.8635,  ...,   18.9705,   76.1999,\n",
              "          139.4532]])"
            ]
          },
          "execution_count": 60,
          "metadata": {},
          "output_type": "execute_result"
        }
      ],
      "source": [
        "%%time\n",
        "A @ B"
      ]
    },
    {
      "cell_type": "code",
      "execution_count": null,
      "id": "8cbec839",
      "metadata": {
        "id": "8cbec839"
      },
      "outputs": [],
      "source": [
        "A = A.to(device)\n",
        "B = B.to(device)"
      ]
    },
    {
      "cell_type": "code",
      "execution_count": null,
      "id": "2cef4ce2",
      "metadata": {
        "id": "2cef4ce2",
        "outputId": "d1e615c2-8f88-47d6-eff9-06ed18d51f4c"
      },
      "outputs": [
        {
          "name": "stdout",
          "output_type": "stream",
          "text": [
            "CPU times: user 20.5 ms, sys: 62.5 ms, total: 83 ms\n",
            "Wall time: 263 ms\n"
          ]
        },
        {
          "name": "stderr",
          "output_type": "stream",
          "text": [
            "/Users/isadrtdinov/opt/anaconda3/envs/based/lib/python3.10/site-packages/torch/_tensor_str.py:115: UserWarning: The operator 'aten::nonzero' is not currently supported on the MPS backend and will fall back to run on the CPU. This may have performance implications. (Triggered internally at /Users/runner/work/_temp/anaconda/conda-bld/pytorch_1666646991213/work/aten/src/ATen/mps/MPSFallback.mm:11.)\n",
            "  nonzero_finite_vals = torch.masked_select(\n"
          ]
        },
        {
          "data": {
            "text/plain": [
              "tensor([[  85.9103,  142.2846, -181.9630,  ...,   39.8290,   50.2792,\n",
              "          -18.4556],\n",
              "        [  -1.2431,  -16.7779,   29.4107,  ...,  121.7981,  141.7347,\n",
              "          -91.9905],\n",
              "        [ 132.5495, -125.1537, -133.9396,  ...,  -88.2162, -162.9179,\n",
              "          -40.5413],\n",
              "        ...,\n",
              "        [ -79.1836,  164.0331,   83.1499,  ...,  -46.4445,  -17.2978,\n",
              "          -73.7037],\n",
              "        [ -31.9492, -152.0623,  123.9802,  ...,    3.6658,   30.3147,\n",
              "          -34.0738],\n",
              "        [  71.8518,   -0.7743,  -68.8636,  ...,   18.9705,   76.2001,\n",
              "          139.4531]], device='mps:0')"
            ]
          },
          "execution_count": 62,
          "metadata": {},
          "output_type": "execute_result"
        }
      ],
      "source": [
        "%%time\n",
        "A @ B"
      ]
    },
    {
      "cell_type": "code",
      "execution_count": null,
      "id": "5c217936",
      "metadata": {
        "id": "5c217936",
        "outputId": "f518fafa-0e88-4caa-8bed-ddf09ea27cf3"
      },
      "outputs": [
        {
          "name": "stdout",
          "output_type": "stream",
          "text": [
            "\u001b[34mcifar10\u001b[m\u001b[m \u001b[34mmnist\u001b[m\u001b[m\r\n"
          ]
        }
      ],
      "source": [
        "!ls /Users/isadrtdinov/datasets/"
      ]
    },
    {
      "cell_type": "code",
      "execution_count": null,
      "id": "386300a5",
      "metadata": {
        "id": "386300a5"
      },
      "outputs": [],
      "source": [
        "from torchvision.datasets import MNIST"
      ]
    },
    {
      "cell_type": "code",
      "execution_count": null,
      "id": "c587f5d7",
      "metadata": {
        "id": "c587f5d7"
      },
      "outputs": [],
      "source": [
        "train_set = MNIST(root='~/datasets/mnist', train=True, download=True)\n",
        "test_set = MNIST(root='~/datasets/mnist', train=False, download=True)"
      ]
    },
    {
      "cell_type": "code",
      "execution_count": null,
      "id": "afe57296",
      "metadata": {
        "id": "afe57296",
        "outputId": "825ae7dc-6916-49ca-c737-a71f148ba5c2"
      },
      "outputs": [
        {
          "data": {
            "text/plain": [
              "60000"
            ]
          },
          "execution_count": 72,
          "metadata": {},
          "output_type": "execute_result"
        }
      ],
      "source": [
        "len(train_set)"
      ]
    },
    {
      "cell_type": "code",
      "execution_count": null,
      "id": "0b68b740",
      "metadata": {
        "id": "0b68b740"
      },
      "outputs": [],
      "source": [
        "out = train_set[12675]"
      ]
    },
    {
      "cell_type": "code",
      "execution_count": null,
      "id": "984e8caa",
      "metadata": {
        "id": "984e8caa",
        "outputId": "d07fcf8e-90c0-43aa-dc92-a570f9f39648"
      },
      "outputs": [
        {
          "data": {
            "text/plain": [
              "(<PIL.Image.Image image mode=L size=28x28>, 4)"
            ]
          },
          "execution_count": 80,
          "metadata": {},
          "output_type": "execute_result"
        }
      ],
      "source": [
        "out"
      ]
    },
    {
      "cell_type": "code",
      "execution_count": null,
      "id": "a7d3cbaa",
      "metadata": {
        "id": "a7d3cbaa",
        "outputId": "17f17c66-3531-4415-f405-58c363cdb2ef"
      },
      "outputs": [
        {
          "data": {
            "text/plain": [
              "torch.Size([60000, 28, 28])"
            ]
          },
          "execution_count": 81,
          "metadata": {},
          "output_type": "execute_result"
        }
      ],
      "source": [
        "train_set.data.shape"
      ]
    },
    {
      "cell_type": "code",
      "execution_count": null,
      "id": "ba93aaa7",
      "metadata": {
        "id": "ba93aaa7",
        "outputId": "701d3b03-22fd-4dfe-8681-9c266e5730d8"
      },
      "outputs": [
        {
          "data": {
            "image/png": "[encoded data removed]",
            "text/plain": [
              "<PIL.Image.Image image mode=L size=300x300>"
            ]
          },
          "execution_count": 82,
          "metadata": {},
          "output_type": "execute_result"
        }
      ],
      "source": [
        "out[0].resize((300, 300))"
      ]
    },
    {
      "cell_type": "code",
      "execution_count": null,
      "id": "d551e2ce",
      "metadata": {
        "id": "d551e2ce"
      },
      "outputs": [],
      "source": [
        "torch.from_numpy?"
      ]
    },
    {
      "cell_type": "code",
      "execution_count": null,
      "id": "7452184f",
      "metadata": {
        "id": "7452184f"
      },
      "outputs": [],
      "source": [
        "import torchvision.transforms as T\n",
        "from torch.utils.data import DataLoader"
      ]
    },
    {
      "cell_type": "code",
      "execution_count": null,
      "id": "2941aa09",
      "metadata": {
        "id": "2941aa09"
      },
      "outputs": [],
      "source": [
        "transform = T.Compose([\n",
        "    T.ToTensor(),\n",
        "    T.Resize(32),\n",
        "])"
      ]
    },
    {
      "cell_type": "code",
      "execution_count": null,
      "id": "229cd766",
      "metadata": {
        "id": "229cd766"
      },
      "outputs": [],
      "source": [
        "train_set = MNIST(root='~/datasets/mnist', transform=transform, train=True, download=True)\n",
        "test_set = MNIST(root='~/datasets/mnist', transform=transform, train=False, download=True)"
      ]
    },
    {
      "cell_type": "code",
      "execution_count": null,
      "id": "681d2fad",
      "metadata": {
        "id": "681d2fad"
      },
      "outputs": [],
      "source": [
        "out = train_set[12675]"
      ]
    },
    {
      "cell_type": "code",
      "execution_count": null,
      "id": "865ef60d",
      "metadata": {
        "id": "865ef60d",
        "outputId": "73d409fd-a663-43e8-8c91-447934b9bf86"
      },
      "outputs": [
        {
          "data": {
            "text/plain": [
              "(tensor([[[0., 0., 0.,  ..., 0., 0., 0.],\n",
              "          [0., 0., 0.,  ..., 0., 0., 0.],\n",
              "          [0., 0., 0.,  ..., 0., 0., 0.],\n",
              "          ...,\n",
              "          [0., 0., 0.,  ..., 0., 0., 0.],\n",
              "          [0., 0., 0.,  ..., 0., 0., 0.],\n",
              "          [0., 0., 0.,  ..., 0., 0., 0.]]]),\n",
              " 4)"
            ]
          },
          "execution_count": 99,
          "metadata": {},
          "output_type": "execute_result"
        }
      ],
      "source": [
        "out"
      ]
    },
    {
      "cell_type": "code",
      "execution_count": null,
      "id": "d3f61834",
      "metadata": {
        "scrolled": false,
        "id": "d3f61834",
        "outputId": "33de4ca8-fdae-4d2a-d0c2-a7d4323e44f6"
      },
      "outputs": [
        {
          "data": {
            "text/plain": [
              "torch.Size([1, 32, 32])"
            ]
          },
          "execution_count": 94,
          "metadata": {},
          "output_type": "execute_result"
        }
      ],
      "source": [
        "out[0].shape"
      ]
    },
    {
      "cell_type": "code",
      "execution_count": null,
      "id": "cb73df41",
      "metadata": {
        "id": "cb73df41",
        "outputId": "418f4785-73b5-4fde-bf33-bef576001903"
      },
      "outputs": [
        {
          "data": {
            "image/png": "[encoded data removed]",
            "text/plain": [
              "<PIL.Image.Image image mode=L size=32x32>"
            ]
          },
          "execution_count": 95,
          "metadata": {},
          "output_type": "execute_result"
        }
      ],
      "source": [
        "to_image = T.ToPILImage()\n",
        "to_image(out[0])"
      ]
    },
    {
      "cell_type": "code",
      "execution_count": null,
      "id": "7171e4e1",
      "metadata": {
        "id": "7171e4e1"
      },
      "outputs": [],
      "source": [
        "DataLoader?"
      ]
    },
    {
      "cell_type": "code",
      "execution_count": null,
      "id": "6e462979",
      "metadata": {
        "id": "6e462979"
      },
      "outputs": [],
      "source": [
        "train_loader = DataLoader(train_set, batch_size=64, shuffle=True, num_workers=4, pin_memory=True)\n",
        "test_loader = DataLoader(test_set, batch_size=64, shuffle=False, num_workers=4, pin_memory=True)"
      ]
    },
    {
      "cell_type": "code",
      "execution_count": null,
      "id": "ec2df309",
      "metadata": {
        "id": "ec2df309"
      },
      "outputs": [],
      "source": [
        "for batch in train_loader:\n",
        "    break"
      ]
    },
    {
      "cell_type": "code",
      "execution_count": null,
      "id": "a96f59f3",
      "metadata": {
        "id": "a96f59f3",
        "outputId": "7e490c6d-5f3d-450c-9bad-66c850fa2aab"
      },
      "outputs": [
        {
          "data": {
            "text/plain": [
              "torch.Size([64, 1, 32, 32])"
            ]
          },
          "execution_count": 102,
          "metadata": {},
          "output_type": "execute_result"
        }
      ],
      "source": [
        "batch[0].shape"
      ]
    },
    {
      "cell_type": "code",
      "execution_count": null,
      "id": "1479286b",
      "metadata": {
        "id": "1479286b",
        "outputId": "fccc8527-7f76-427b-9cea-2a4435bae656"
      },
      "outputs": [
        {
          "data": {
            "text/plain": [
              "torch.Size([64])"
            ]
          },
          "execution_count": 104,
          "metadata": {},
          "output_type": "execute_result"
        }
      ],
      "source": [
        "batch[1].shape"
      ]
    },
    {
      "cell_type": "code",
      "execution_count": null,
      "id": "6d4c858c",
      "metadata": {
        "scrolled": false,
        "id": "6d4c858c",
        "outputId": "51439d13-6e1c-47c4-e209-3bc540325a1e"
      },
      "outputs": [
        {
          "name": "stdout",
          "output_type": "stream",
          "text": [
            "torch.Size([64, 1, 32, 32]) torch.Size([64])\n",
            "torch.Size([64, 1, 32, 32]) torch.Size([64])\n",
            "torch.Size([64, 1, 32, 32]) torch.Size([64])\n",
            "torch.Size([64, 1, 32, 32]) torch.Size([64])\n",
            "torch.Size([64, 1, 32, 32]) torch.Size([64])\n",
            "torch.Size([64, 1, 32, 32]) torch.Size([64])\n",
            "torch.Size([64, 1, 32, 32]) torch.Size([64])\n",
            "torch.Size([64, 1, 32, 32]) torch.Size([64])\n",
            "torch.Size([64, 1, 32, 32]) torch.Size([64])\n",
            "torch.Size([64, 1, 32, 32]) torch.Size([64])\n",
            "torch.Size([64, 1, 32, 32]) torch.Size([64])\n",
            "torch.Size([64, 1, 32, 32]) torch.Size([64])\n",
            "torch.Size([64, 1, 32, 32]) torch.Size([64])\n",
            "torch.Size([64, 1, 32, 32]) torch.Size([64])\n",
            "torch.Size([64, 1, 32, 32]) torch.Size([64])\n",
            "torch.Size([64, 1, 32, 32]) torch.Size([64])\n",
            "torch.Size([64, 1, 32, 32]) torch.Size([64])\n",
            "torch.Size([64, 1, 32, 32]) torch.Size([64])\n",
            "torch.Size([64, 1, 32, 32]) torch.Size([64])\n",
            "torch.Size([64, 1, 32, 32]) torch.Size([64])\n",
            "torch.Size([64, 1, 32, 32]) torch.Size([64])\n",
            "torch.Size([64, 1, 32, 32]) torch.Size([64])\n",
            "torch.Size([64, 1, 32, 32]) torch.Size([64])\n",
            "torch.Size([64, 1, 32, 32]) torch.Size([64])\n",
            "torch.Size([64, 1, 32, 32]) torch.Size([64])\n",
            "torch.Size([64, 1, 32, 32]) torch.Size([64])\n",
            "torch.Size([64, 1, 32, 32]) torch.Size([64])\n",
            "torch.Size([64, 1, 32, 32]) torch.Size([64])\n",
            "torch.Size([64, 1, 32, 32]) torch.Size([64])\n",
            "torch.Size([64, 1, 32, 32]) torch.Size([64])\n",
            "torch.Size([64, 1, 32, 32]) torch.Size([64])\n",
            "torch.Size([64, 1, 32, 32]) torch.Size([64])\n",
            "torch.Size([64, 1, 32, 32]) torch.Size([64])\n",
            "torch.Size([64, 1, 32, 32]) torch.Size([64])\n",
            "torch.Size([64, 1, 32, 32]) torch.Size([64])\n",
            "torch.Size([64, 1, 32, 32]) torch.Size([64])\n",
            "torch.Size([64, 1, 32, 32]) torch.Size([64])\n",
            "torch.Size([64, 1, 32, 32]) torch.Size([64])\n",
            "torch.Size([64, 1, 32, 32]) torch.Size([64])\n",
            "torch.Size([64, 1, 32, 32]) torch.Size([64])\n",
            "torch.Size([64, 1, 32, 32]) torch.Size([64])\n",
            "torch.Size([64, 1, 32, 32]) torch.Size([64])\n",
            "torch.Size([64, 1, 32, 32]) torch.Size([64])\n",
            "torch.Size([64, 1, 32, 32]) torch.Size([64])\n",
            "torch.Size([64, 1, 32, 32]) torch.Size([64])\n",
            "torch.Size([64, 1, 32, 32]) torch.Size([64])\n",
            "torch.Size([64, 1, 32, 32]) torch.Size([64])\n",
            "torch.Size([64, 1, 32, 32]) torch.Size([64])\n",
            "torch.Size([64, 1, 32, 32]) torch.Size([64])\n",
            "torch.Size([64, 1, 32, 32]) torch.Size([64])\n",
            "torch.Size([64, 1, 32, 32]) torch.Size([64])\n",
            "torch.Size([64, 1, 32, 32]) torch.Size([64])\n",
            "torch.Size([64, 1, 32, 32]) torch.Size([64])\n",
            "torch.Size([64, 1, 32, 32]) torch.Size([64])\n",
            "torch.Size([64, 1, 32, 32]) torch.Size([64])\n",
            "torch.Size([64, 1, 32, 32]) torch.Size([64])\n",
            "torch.Size([64, 1, 32, 32]) torch.Size([64])\n",
            "torch.Size([64, 1, 32, 32]) torch.Size([64])\n",
            "torch.Size([64, 1, 32, 32]) torch.Size([64])\n",
            "torch.Size([64, 1, 32, 32]) torch.Size([64])\n",
            "torch.Size([64, 1, 32, 32]) torch.Size([64])\n",
            "torch.Size([64, 1, 32, 32]) torch.Size([64])\n",
            "torch.Size([64, 1, 32, 32]) torch.Size([64])\n",
            "torch.Size([64, 1, 32, 32]) torch.Size([64])\n",
            "torch.Size([64, 1, 32, 32]) torch.Size([64])\n",
            "torch.Size([64, 1, 32, 32]) torch.Size([64])\n",
            "torch.Size([64, 1, 32, 32]) torch.Size([64])\n",
            "torch.Size([64, 1, 32, 32]) torch.Size([64])\n",
            "torch.Size([64, 1, 32, 32]) torch.Size([64])\n",
            "torch.Size([64, 1, 32, 32]) torch.Size([64])\n",
            "torch.Size([64, 1, 32, 32]) torch.Size([64])\n",
            "torch.Size([64, 1, 32, 32]) torch.Size([64])\n",
            "torch.Size([64, 1, 32, 32]) torch.Size([64])\n",
            "torch.Size([64, 1, 32, 32]) torch.Size([64])\n",
            "torch.Size([64, 1, 32, 32]) torch.Size([64])\n",
            "torch.Size([64, 1, 32, 32]) torch.Size([64])\n",
            "torch.Size([64, 1, 32, 32]) torch.Size([64])\n",
            "torch.Size([64, 1, 32, 32]) torch.Size([64])\n",
            "torch.Size([64, 1, 32, 32]) torch.Size([64])\n",
            "torch.Size([64, 1, 32, 32]) torch.Size([64])\n",
            "torch.Size([64, 1, 32, 32]) torch.Size([64])\n",
            "torch.Size([64, 1, 32, 32]) torch.Size([64])\n",
            "torch.Size([64, 1, 32, 32]) torch.Size([64])\n",
            "torch.Size([64, 1, 32, 32]) torch.Size([64])\n",
            "torch.Size([64, 1, 32, 32]) torch.Size([64])\n",
            "torch.Size([64, 1, 32, 32]) torch.Size([64])\n",
            "torch.Size([64, 1, 32, 32]) torch.Size([64])\n",
            "torch.Size([64, 1, 32, 32]) torch.Size([64])\n",
            "torch.Size([64, 1, 32, 32]) torch.Size([64])\n",
            "torch.Size([64, 1, 32, 32]) torch.Size([64])\n",
            "torch.Size([64, 1, 32, 32]) torch.Size([64])\n",
            "torch.Size([64, 1, 32, 32]) torch.Size([64])\n",
            "torch.Size([64, 1, 32, 32]) torch.Size([64])\n",
            "torch.Size([64, 1, 32, 32]) torch.Size([64])\n",
            "torch.Size([64, 1, 32, 32]) torch.Size([64])\n",
            "torch.Size([64, 1, 32, 32]) torch.Size([64])\n",
            "torch.Size([64, 1, 32, 32]) torch.Size([64])\n",
            "torch.Size([64, 1, 32, 32]) torch.Size([64])\n",
            "torch.Size([64, 1, 32, 32]) torch.Size([64])\n",
            "torch.Size([64, 1, 32, 32]) torch.Size([64])\n",
            "torch.Size([64, 1, 32, 32]) torch.Size([64])\n",
            "torch.Size([64, 1, 32, 32]) torch.Size([64])\n",
            "torch.Size([64, 1, 32, 32]) torch.Size([64])\n",
            "torch.Size([64, 1, 32, 32]) torch.Size([64])\n",
            "torch.Size([64, 1, 32, 32]) torch.Size([64])\n",
            "torch.Size([64, 1, 32, 32]) torch.Size([64])\n",
            "torch.Size([64, 1, 32, 32]) torch.Size([64])\n",
            "torch.Size([64, 1, 32, 32]) torch.Size([64])\n",
            "torch.Size([64, 1, 32, 32]) torch.Size([64])\n",
            "torch.Size([64, 1, 32, 32]) torch.Size([64])\n",
            "torch.Size([64, 1, 32, 32]) torch.Size([64])\n",
            "torch.Size([64, 1, 32, 32]) torch.Size([64])\n",
            "torch.Size([64, 1, 32, 32]) torch.Size([64])\n",
            "torch.Size([64, 1, 32, 32]) torch.Size([64])\n",
            "torch.Size([64, 1, 32, 32]) torch.Size([64])\n",
            "torch.Size([64, 1, 32, 32]) torch.Size([64])\n",
            "torch.Size([64, 1, 32, 32]) torch.Size([64])\n",
            "torch.Size([64, 1, 32, 32]) torch.Size([64])\n",
            "torch.Size([64, 1, 32, 32]) torch.Size([64])\n",
            "torch.Size([64, 1, 32, 32]) torch.Size([64])\n",
            "torch.Size([64, 1, 32, 32]) torch.Size([64])\n",
            "torch.Size([64, 1, 32, 32]) torch.Size([64])\n",
            "torch.Size([64, 1, 32, 32]) torch.Size([64])\n",
            "torch.Size([64, 1, 32, 32]) torch.Size([64])\n",
            "torch.Size([64, 1, 32, 32]) torch.Size([64])\n",
            "torch.Size([64, 1, 32, 32]) torch.Size([64])\n",
            "torch.Size([64, 1, 32, 32]) torch.Size([64])\n",
            "torch.Size([64, 1, 32, 32]) torch.Size([64])\n",
            "torch.Size([64, 1, 32, 32]) torch.Size([64])\n",
            "torch.Size([64, 1, 32, 32]) torch.Size([64])\n",
            "torch.Size([64, 1, 32, 32]) torch.Size([64])\n",
            "torch.Size([64, 1, 32, 32]) torch.Size([64])\n",
            "torch.Size([64, 1, 32, 32]) torch.Size([64])\n",
            "torch.Size([64, 1, 32, 32]) torch.Size([64])\n",
            "torch.Size([64, 1, 32, 32]) torch.Size([64])\n",
            "torch.Size([64, 1, 32, 32]) torch.Size([64])\n",
            "torch.Size([64, 1, 32, 32]) torch.Size([64])\n",
            "torch.Size([64, 1, 32, 32]) torch.Size([64])\n",
            "torch.Size([64, 1, 32, 32]) torch.Size([64])\n",
            "torch.Size([64, 1, 32, 32]) torch.Size([64])\n",
            "torch.Size([64, 1, 32, 32]) torch.Size([64])\n",
            "torch.Size([64, 1, 32, 32]) torch.Size([64])\n",
            "torch.Size([64, 1, 32, 32]) torch.Size([64])\n",
            "torch.Size([64, 1, 32, 32]) torch.Size([64])\n",
            "torch.Size([64, 1, 32, 32]) torch.Size([64])\n",
            "torch.Size([64, 1, 32, 32]) torch.Size([64])\n",
            "torch.Size([64, 1, 32, 32]) torch.Size([64])\n",
            "torch.Size([64, 1, 32, 32]) torch.Size([64])\n",
            "torch.Size([64, 1, 32, 32]) torch.Size([64])\n",
            "torch.Size([64, 1, 32, 32]) torch.Size([64])\n",
            "torch.Size([64, 1, 32, 32]) torch.Size([64])\n",
            "torch.Size([64, 1, 32, 32]) torch.Size([64])\n",
            "torch.Size([64, 1, 32, 32]) torch.Size([64])\n",
            "torch.Size([64, 1, 32, 32]) torch.Size([64])\n",
            "torch.Size([64, 1, 32, 32]) torch.Size([64])\n",
            "torch.Size([64, 1, 32, 32]) torch.Size([64])\n",
            "torch.Size([64, 1, 32, 32]) torch.Size([64])\n",
            "torch.Size([64, 1, 32, 32]) torch.Size([64])\n",
            "torch.Size([64, 1, 32, 32]) torch.Size([64])\n",
            "torch.Size([64, 1, 32, 32]) torch.Size([64])\n",
            "torch.Size([64, 1, 32, 32]) torch.Size([64])\n",
            "torch.Size([64, 1, 32, 32]) torch.Size([64])\n",
            "torch.Size([64, 1, 32, 32]) torch.Size([64])\n",
            "torch.Size([64, 1, 32, 32]) torch.Size([64])\n",
            "torch.Size([64, 1, 32, 32]) torch.Size([64])\n",
            "torch.Size([64, 1, 32, 32]) torch.Size([64])\n",
            "torch.Size([64, 1, 32, 32]) torch.Size([64])\n",
            "torch.Size([64, 1, 32, 32]) torch.Size([64])\n",
            "torch.Size([64, 1, 32, 32]) torch.Size([64])\n",
            "torch.Size([64, 1, 32, 32]) torch.Size([64])\n",
            "torch.Size([64, 1, 32, 32]) torch.Size([64])\n",
            "torch.Size([64, 1, 32, 32]) torch.Size([64])\n",
            "torch.Size([64, 1, 32, 32]) torch.Size([64])\n",
            "torch.Size([64, 1, 32, 32]) torch.Size([64])\n",
            "torch.Size([64, 1, 32, 32]) torch.Size([64])\n",
            "torch.Size([64, 1, 32, 32]) torch.Size([64])\n",
            "torch.Size([64, 1, 32, 32]) torch.Size([64])\n",
            "torch.Size([64, 1, 32, 32]) torch.Size([64])\n",
            "torch.Size([64, 1, 32, 32]) torch.Size([64])\n",
            "torch.Size([64, 1, 32, 32]) torch.Size([64])\n",
            "torch.Size([64, 1, 32, 32]) torch.Size([64])\n",
            "torch.Size([64, 1, 32, 32]) torch.Size([64])\n",
            "torch.Size([64, 1, 32, 32]) torch.Size([64])\n",
            "torch.Size([64, 1, 32, 32]) torch.Size([64])\n",
            "torch.Size([64, 1, 32, 32]) torch.Size([64])\n",
            "torch.Size([64, 1, 32, 32]) torch.Size([64])\n",
            "torch.Size([64, 1, 32, 32]) torch.Size([64])\n",
            "torch.Size([64, 1, 32, 32]) torch.Size([64])\n",
            "torch.Size([64, 1, 32, 32]) torch.Size([64])\n",
            "torch.Size([64, 1, 32, 32]) torch.Size([64])\n",
            "torch.Size([64, 1, 32, 32]) torch.Size([64])\n",
            "torch.Size([64, 1, 32, 32]) torch.Size([64])\n",
            "torch.Size([64, 1, 32, 32]) torch.Size([64])\n",
            "torch.Size([64, 1, 32, 32]) torch.Size([64])\n",
            "torch.Size([64, 1, 32, 32]) torch.Size([64])\n",
            "torch.Size([64, 1, 32, 32]) torch.Size([64])\n",
            "torch.Size([64, 1, 32, 32]) torch.Size([64])\n",
            "torch.Size([64, 1, 32, 32]) torch.Size([64])\n",
            "torch.Size([64, 1, 32, 32]) torch.Size([64])\n",
            "torch.Size([64, 1, 32, 32]) torch.Size([64])\n",
            "torch.Size([64, 1, 32, 32]) torch.Size([64])\n",
            "torch.Size([64, 1, 32, 32]) torch.Size([64])\n",
            "torch.Size([64, 1, 32, 32]) torch.Size([64])\n",
            "torch.Size([64, 1, 32, 32]) torch.Size([64])\n",
            "torch.Size([64, 1, 32, 32]) torch.Size([64])\n",
            "torch.Size([64, 1, 32, 32]) torch.Size([64])\n",
            "torch.Size([64, 1, 32, 32]) torch.Size([64])\n",
            "torch.Size([64, 1, 32, 32]) torch.Size([64])\n",
            "torch.Size([64, 1, 32, 32]) torch.Size([64])\n",
            "torch.Size([64, 1, 32, 32]) torch.Size([64])\n",
            "torch.Size([64, 1, 32, 32]) torch.Size([64])\n",
            "torch.Size([64, 1, 32, 32]) torch.Size([64])\n",
            "torch.Size([64, 1, 32, 32]) torch.Size([64])\n",
            "torch.Size([64, 1, 32, 32]) torch.Size([64])\n",
            "torch.Size([64, 1, 32, 32]) torch.Size([64])\n",
            "torch.Size([64, 1, 32, 32]) torch.Size([64])\n",
            "torch.Size([64, 1, 32, 32]) torch.Size([64])\n",
            "torch.Size([64, 1, 32, 32]) torch.Size([64])\n",
            "torch.Size([64, 1, 32, 32]) torch.Size([64])\n",
            "torch.Size([64, 1, 32, 32]) torch.Size([64])\n",
            "torch.Size([64, 1, 32, 32]) torch.Size([64])\n",
            "torch.Size([64, 1, 32, 32]) torch.Size([64])\n",
            "torch.Size([64, 1, 32, 32]) torch.Size([64])\n",
            "torch.Size([64, 1, 32, 32]) torch.Size([64])\n",
            "torch.Size([64, 1, 32, 32]) torch.Size([64])\n",
            "torch.Size([64, 1, 32, 32]) torch.Size([64])\n",
            "torch.Size([64, 1, 32, 32]) torch.Size([64])\n",
            "torch.Size([64, 1, 32, 32]) torch.Size([64])\n",
            "torch.Size([64, 1, 32, 32]) torch.Size([64])\n",
            "torch.Size([64, 1, 32, 32]) torch.Size([64])\n",
            "torch.Size([64, 1, 32, 32]) torch.Size([64])\n",
            "torch.Size([64, 1, 32, 32]) torch.Size([64])\n",
            "torch.Size([64, 1, 32, 32]) torch.Size([64])\n",
            "torch.Size([64, 1, 32, 32]) torch.Size([64])\n",
            "torch.Size([64, 1, 32, 32]) torch.Size([64])\n",
            "torch.Size([64, 1, 32, 32]) torch.Size([64])\n",
            "torch.Size([64, 1, 32, 32]) torch.Size([64])\n",
            "torch.Size([64, 1, 32, 32]) torch.Size([64])\n",
            "torch.Size([64, 1, 32, 32]) torch.Size([64])\n",
            "torch.Size([64, 1, 32, 32]) torch.Size([64])\n",
            "torch.Size([64, 1, 32, 32]) torch.Size([64])\n",
            "torch.Size([64, 1, 32, 32]) torch.Size([64])\n",
            "torch.Size([64, 1, 32, 32]) torch.Size([64])\n",
            "torch.Size([64, 1, 32, 32]) torch.Size([64])\n",
            "torch.Size([64, 1, 32, 32]) torch.Size([64])\n",
            "torch.Size([64, 1, 32, 32]) torch.Size([64])\n",
            "torch.Size([64, 1, 32, 32]) torch.Size([64])\n",
            "torch.Size([64, 1, 32, 32]) torch.Size([64])\n",
            "torch.Size([64, 1, 32, 32]) torch.Size([64])\n",
            "torch.Size([64, 1, 32, 32]) torch.Size([64])\n",
            "torch.Size([64, 1, 32, 32]) torch.Size([64])\n",
            "torch.Size([64, 1, 32, 32]) torch.Size([64])\n",
            "torch.Size([64, 1, 32, 32]) torch.Size([64])\n",
            "torch.Size([64, 1, 32, 32]) torch.Size([64])\n",
            "torch.Size([64, 1, 32, 32]) torch.Size([64])\n",
            "torch.Size([64, 1, 32, 32]) torch.Size([64])\n",
            "torch.Size([64, 1, 32, 32]) torch.Size([64])\n",
            "torch.Size([64, 1, 32, 32]) torch.Size([64])\n",
            "torch.Size([64, 1, 32, 32]) torch.Size([64])\n",
            "torch.Size([64, 1, 32, 32]) torch.Size([64])\n",
            "torch.Size([64, 1, 32, 32]) torch.Size([64])\n",
            "torch.Size([64, 1, 32, 32]) torch.Size([64])\n",
            "torch.Size([64, 1, 32, 32]) torch.Size([64])\n",
            "torch.Size([64, 1, 32, 32]) torch.Size([64])\n",
            "torch.Size([64, 1, 32, 32]) torch.Size([64])\n",
            "torch.Size([64, 1, 32, 32]) torch.Size([64])\n",
            "torch.Size([64, 1, 32, 32]) torch.Size([64])\n",
            "torch.Size([64, 1, 32, 32]) torch.Size([64])\n",
            "torch.Size([64, 1, 32, 32]) torch.Size([64])\n",
            "torch.Size([64, 1, 32, 32]) torch.Size([64])\n",
            "torch.Size([64, 1, 32, 32]) torch.Size([64])\n",
            "torch.Size([64, 1, 32, 32]) torch.Size([64])\n",
            "torch.Size([64, 1, 32, 32]) torch.Size([64])\n",
            "torch.Size([64, 1, 32, 32]) torch.Size([64])\n",
            "torch.Size([64, 1, 32, 32]) torch.Size([64])\n",
            "torch.Size([64, 1, 32, 32]) torch.Size([64])\n",
            "torch.Size([64, 1, 32, 32]) torch.Size([64])\n",
            "torch.Size([64, 1, 32, 32]) torch.Size([64])\n",
            "torch.Size([64, 1, 32, 32]) torch.Size([64])\n",
            "torch.Size([64, 1, 32, 32]) torch.Size([64])\n",
            "torch.Size([64, 1, 32, 32]) torch.Size([64])\n",
            "torch.Size([64, 1, 32, 32]) torch.Size([64])\n",
            "torch.Size([64, 1, 32, 32]) torch.Size([64])\n",
            "torch.Size([64, 1, 32, 32]) torch.Size([64])\n",
            "torch.Size([64, 1, 32, 32]) torch.Size([64])\n",
            "torch.Size([64, 1, 32, 32]) torch.Size([64])\n",
            "torch.Size([64, 1, 32, 32]) torch.Size([64])\n",
            "torch.Size([64, 1, 32, 32]) torch.Size([64])\n",
            "torch.Size([64, 1, 32, 32]) torch.Size([64])\n",
            "torch.Size([64, 1, 32, 32]) torch.Size([64])\n",
            "torch.Size([64, 1, 32, 32]) torch.Size([64])\n",
            "torch.Size([64, 1, 32, 32]) torch.Size([64])\n",
            "torch.Size([64, 1, 32, 32]) torch.Size([64])\n",
            "torch.Size([64, 1, 32, 32]) torch.Size([64])\n",
            "torch.Size([64, 1, 32, 32]) torch.Size([64])\n",
            "torch.Size([64, 1, 32, 32]) torch.Size([64])\n",
            "torch.Size([64, 1, 32, 32]) torch.Size([64])\n",
            "torch.Size([64, 1, 32, 32]) torch.Size([64])\n",
            "torch.Size([64, 1, 32, 32]) torch.Size([64])\n",
            "torch.Size([64, 1, 32, 32]) torch.Size([64])\n",
            "torch.Size([64, 1, 32, 32]) torch.Size([64])\n",
            "torch.Size([64, 1, 32, 32]) torch.Size([64])\n",
            "torch.Size([64, 1, 32, 32]) torch.Size([64])\n",
            "torch.Size([64, 1, 32, 32]) torch.Size([64])\n",
            "torch.Size([64, 1, 32, 32]) torch.Size([64])\n",
            "torch.Size([64, 1, 32, 32]) torch.Size([64])\n",
            "torch.Size([64, 1, 32, 32]) torch.Size([64])\n",
            "torch.Size([64, 1, 32, 32]) torch.Size([64])\n",
            "torch.Size([64, 1, 32, 32]) torch.Size([64])\n",
            "torch.Size([64, 1, 32, 32]) torch.Size([64])\n",
            "torch.Size([64, 1, 32, 32]) torch.Size([64])\n",
            "torch.Size([64, 1, 32, 32]) torch.Size([64])\n",
            "torch.Size([64, 1, 32, 32]) torch.Size([64])\n",
            "torch.Size([64, 1, 32, 32]) torch.Size([64])\n",
            "torch.Size([64, 1, 32, 32]) torch.Size([64])\n"
          ]
        },
        {
          "name": "stdout",
          "output_type": "stream",
          "text": [
            "torch.Size([64, 1, 32, 32]) torch.Size([64])\n",
            "torch.Size([64, 1, 32, 32]) torch.Size([64])\n",
            "torch.Size([64, 1, 32, 32]) torch.Size([64])\n",
            "torch.Size([64, 1, 32, 32]) torch.Size([64])\n",
            "torch.Size([64, 1, 32, 32]) torch.Size([64])\n",
            "torch.Size([64, 1, 32, 32]) torch.Size([64])\n",
            "torch.Size([64, 1, 32, 32]) torch.Size([64])\n",
            "torch.Size([64, 1, 32, 32]) torch.Size([64])\n",
            "torch.Size([64, 1, 32, 32]) torch.Size([64])\n",
            "torch.Size([64, 1, 32, 32]) torch.Size([64])\n",
            "torch.Size([64, 1, 32, 32]) torch.Size([64])\n",
            "torch.Size([64, 1, 32, 32]) torch.Size([64])\n",
            "torch.Size([64, 1, 32, 32]) torch.Size([64])\n",
            "torch.Size([64, 1, 32, 32]) torch.Size([64])\n",
            "torch.Size([64, 1, 32, 32]) torch.Size([64])\n",
            "torch.Size([64, 1, 32, 32]) torch.Size([64])\n",
            "torch.Size([64, 1, 32, 32]) torch.Size([64])\n",
            "torch.Size([64, 1, 32, 32]) torch.Size([64])\n",
            "torch.Size([64, 1, 32, 32]) torch.Size([64])\n",
            "torch.Size([64, 1, 32, 32]) torch.Size([64])\n",
            "torch.Size([64, 1, 32, 32]) torch.Size([64])\n",
            "torch.Size([64, 1, 32, 32]) torch.Size([64])\n",
            "torch.Size([64, 1, 32, 32]) torch.Size([64])\n",
            "torch.Size([64, 1, 32, 32]) torch.Size([64])\n",
            "torch.Size([64, 1, 32, 32]) torch.Size([64])\n",
            "torch.Size([64, 1, 32, 32]) torch.Size([64])\n",
            "torch.Size([64, 1, 32, 32]) torch.Size([64])\n",
            "torch.Size([64, 1, 32, 32]) torch.Size([64])\n",
            "torch.Size([64, 1, 32, 32]) torch.Size([64])\n",
            "torch.Size([64, 1, 32, 32]) torch.Size([64])\n",
            "torch.Size([64, 1, 32, 32]) torch.Size([64])\n",
            "torch.Size([64, 1, 32, 32]) torch.Size([64])\n",
            "torch.Size([64, 1, 32, 32]) torch.Size([64])\n",
            "torch.Size([64, 1, 32, 32]) torch.Size([64])\n",
            "torch.Size([64, 1, 32, 32]) torch.Size([64])\n",
            "torch.Size([64, 1, 32, 32]) torch.Size([64])\n",
            "torch.Size([64, 1, 32, 32]) torch.Size([64])\n",
            "torch.Size([64, 1, 32, 32]) torch.Size([64])\n",
            "torch.Size([64, 1, 32, 32]) torch.Size([64])\n",
            "torch.Size([64, 1, 32, 32]) torch.Size([64])\n",
            "torch.Size([64, 1, 32, 32]) torch.Size([64])\n",
            "torch.Size([64, 1, 32, 32]) torch.Size([64])\n",
            "torch.Size([64, 1, 32, 32]) torch.Size([64])\n",
            "torch.Size([64, 1, 32, 32]) torch.Size([64])\n",
            "torch.Size([64, 1, 32, 32]) torch.Size([64])\n",
            "torch.Size([64, 1, 32, 32]) torch.Size([64])\n",
            "torch.Size([64, 1, 32, 32]) torch.Size([64])\n",
            "torch.Size([64, 1, 32, 32]) torch.Size([64])\n",
            "torch.Size([64, 1, 32, 32]) torch.Size([64])\n",
            "torch.Size([64, 1, 32, 32]) torch.Size([64])\n",
            "torch.Size([64, 1, 32, 32]) torch.Size([64])\n",
            "torch.Size([64, 1, 32, 32]) torch.Size([64])\n",
            "torch.Size([64, 1, 32, 32]) torch.Size([64])\n",
            "torch.Size([64, 1, 32, 32]) torch.Size([64])\n",
            "torch.Size([64, 1, 32, 32]) torch.Size([64])\n",
            "torch.Size([64, 1, 32, 32]) torch.Size([64])\n",
            "torch.Size([64, 1, 32, 32]) torch.Size([64])\n",
            "torch.Size([64, 1, 32, 32]) torch.Size([64])\n",
            "torch.Size([64, 1, 32, 32]) torch.Size([64])\n",
            "torch.Size([64, 1, 32, 32]) torch.Size([64])\n",
            "torch.Size([64, 1, 32, 32]) torch.Size([64])\n",
            "torch.Size([64, 1, 32, 32]) torch.Size([64])\n",
            "torch.Size([64, 1, 32, 32]) torch.Size([64])\n",
            "torch.Size([64, 1, 32, 32]) torch.Size([64])\n",
            "torch.Size([64, 1, 32, 32]) torch.Size([64])\n",
            "torch.Size([64, 1, 32, 32]) torch.Size([64])\n",
            "torch.Size([64, 1, 32, 32]) torch.Size([64])\n",
            "torch.Size([64, 1, 32, 32]) torch.Size([64])\n",
            "torch.Size([64, 1, 32, 32]) torch.Size([64])\n",
            "torch.Size([64, 1, 32, 32]) torch.Size([64])\n",
            "torch.Size([64, 1, 32, 32]) torch.Size([64])\n",
            "torch.Size([64, 1, 32, 32]) torch.Size([64])\n",
            "torch.Size([64, 1, 32, 32]) torch.Size([64])\n",
            "torch.Size([64, 1, 32, 32]) torch.Size([64])\n",
            "torch.Size([64, 1, 32, 32]) torch.Size([64])\n",
            "torch.Size([64, 1, 32, 32]) torch.Size([64])\n",
            "torch.Size([64, 1, 32, 32]) torch.Size([64])\n",
            "torch.Size([64, 1, 32, 32]) torch.Size([64])\n",
            "torch.Size([64, 1, 32, 32]) torch.Size([64])\n",
            "torch.Size([64, 1, 32, 32]) torch.Size([64])\n",
            "torch.Size([64, 1, 32, 32]) torch.Size([64])\n",
            "torch.Size([64, 1, 32, 32]) torch.Size([64])\n",
            "torch.Size([64, 1, 32, 32]) torch.Size([64])\n",
            "torch.Size([64, 1, 32, 32]) torch.Size([64])\n",
            "torch.Size([64, 1, 32, 32]) torch.Size([64])\n",
            "torch.Size([64, 1, 32, 32]) torch.Size([64])\n",
            "torch.Size([64, 1, 32, 32]) torch.Size([64])\n",
            "torch.Size([64, 1, 32, 32]) torch.Size([64])\n",
            "torch.Size([64, 1, 32, 32]) torch.Size([64])\n",
            "torch.Size([64, 1, 32, 32]) torch.Size([64])\n",
            "torch.Size([64, 1, 32, 32]) torch.Size([64])\n",
            "torch.Size([64, 1, 32, 32]) torch.Size([64])\n",
            "torch.Size([64, 1, 32, 32]) torch.Size([64])\n",
            "torch.Size([64, 1, 32, 32]) torch.Size([64])\n",
            "torch.Size([64, 1, 32, 32]) torch.Size([64])\n",
            "torch.Size([64, 1, 32, 32]) torch.Size([64])\n",
            "torch.Size([64, 1, 32, 32]) torch.Size([64])\n",
            "torch.Size([64, 1, 32, 32]) torch.Size([64])\n",
            "torch.Size([64, 1, 32, 32]) torch.Size([64])\n",
            "torch.Size([64, 1, 32, 32]) torch.Size([64])\n",
            "torch.Size([64, 1, 32, 32]) torch.Size([64])\n",
            "torch.Size([64, 1, 32, 32]) torch.Size([64])\n",
            "torch.Size([64, 1, 32, 32]) torch.Size([64])\n",
            "torch.Size([64, 1, 32, 32]) torch.Size([64])\n",
            "torch.Size([64, 1, 32, 32]) torch.Size([64])\n",
            "torch.Size([64, 1, 32, 32]) torch.Size([64])\n",
            "torch.Size([64, 1, 32, 32]) torch.Size([64])\n",
            "torch.Size([64, 1, 32, 32]) torch.Size([64])\n",
            "torch.Size([64, 1, 32, 32]) torch.Size([64])\n",
            "torch.Size([64, 1, 32, 32]) torch.Size([64])\n",
            "torch.Size([64, 1, 32, 32]) torch.Size([64])\n",
            "torch.Size([64, 1, 32, 32]) torch.Size([64])\n",
            "torch.Size([64, 1, 32, 32]) torch.Size([64])\n",
            "torch.Size([64, 1, 32, 32]) torch.Size([64])\n",
            "torch.Size([64, 1, 32, 32]) torch.Size([64])\n",
            "torch.Size([64, 1, 32, 32]) torch.Size([64])\n",
            "torch.Size([64, 1, 32, 32]) torch.Size([64])\n",
            "torch.Size([64, 1, 32, 32]) torch.Size([64])\n",
            "torch.Size([64, 1, 32, 32]) torch.Size([64])\n",
            "torch.Size([64, 1, 32, 32]) torch.Size([64])\n",
            "torch.Size([64, 1, 32, 32]) torch.Size([64])\n",
            "torch.Size([64, 1, 32, 32]) torch.Size([64])\n",
            "torch.Size([64, 1, 32, 32]) torch.Size([64])\n",
            "torch.Size([64, 1, 32, 32]) torch.Size([64])\n",
            "torch.Size([64, 1, 32, 32]) torch.Size([64])\n",
            "torch.Size([64, 1, 32, 32]) torch.Size([64])\n",
            "torch.Size([64, 1, 32, 32]) torch.Size([64])\n",
            "torch.Size([64, 1, 32, 32]) torch.Size([64])\n",
            "torch.Size([64, 1, 32, 32]) torch.Size([64])\n",
            "torch.Size([64, 1, 32, 32]) torch.Size([64])\n",
            "torch.Size([64, 1, 32, 32]) torch.Size([64])\n",
            "torch.Size([64, 1, 32, 32]) torch.Size([64])\n",
            "torch.Size([64, 1, 32, 32]) torch.Size([64])\n",
            "torch.Size([64, 1, 32, 32]) torch.Size([64])\n",
            "torch.Size([64, 1, 32, 32]) torch.Size([64])\n",
            "torch.Size([64, 1, 32, 32]) torch.Size([64])\n",
            "torch.Size([64, 1, 32, 32]) torch.Size([64])\n",
            "torch.Size([64, 1, 32, 32]) torch.Size([64])\n",
            "torch.Size([64, 1, 32, 32]) torch.Size([64])\n",
            "torch.Size([64, 1, 32, 32]) torch.Size([64])\n",
            "torch.Size([64, 1, 32, 32]) torch.Size([64])\n",
            "torch.Size([64, 1, 32, 32]) torch.Size([64])\n",
            "torch.Size([64, 1, 32, 32]) torch.Size([64])\n",
            "torch.Size([64, 1, 32, 32]) torch.Size([64])\n",
            "torch.Size([64, 1, 32, 32]) torch.Size([64])\n",
            "torch.Size([64, 1, 32, 32]) torch.Size([64])\n",
            "torch.Size([64, 1, 32, 32]) torch.Size([64])\n",
            "torch.Size([64, 1, 32, 32]) torch.Size([64])\n",
            "torch.Size([64, 1, 32, 32]) torch.Size([64])\n",
            "torch.Size([64, 1, 32, 32]) torch.Size([64])\n",
            "torch.Size([64, 1, 32, 32]) torch.Size([64])\n",
            "torch.Size([64, 1, 32, 32]) torch.Size([64])\n",
            "torch.Size([64, 1, 32, 32]) torch.Size([64])\n",
            "torch.Size([64, 1, 32, 32]) torch.Size([64])\n",
            "torch.Size([64, 1, 32, 32]) torch.Size([64])\n",
            "torch.Size([64, 1, 32, 32]) torch.Size([64])\n",
            "torch.Size([64, 1, 32, 32]) torch.Size([64])\n",
            "torch.Size([64, 1, 32, 32]) torch.Size([64])\n",
            "torch.Size([64, 1, 32, 32]) torch.Size([64])\n",
            "torch.Size([64, 1, 32, 32]) torch.Size([64])\n",
            "torch.Size([64, 1, 32, 32]) torch.Size([64])\n",
            "torch.Size([64, 1, 32, 32]) torch.Size([64])\n",
            "torch.Size([64, 1, 32, 32]) torch.Size([64])\n",
            "torch.Size([64, 1, 32, 32]) torch.Size([64])\n",
            "torch.Size([64, 1, 32, 32]) torch.Size([64])\n",
            "torch.Size([64, 1, 32, 32]) torch.Size([64])\n",
            "torch.Size([64, 1, 32, 32]) torch.Size([64])\n",
            "torch.Size([64, 1, 32, 32]) torch.Size([64])\n",
            "torch.Size([64, 1, 32, 32]) torch.Size([64])\n",
            "torch.Size([64, 1, 32, 32]) torch.Size([64])\n",
            "torch.Size([64, 1, 32, 32]) torch.Size([64])\n",
            "torch.Size([64, 1, 32, 32]) torch.Size([64])\n",
            "torch.Size([64, 1, 32, 32]) torch.Size([64])\n",
            "torch.Size([64, 1, 32, 32]) torch.Size([64])\n",
            "torch.Size([64, 1, 32, 32]) torch.Size([64])\n",
            "torch.Size([64, 1, 32, 32]) torch.Size([64])\n",
            "torch.Size([64, 1, 32, 32]) torch.Size([64])\n",
            "torch.Size([64, 1, 32, 32]) torch.Size([64])\n",
            "torch.Size([64, 1, 32, 32]) torch.Size([64])\n",
            "torch.Size([64, 1, 32, 32]) torch.Size([64])\n",
            "torch.Size([64, 1, 32, 32]) torch.Size([64])\n",
            "torch.Size([64, 1, 32, 32]) torch.Size([64])\n",
            "torch.Size([64, 1, 32, 32]) torch.Size([64])\n",
            "torch.Size([64, 1, 32, 32]) torch.Size([64])\n",
            "torch.Size([64, 1, 32, 32]) torch.Size([64])\n",
            "torch.Size([64, 1, 32, 32]) torch.Size([64])\n",
            "torch.Size([64, 1, 32, 32]) torch.Size([64])\n",
            "torch.Size([64, 1, 32, 32]) torch.Size([64])\n",
            "torch.Size([64, 1, 32, 32]) torch.Size([64])\n",
            "torch.Size([64, 1, 32, 32]) torch.Size([64])\n",
            "torch.Size([64, 1, 32, 32]) torch.Size([64])\n",
            "torch.Size([64, 1, 32, 32]) torch.Size([64])\n",
            "torch.Size([64, 1, 32, 32]) torch.Size([64])\n",
            "torch.Size([64, 1, 32, 32]) torch.Size([64])\n",
            "torch.Size([64, 1, 32, 32]) torch.Size([64])\n",
            "torch.Size([64, 1, 32, 32]) torch.Size([64])\n",
            "torch.Size([64, 1, 32, 32]) torch.Size([64])\n",
            "torch.Size([64, 1, 32, 32]) torch.Size([64])\n",
            "torch.Size([64, 1, 32, 32]) torch.Size([64])\n",
            "torch.Size([64, 1, 32, 32]) torch.Size([64])\n",
            "torch.Size([64, 1, 32, 32]) torch.Size([64])\n",
            "torch.Size([64, 1, 32, 32]) torch.Size([64])\n",
            "torch.Size([64, 1, 32, 32]) torch.Size([64])\n",
            "torch.Size([64, 1, 32, 32]) torch.Size([64])\n",
            "torch.Size([64, 1, 32, 32]) torch.Size([64])\n",
            "torch.Size([64, 1, 32, 32]) torch.Size([64])\n",
            "torch.Size([64, 1, 32, 32]) torch.Size([64])\n",
            "torch.Size([64, 1, 32, 32]) torch.Size([64])\n",
            "torch.Size([64, 1, 32, 32]) torch.Size([64])\n",
            "torch.Size([64, 1, 32, 32]) torch.Size([64])\n",
            "torch.Size([64, 1, 32, 32]) torch.Size([64])\n",
            "torch.Size([64, 1, 32, 32]) torch.Size([64])\n",
            "torch.Size([64, 1, 32, 32]) torch.Size([64])\n",
            "torch.Size([64, 1, 32, 32]) torch.Size([64])\n",
            "torch.Size([64, 1, 32, 32]) torch.Size([64])\n",
            "torch.Size([64, 1, 32, 32]) torch.Size([64])\n",
            "torch.Size([64, 1, 32, 32]) torch.Size([64])\n",
            "torch.Size([64, 1, 32, 32]) torch.Size([64])\n",
            "torch.Size([64, 1, 32, 32]) torch.Size([64])\n",
            "torch.Size([64, 1, 32, 32]) torch.Size([64])\n",
            "torch.Size([64, 1, 32, 32]) torch.Size([64])\n",
            "torch.Size([64, 1, 32, 32]) torch.Size([64])\n",
            "torch.Size([64, 1, 32, 32]) torch.Size([64])\n",
            "torch.Size([64, 1, 32, 32]) torch.Size([64])\n",
            "torch.Size([64, 1, 32, 32]) torch.Size([64])\n",
            "torch.Size([64, 1, 32, 32]) torch.Size([64])\n",
            "torch.Size([64, 1, 32, 32]) torch.Size([64])\n",
            "torch.Size([64, 1, 32, 32]) torch.Size([64])\n",
            "torch.Size([64, 1, 32, 32]) torch.Size([64])\n",
            "torch.Size([64, 1, 32, 32]) torch.Size([64])\n",
            "torch.Size([64, 1, 32, 32]) torch.Size([64])\n",
            "torch.Size([64, 1, 32, 32]) torch.Size([64])\n",
            "torch.Size([64, 1, 32, 32]) torch.Size([64])\n",
            "torch.Size([64, 1, 32, 32]) torch.Size([64])\n",
            "torch.Size([64, 1, 32, 32]) torch.Size([64])\n",
            "torch.Size([64, 1, 32, 32]) torch.Size([64])\n",
            "torch.Size([64, 1, 32, 32]) torch.Size([64])\n",
            "torch.Size([64, 1, 32, 32]) torch.Size([64])\n",
            "torch.Size([64, 1, 32, 32]) torch.Size([64])\n",
            "torch.Size([64, 1, 32, 32]) torch.Size([64])\n",
            "torch.Size([64, 1, 32, 32]) torch.Size([64])\n",
            "torch.Size([64, 1, 32, 32]) torch.Size([64])\n",
            "torch.Size([64, 1, 32, 32]) torch.Size([64])\n",
            "torch.Size([64, 1, 32, 32]) torch.Size([64])\n",
            "torch.Size([64, 1, 32, 32]) torch.Size([64])\n",
            "torch.Size([64, 1, 32, 32]) torch.Size([64])\n",
            "torch.Size([64, 1, 32, 32]) torch.Size([64])\n",
            "torch.Size([64, 1, 32, 32]) torch.Size([64])\n",
            "torch.Size([64, 1, 32, 32]) torch.Size([64])\n",
            "torch.Size([64, 1, 32, 32]) torch.Size([64])\n",
            "torch.Size([64, 1, 32, 32]) torch.Size([64])\n",
            "torch.Size([64, 1, 32, 32]) torch.Size([64])\n",
            "torch.Size([64, 1, 32, 32]) torch.Size([64])\n",
            "torch.Size([64, 1, 32, 32]) torch.Size([64])\n",
            "torch.Size([64, 1, 32, 32]) torch.Size([64])\n",
            "torch.Size([64, 1, 32, 32]) torch.Size([64])\n",
            "torch.Size([64, 1, 32, 32]) torch.Size([64])\n",
            "torch.Size([64, 1, 32, 32]) torch.Size([64])\n",
            "torch.Size([64, 1, 32, 32]) torch.Size([64])\n",
            "torch.Size([64, 1, 32, 32]) torch.Size([64])\n",
            "torch.Size([64, 1, 32, 32]) torch.Size([64])\n",
            "torch.Size([64, 1, 32, 32]) torch.Size([64])\n",
            "torch.Size([64, 1, 32, 32]) torch.Size([64])\n",
            "torch.Size([64, 1, 32, 32]) torch.Size([64])\n",
            "torch.Size([64, 1, 32, 32]) torch.Size([64])\n",
            "torch.Size([64, 1, 32, 32]) torch.Size([64])\n",
            "torch.Size([64, 1, 32, 32]) torch.Size([64])\n",
            "torch.Size([64, 1, 32, 32]) torch.Size([64])\n",
            "torch.Size([64, 1, 32, 32]) torch.Size([64])\n",
            "torch.Size([64, 1, 32, 32]) torch.Size([64])\n",
            "torch.Size([64, 1, 32, 32]) torch.Size([64])\n",
            "torch.Size([64, 1, 32, 32]) torch.Size([64])\n",
            "torch.Size([64, 1, 32, 32]) torch.Size([64])\n",
            "torch.Size([64, 1, 32, 32]) torch.Size([64])\n",
            "torch.Size([64, 1, 32, 32]) torch.Size([64])\n",
            "torch.Size([64, 1, 32, 32]) torch.Size([64])\n",
            "torch.Size([64, 1, 32, 32]) torch.Size([64])\n",
            "torch.Size([64, 1, 32, 32]) torch.Size([64])\n",
            "torch.Size([64, 1, 32, 32]) torch.Size([64])\n",
            "torch.Size([64, 1, 32, 32]) torch.Size([64])\n",
            "torch.Size([64, 1, 32, 32]) torch.Size([64])\n",
            "torch.Size([64, 1, 32, 32]) torch.Size([64])\n",
            "torch.Size([64, 1, 32, 32]) torch.Size([64])\n",
            "torch.Size([64, 1, 32, 32]) torch.Size([64])\n",
            "torch.Size([64, 1, 32, 32]) torch.Size([64])\n",
            "torch.Size([64, 1, 32, 32]) torch.Size([64])\n",
            "torch.Size([64, 1, 32, 32]) torch.Size([64])\n",
            "torch.Size([64, 1, 32, 32]) torch.Size([64])\n",
            "torch.Size([64, 1, 32, 32]) torch.Size([64])\n",
            "torch.Size([64, 1, 32, 32]) torch.Size([64])\n",
            "torch.Size([64, 1, 32, 32]) torch.Size([64])\n",
            "torch.Size([64, 1, 32, 32]) torch.Size([64])\n",
            "torch.Size([64, 1, 32, 32]) torch.Size([64])\n",
            "torch.Size([64, 1, 32, 32]) torch.Size([64])\n",
            "torch.Size([64, 1, 32, 32]) torch.Size([64])\n",
            "torch.Size([64, 1, 32, 32]) torch.Size([64])\n",
            "torch.Size([64, 1, 32, 32]) torch.Size([64])\n",
            "torch.Size([64, 1, 32, 32]) torch.Size([64])\n",
            "torch.Size([64, 1, 32, 32]) torch.Size([64])\n",
            "torch.Size([64, 1, 32, 32]) torch.Size([64])\n",
            "torch.Size([64, 1, 32, 32]) torch.Size([64])\n",
            "torch.Size([64, 1, 32, 32]) torch.Size([64])\n",
            "torch.Size([64, 1, 32, 32]) torch.Size([64])\n",
            "torch.Size([64, 1, 32, 32]) torch.Size([64])\n",
            "torch.Size([64, 1, 32, 32]) torch.Size([64])\n",
            "torch.Size([64, 1, 32, 32]) torch.Size([64])\n",
            "torch.Size([64, 1, 32, 32]) torch.Size([64])\n",
            "torch.Size([64, 1, 32, 32]) torch.Size([64])\n",
            "torch.Size([64, 1, 32, 32]) torch.Size([64])\n",
            "torch.Size([64, 1, 32, 32]) torch.Size([64])\n",
            "torch.Size([64, 1, 32, 32]) torch.Size([64])\n",
            "torch.Size([64, 1, 32, 32]) torch.Size([64])\n",
            "torch.Size([64, 1, 32, 32]) torch.Size([64])\n",
            "torch.Size([64, 1, 32, 32]) torch.Size([64])\n",
            "torch.Size([64, 1, 32, 32]) torch.Size([64])\n",
            "torch.Size([64, 1, 32, 32]) torch.Size([64])\n",
            "torch.Size([64, 1, 32, 32]) torch.Size([64])\n",
            "torch.Size([64, 1, 32, 32]) torch.Size([64])\n",
            "torch.Size([64, 1, 32, 32]) torch.Size([64])\n",
            "torch.Size([64, 1, 32, 32]) torch.Size([64])\n",
            "torch.Size([64, 1, 32, 32]) torch.Size([64])\n",
            "torch.Size([64, 1, 32, 32]) torch.Size([64])\n",
            "torch.Size([64, 1, 32, 32]) torch.Size([64])\n",
            "torch.Size([64, 1, 32, 32]) torch.Size([64])\n",
            "torch.Size([64, 1, 32, 32]) torch.Size([64])\n",
            "torch.Size([64, 1, 32, 32]) torch.Size([64])\n",
            "torch.Size([64, 1, 32, 32]) torch.Size([64])\n",
            "torch.Size([64, 1, 32, 32]) torch.Size([64])\n",
            "torch.Size([64, 1, 32, 32]) torch.Size([64])\n",
            "torch.Size([64, 1, 32, 32]) torch.Size([64])\n",
            "torch.Size([64, 1, 32, 32]) torch.Size([64])\n",
            "torch.Size([64, 1, 32, 32]) torch.Size([64])\n",
            "torch.Size([64, 1, 32, 32]) torch.Size([64])\n",
            "torch.Size([64, 1, 32, 32]) torch.Size([64])\n",
            "torch.Size([64, 1, 32, 32]) torch.Size([64])\n",
            "torch.Size([64, 1, 32, 32]) torch.Size([64])\n",
            "torch.Size([64, 1, 32, 32]) torch.Size([64])\n",
            "torch.Size([64, 1, 32, 32]) torch.Size([64])\n",
            "torch.Size([64, 1, 32, 32]) torch.Size([64])\n",
            "torch.Size([64, 1, 32, 32]) torch.Size([64])\n",
            "torch.Size([64, 1, 32, 32]) torch.Size([64])\n",
            "torch.Size([64, 1, 32, 32]) torch.Size([64])\n",
            "torch.Size([64, 1, 32, 32]) torch.Size([64])\n",
            "torch.Size([64, 1, 32, 32]) torch.Size([64])\n",
            "torch.Size([64, 1, 32, 32]) torch.Size([64])\n",
            "torch.Size([64, 1, 32, 32]) torch.Size([64])\n",
            "torch.Size([64, 1, 32, 32]) torch.Size([64])\n",
            "torch.Size([64, 1, 32, 32]) torch.Size([64])\n",
            "torch.Size([64, 1, 32, 32]) torch.Size([64])\n",
            "torch.Size([64, 1, 32, 32]) torch.Size([64])\n",
            "torch.Size([64, 1, 32, 32]) torch.Size([64])\n",
            "torch.Size([64, 1, 32, 32]) torch.Size([64])\n",
            "torch.Size([64, 1, 32, 32]) torch.Size([64])\n",
            "torch.Size([64, 1, 32, 32]) torch.Size([64])\n",
            "torch.Size([64, 1, 32, 32]) torch.Size([64])\n",
            "torch.Size([64, 1, 32, 32]) torch.Size([64])\n",
            "torch.Size([64, 1, 32, 32]) torch.Size([64])\n",
            "torch.Size([64, 1, 32, 32]) torch.Size([64])\n"
          ]
        },
        {
          "name": "stdout",
          "output_type": "stream",
          "text": [
            "torch.Size([64, 1, 32, 32]) torch.Size([64])\n",
            "torch.Size([64, 1, 32, 32]) torch.Size([64])\n",
            "torch.Size([64, 1, 32, 32]) torch.Size([64])\n",
            "torch.Size([64, 1, 32, 32]) torch.Size([64])\n",
            "torch.Size([64, 1, 32, 32]) torch.Size([64])\n",
            "torch.Size([64, 1, 32, 32]) torch.Size([64])\n",
            "torch.Size([64, 1, 32, 32]) torch.Size([64])\n",
            "torch.Size([64, 1, 32, 32]) torch.Size([64])\n",
            "torch.Size([64, 1, 32, 32]) torch.Size([64])\n",
            "torch.Size([64, 1, 32, 32]) torch.Size([64])\n",
            "torch.Size([64, 1, 32, 32]) torch.Size([64])\n",
            "torch.Size([64, 1, 32, 32]) torch.Size([64])\n",
            "torch.Size([64, 1, 32, 32]) torch.Size([64])\n",
            "torch.Size([64, 1, 32, 32]) torch.Size([64])\n",
            "torch.Size([64, 1, 32, 32]) torch.Size([64])\n",
            "torch.Size([64, 1, 32, 32]) torch.Size([64])\n",
            "torch.Size([64, 1, 32, 32]) torch.Size([64])\n",
            "torch.Size([64, 1, 32, 32]) torch.Size([64])\n",
            "torch.Size([64, 1, 32, 32]) torch.Size([64])\n",
            "torch.Size([64, 1, 32, 32]) torch.Size([64])\n",
            "torch.Size([64, 1, 32, 32]) torch.Size([64])\n",
            "torch.Size([64, 1, 32, 32]) torch.Size([64])\n",
            "torch.Size([64, 1, 32, 32]) torch.Size([64])\n",
            "torch.Size([64, 1, 32, 32]) torch.Size([64])\n",
            "torch.Size([64, 1, 32, 32]) torch.Size([64])\n",
            "torch.Size([64, 1, 32, 32]) torch.Size([64])\n",
            "torch.Size([64, 1, 32, 32]) torch.Size([64])\n",
            "torch.Size([64, 1, 32, 32]) torch.Size([64])\n",
            "torch.Size([64, 1, 32, 32]) torch.Size([64])\n",
            "torch.Size([64, 1, 32, 32]) torch.Size([64])\n",
            "torch.Size([64, 1, 32, 32]) torch.Size([64])\n",
            "torch.Size([64, 1, 32, 32]) torch.Size([64])\n",
            "torch.Size([64, 1, 32, 32]) torch.Size([64])\n",
            "torch.Size([64, 1, 32, 32]) torch.Size([64])\n",
            "torch.Size([64, 1, 32, 32]) torch.Size([64])\n",
            "torch.Size([64, 1, 32, 32]) torch.Size([64])\n",
            "torch.Size([64, 1, 32, 32]) torch.Size([64])\n",
            "torch.Size([64, 1, 32, 32]) torch.Size([64])\n",
            "torch.Size([64, 1, 32, 32]) torch.Size([64])\n",
            "torch.Size([64, 1, 32, 32]) torch.Size([64])\n",
            "torch.Size([64, 1, 32, 32]) torch.Size([64])\n",
            "torch.Size([64, 1, 32, 32]) torch.Size([64])\n",
            "torch.Size([64, 1, 32, 32]) torch.Size([64])\n",
            "torch.Size([64, 1, 32, 32]) torch.Size([64])\n",
            "torch.Size([64, 1, 32, 32]) torch.Size([64])\n",
            "torch.Size([64, 1, 32, 32]) torch.Size([64])\n",
            "torch.Size([64, 1, 32, 32]) torch.Size([64])\n",
            "torch.Size([64, 1, 32, 32]) torch.Size([64])\n",
            "torch.Size([64, 1, 32, 32]) torch.Size([64])\n",
            "torch.Size([64, 1, 32, 32]) torch.Size([64])\n",
            "torch.Size([64, 1, 32, 32]) torch.Size([64])\n",
            "torch.Size([64, 1, 32, 32]) torch.Size([64])\n",
            "torch.Size([64, 1, 32, 32]) torch.Size([64])\n",
            "torch.Size([64, 1, 32, 32]) torch.Size([64])\n",
            "torch.Size([64, 1, 32, 32]) torch.Size([64])\n",
            "torch.Size([64, 1, 32, 32]) torch.Size([64])\n",
            "torch.Size([64, 1, 32, 32]) torch.Size([64])\n",
            "torch.Size([64, 1, 32, 32]) torch.Size([64])\n",
            "torch.Size([64, 1, 32, 32]) torch.Size([64])\n",
            "torch.Size([64, 1, 32, 32]) torch.Size([64])\n",
            "torch.Size([64, 1, 32, 32]) torch.Size([64])\n",
            "torch.Size([64, 1, 32, 32]) torch.Size([64])\n",
            "torch.Size([64, 1, 32, 32]) torch.Size([64])\n",
            "torch.Size([64, 1, 32, 32]) torch.Size([64])\n",
            "torch.Size([64, 1, 32, 32]) torch.Size([64])\n",
            "torch.Size([64, 1, 32, 32]) torch.Size([64])\n",
            "torch.Size([64, 1, 32, 32]) torch.Size([64])\n",
            "torch.Size([64, 1, 32, 32]) torch.Size([64])\n",
            "torch.Size([64, 1, 32, 32]) torch.Size([64])\n",
            "torch.Size([64, 1, 32, 32]) torch.Size([64])\n",
            "torch.Size([64, 1, 32, 32]) torch.Size([64])\n",
            "torch.Size([64, 1, 32, 32]) torch.Size([64])\n",
            "torch.Size([64, 1, 32, 32]) torch.Size([64])\n",
            "torch.Size([64, 1, 32, 32]) torch.Size([64])\n",
            "torch.Size([64, 1, 32, 32]) torch.Size([64])\n",
            "torch.Size([64, 1, 32, 32]) torch.Size([64])\n",
            "torch.Size([64, 1, 32, 32]) torch.Size([64])\n",
            "torch.Size([64, 1, 32, 32]) torch.Size([64])\n",
            "torch.Size([64, 1, 32, 32]) torch.Size([64])\n",
            "torch.Size([64, 1, 32, 32]) torch.Size([64])\n",
            "torch.Size([64, 1, 32, 32]) torch.Size([64])\n",
            "torch.Size([64, 1, 32, 32]) torch.Size([64])\n",
            "torch.Size([64, 1, 32, 32]) torch.Size([64])\n",
            "torch.Size([64, 1, 32, 32]) torch.Size([64])\n",
            "torch.Size([64, 1, 32, 32]) torch.Size([64])\n",
            "torch.Size([64, 1, 32, 32]) torch.Size([64])\n",
            "torch.Size([64, 1, 32, 32]) torch.Size([64])\n",
            "torch.Size([64, 1, 32, 32]) torch.Size([64])\n",
            "torch.Size([64, 1, 32, 32]) torch.Size([64])\n",
            "torch.Size([64, 1, 32, 32]) torch.Size([64])\n",
            "torch.Size([64, 1, 32, 32]) torch.Size([64])\n",
            "torch.Size([64, 1, 32, 32]) torch.Size([64])\n",
            "torch.Size([64, 1, 32, 32]) torch.Size([64])\n",
            "torch.Size([64, 1, 32, 32]) torch.Size([64])\n",
            "torch.Size([64, 1, 32, 32]) torch.Size([64])\n",
            "torch.Size([64, 1, 32, 32]) torch.Size([64])\n",
            "torch.Size([64, 1, 32, 32]) torch.Size([64])\n",
            "torch.Size([64, 1, 32, 32]) torch.Size([64])\n",
            "torch.Size([64, 1, 32, 32]) torch.Size([64])\n",
            "torch.Size([64, 1, 32, 32]) torch.Size([64])\n",
            "torch.Size([64, 1, 32, 32]) torch.Size([64])\n",
            "torch.Size([64, 1, 32, 32]) torch.Size([64])\n",
            "torch.Size([64, 1, 32, 32]) torch.Size([64])\n",
            "torch.Size([64, 1, 32, 32]) torch.Size([64])\n",
            "torch.Size([64, 1, 32, 32]) torch.Size([64])\n",
            "torch.Size([64, 1, 32, 32]) torch.Size([64])\n",
            "torch.Size([64, 1, 32, 32]) torch.Size([64])\n",
            "torch.Size([64, 1, 32, 32]) torch.Size([64])\n",
            "torch.Size([64, 1, 32, 32]) torch.Size([64])\n",
            "torch.Size([64, 1, 32, 32]) torch.Size([64])\n",
            "torch.Size([64, 1, 32, 32]) torch.Size([64])\n",
            "torch.Size([64, 1, 32, 32]) torch.Size([64])\n",
            "torch.Size([64, 1, 32, 32]) torch.Size([64])\n",
            "torch.Size([64, 1, 32, 32]) torch.Size([64])\n",
            "torch.Size([64, 1, 32, 32]) torch.Size([64])\n",
            "torch.Size([64, 1, 32, 32]) torch.Size([64])\n",
            "torch.Size([64, 1, 32, 32]) torch.Size([64])\n",
            "torch.Size([64, 1, 32, 32]) torch.Size([64])\n",
            "torch.Size([64, 1, 32, 32]) torch.Size([64])\n",
            "torch.Size([64, 1, 32, 32]) torch.Size([64])\n",
            "torch.Size([64, 1, 32, 32]) torch.Size([64])\n",
            "torch.Size([64, 1, 32, 32]) torch.Size([64])\n",
            "torch.Size([64, 1, 32, 32]) torch.Size([64])\n",
            "torch.Size([64, 1, 32, 32]) torch.Size([64])\n",
            "torch.Size([64, 1, 32, 32]) torch.Size([64])\n",
            "torch.Size([64, 1, 32, 32]) torch.Size([64])\n",
            "torch.Size([64, 1, 32, 32]) torch.Size([64])\n",
            "torch.Size([64, 1, 32, 32]) torch.Size([64])\n",
            "torch.Size([64, 1, 32, 32]) torch.Size([64])\n",
            "torch.Size([64, 1, 32, 32]) torch.Size([64])\n",
            "torch.Size([64, 1, 32, 32]) torch.Size([64])\n",
            "torch.Size([64, 1, 32, 32]) torch.Size([64])\n",
            "torch.Size([64, 1, 32, 32]) torch.Size([64])\n",
            "torch.Size([64, 1, 32, 32]) torch.Size([64])\n",
            "torch.Size([64, 1, 32, 32]) torch.Size([64])\n",
            "torch.Size([64, 1, 32, 32]) torch.Size([64])\n",
            "torch.Size([64, 1, 32, 32]) torch.Size([64])\n",
            "torch.Size([64, 1, 32, 32]) torch.Size([64])\n",
            "torch.Size([64, 1, 32, 32]) torch.Size([64])\n",
            "torch.Size([64, 1, 32, 32]) torch.Size([64])\n",
            "torch.Size([64, 1, 32, 32]) torch.Size([64])\n",
            "torch.Size([64, 1, 32, 32]) torch.Size([64])\n",
            "torch.Size([64, 1, 32, 32]) torch.Size([64])\n",
            "torch.Size([64, 1, 32, 32]) torch.Size([64])\n",
            "torch.Size([64, 1, 32, 32]) torch.Size([64])\n",
            "torch.Size([64, 1, 32, 32]) torch.Size([64])\n",
            "torch.Size([64, 1, 32, 32]) torch.Size([64])\n",
            "torch.Size([64, 1, 32, 32]) torch.Size([64])\n",
            "torch.Size([64, 1, 32, 32]) torch.Size([64])\n",
            "torch.Size([64, 1, 32, 32]) torch.Size([64])\n",
            "torch.Size([64, 1, 32, 32]) torch.Size([64])\n",
            "torch.Size([64, 1, 32, 32]) torch.Size([64])\n",
            "torch.Size([64, 1, 32, 32]) torch.Size([64])\n",
            "torch.Size([64, 1, 32, 32]) torch.Size([64])\n",
            "torch.Size([64, 1, 32, 32]) torch.Size([64])\n",
            "torch.Size([64, 1, 32, 32]) torch.Size([64])\n",
            "torch.Size([64, 1, 32, 32]) torch.Size([64])\n",
            "torch.Size([64, 1, 32, 32]) torch.Size([64])\n",
            "torch.Size([64, 1, 32, 32]) torch.Size([64])\n",
            "torch.Size([64, 1, 32, 32]) torch.Size([64])\n",
            "torch.Size([64, 1, 32, 32]) torch.Size([64])\n",
            "torch.Size([64, 1, 32, 32]) torch.Size([64])\n",
            "torch.Size([64, 1, 32, 32]) torch.Size([64])\n",
            "torch.Size([64, 1, 32, 32]) torch.Size([64])\n",
            "torch.Size([64, 1, 32, 32]) torch.Size([64])\n",
            "torch.Size([64, 1, 32, 32]) torch.Size([64])\n",
            "torch.Size([64, 1, 32, 32]) torch.Size([64])\n",
            "torch.Size([64, 1, 32, 32]) torch.Size([64])\n",
            "torch.Size([64, 1, 32, 32]) torch.Size([64])\n",
            "torch.Size([64, 1, 32, 32]) torch.Size([64])\n",
            "torch.Size([64, 1, 32, 32]) torch.Size([64])\n",
            "torch.Size([64, 1, 32, 32]) torch.Size([64])\n",
            "torch.Size([64, 1, 32, 32]) torch.Size([64])\n",
            "torch.Size([64, 1, 32, 32]) torch.Size([64])\n",
            "torch.Size([64, 1, 32, 32]) torch.Size([64])\n",
            "torch.Size([64, 1, 32, 32]) torch.Size([64])\n",
            "torch.Size([64, 1, 32, 32]) torch.Size([64])\n",
            "torch.Size([64, 1, 32, 32]) torch.Size([64])\n",
            "torch.Size([64, 1, 32, 32]) torch.Size([64])\n",
            "torch.Size([64, 1, 32, 32]) torch.Size([64])\n",
            "torch.Size([64, 1, 32, 32]) torch.Size([64])\n",
            "torch.Size([64, 1, 32, 32]) torch.Size([64])\n",
            "torch.Size([64, 1, 32, 32]) torch.Size([64])\n",
            "torch.Size([64, 1, 32, 32]) torch.Size([64])\n",
            "torch.Size([64, 1, 32, 32]) torch.Size([64])\n",
            "torch.Size([64, 1, 32, 32]) torch.Size([64])\n",
            "torch.Size([64, 1, 32, 32]) torch.Size([64])\n",
            "torch.Size([64, 1, 32, 32]) torch.Size([64])\n",
            "torch.Size([64, 1, 32, 32]) torch.Size([64])\n",
            "torch.Size([64, 1, 32, 32]) torch.Size([64])\n",
            "torch.Size([64, 1, 32, 32]) torch.Size([64])\n",
            "torch.Size([64, 1, 32, 32]) torch.Size([64])\n",
            "torch.Size([64, 1, 32, 32]) torch.Size([64])\n",
            "torch.Size([64, 1, 32, 32]) torch.Size([64])\n",
            "torch.Size([64, 1, 32, 32]) torch.Size([64])\n",
            "torch.Size([64, 1, 32, 32]) torch.Size([64])\n",
            "torch.Size([64, 1, 32, 32]) torch.Size([64])\n",
            "torch.Size([64, 1, 32, 32]) torch.Size([64])\n",
            "torch.Size([64, 1, 32, 32]) torch.Size([64])\n",
            "torch.Size([64, 1, 32, 32]) torch.Size([64])\n",
            "torch.Size([64, 1, 32, 32]) torch.Size([64])\n",
            "torch.Size([64, 1, 32, 32]) torch.Size([64])\n",
            "torch.Size([64, 1, 32, 32]) torch.Size([64])\n",
            "torch.Size([64, 1, 32, 32]) torch.Size([64])\n",
            "torch.Size([64, 1, 32, 32]) torch.Size([64])\n",
            "torch.Size([64, 1, 32, 32]) torch.Size([64])\n",
            "torch.Size([64, 1, 32, 32]) torch.Size([64])\n",
            "torch.Size([64, 1, 32, 32]) torch.Size([64])\n",
            "torch.Size([64, 1, 32, 32]) torch.Size([64])\n",
            "torch.Size([64, 1, 32, 32]) torch.Size([64])\n",
            "torch.Size([64, 1, 32, 32]) torch.Size([64])\n",
            "torch.Size([64, 1, 32, 32]) torch.Size([64])\n",
            "torch.Size([64, 1, 32, 32]) torch.Size([64])\n",
            "torch.Size([64, 1, 32, 32]) torch.Size([64])\n",
            "torch.Size([64, 1, 32, 32]) torch.Size([64])\n",
            "torch.Size([64, 1, 32, 32]) torch.Size([64])\n",
            "torch.Size([64, 1, 32, 32]) torch.Size([64])\n",
            "torch.Size([64, 1, 32, 32]) torch.Size([64])\n",
            "torch.Size([64, 1, 32, 32]) torch.Size([64])\n",
            "torch.Size([64, 1, 32, 32]) torch.Size([64])\n",
            "torch.Size([64, 1, 32, 32]) torch.Size([64])\n",
            "torch.Size([64, 1, 32, 32]) torch.Size([64])\n",
            "torch.Size([64, 1, 32, 32]) torch.Size([64])\n",
            "torch.Size([64, 1, 32, 32]) torch.Size([64])\n",
            "torch.Size([64, 1, 32, 32]) torch.Size([64])\n",
            "torch.Size([64, 1, 32, 32]) torch.Size([64])\n",
            "torch.Size([64, 1, 32, 32]) torch.Size([64])\n",
            "torch.Size([64, 1, 32, 32]) torch.Size([64])\n",
            "torch.Size([64, 1, 32, 32]) torch.Size([64])\n",
            "torch.Size([64, 1, 32, 32]) torch.Size([64])\n",
            "torch.Size([64, 1, 32, 32]) torch.Size([64])\n",
            "torch.Size([64, 1, 32, 32]) torch.Size([64])\n",
            "torch.Size([64, 1, 32, 32]) torch.Size([64])\n",
            "torch.Size([64, 1, 32, 32]) torch.Size([64])\n",
            "torch.Size([64, 1, 32, 32]) torch.Size([64])\n",
            "torch.Size([64, 1, 32, 32]) torch.Size([64])\n",
            "torch.Size([64, 1, 32, 32]) torch.Size([64])\n",
            "torch.Size([64, 1, 32, 32]) torch.Size([64])\n",
            "torch.Size([64, 1, 32, 32]) torch.Size([64])\n",
            "torch.Size([64, 1, 32, 32]) torch.Size([64])\n",
            "torch.Size([64, 1, 32, 32]) torch.Size([64])\n",
            "torch.Size([64, 1, 32, 32]) torch.Size([64])\n",
            "torch.Size([64, 1, 32, 32]) torch.Size([64])\n",
            "torch.Size([64, 1, 32, 32]) torch.Size([64])\n",
            "torch.Size([64, 1, 32, 32]) torch.Size([64])\n",
            "torch.Size([64, 1, 32, 32]) torch.Size([64])\n",
            "torch.Size([64, 1, 32, 32]) torch.Size([64])\n",
            "torch.Size([64, 1, 32, 32]) torch.Size([64])\n",
            "torch.Size([64, 1, 32, 32]) torch.Size([64])\n",
            "torch.Size([64, 1, 32, 32]) torch.Size([64])\n",
            "torch.Size([64, 1, 32, 32]) torch.Size([64])\n",
            "torch.Size([64, 1, 32, 32]) torch.Size([64])\n",
            "torch.Size([64, 1, 32, 32]) torch.Size([64])\n",
            "torch.Size([64, 1, 32, 32]) torch.Size([64])\n",
            "torch.Size([64, 1, 32, 32]) torch.Size([64])\n",
            "torch.Size([64, 1, 32, 32]) torch.Size([64])\n",
            "torch.Size([64, 1, 32, 32]) torch.Size([64])\n",
            "torch.Size([64, 1, 32, 32]) torch.Size([64])\n",
            "torch.Size([64, 1, 32, 32]) torch.Size([64])\n",
            "torch.Size([64, 1, 32, 32]) torch.Size([64])\n",
            "torch.Size([64, 1, 32, 32]) torch.Size([64])\n",
            "torch.Size([64, 1, 32, 32]) torch.Size([64])\n",
            "torch.Size([64, 1, 32, 32]) torch.Size([64])\n",
            "torch.Size([64, 1, 32, 32]) torch.Size([64])\n",
            "torch.Size([32, 1, 32, 32]) torch.Size([32])\n"
          ]
        }
      ],
      "source": [
        "for images, labels in train_loader:\n",
        "    # Шаг градиентного спуска\n",
        "    print(images.shape, labels.shape)"
      ]
    },
    {
      "cell_type": "code",
      "execution_count": null,
      "id": "fc776592",
      "metadata": {
        "id": "fc776592"
      },
      "outputs": [],
      "source": []
    }
  ],
  "metadata": {
    "kernelspec": {
      "display_name": "Python 3 (ipykernel)",
      "language": "python",
      "name": "python3"
    },
    "language_info": {
      "codemirror_mode": {
        "name": "ipython",
        "version": 3
      },
      "file_extension": ".py",
      "mimetype": "text/x-python",
      "name": "python",
      "nbconvert_exporter": "python",
      "pygments_lexer": "ipython3",
      "version": "3.10.4"
    },
    "colab": {
      "provenance": [],
      "include_colab_link": true
    }
  },
  "nbformat": 4,
  "nbformat_minor": 5
}